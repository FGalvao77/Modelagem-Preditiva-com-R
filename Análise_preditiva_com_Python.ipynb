{
  "nbformat": 4,
  "nbformat_minor": 0,
  "metadata": {
    "colab": {
      "name": "Análise preditiva com Python.ipynb",
      "provenance": [],
      "collapsed_sections": [],
      "authorship_tag": "ABX9TyP+lF3RHzE9FYhL9GFUL1ke",
      "include_colab_link": true
    },
    "kernelspec": {
      "name": "python3",
      "display_name": "Python 3"
    },
    "language_info": {
      "name": "python"
    }
  },
  "cells": [
    {
      "cell_type": "markdown",
      "metadata": {
        "id": "view-in-github",
        "colab_type": "text"
      },
      "source": [
        "<a href=\"https://colab.research.google.com/github/FGalvao77/Modelagem-Preditiva-com-R-e-Python/blob/main/An%C3%A1lise_preditiva_com_Python.ipynb\" target=\"_parent\"><img src=\"https://colab.research.google.com/assets/colab-badge.svg\" alt=\"Open In Colab\"/></a>"
      ]
    },
    {
      "cell_type": "markdown",
      "metadata": {
        "id": "QKfIKQxqMUVG"
      },
      "source": [
        "# **LIVRO: ANÁLISE PREDITIVA PARA LEIGOS**\n",
        "\n",
        "---"
      ]
    },
    {
      "cell_type": "markdown",
      "metadata": {
        "id": "-gGVqs-ZMZoL"
      },
      "source": [
        "Um projeto de análise preditiva combina a execução de detalhes e o pensamento abrangente. Estas dicas práticas e checklists ajudarão a manter seu projeto nos trilhos e livre de problemas."
      ]
    },
    {
      "cell_type": "markdown",
      "metadata": {
        "id": "CYpgryOdkNk4"
      },
      "source": [
        "### **A Ascensão dos Dados Abertos**\n",
        "\n",
        "Bob Lytle, CEO da rel8ed.to (www.rel8ed.to [conteúdo em inglês]), e mais recentemente conhecido como ex-CIO da TransUnion Canada, está liderando os esforços no uso da informação pública como uma alternativa e fonte estratégica de dados para a modelagem preditiva nos serviços financeiros e setores de seguro.\n",
        "\n",
        "O movimento Dados Abertos surgiu da ideia de que o acesso aos dados governamentais deveria ser livre e disponível para que todos usassem. Veja alguns exemplos de dados abertos [conteúdo dos três primeiros sites em inglês]:\n",
        "\n",
        "- Dados da Agência Federal dos Estados Unidos: www.data.gov\n",
        "- Dados abertos do Governo do Canadá: http://open.canada.ca\n",
        "- Dados abertos do Banco Mundial: http://data.worldbank.org\n",
        "- Dados abertos do Governo Brasileiro: http://dados.gov.br\n",
        "\n",
        "O movimento dos Dados Abertos foi parte de uma teoria simples, como diz Bob: “Nós, como cidadãos, somos o governo, e, portanto, temos o direito de entender e até reutilizar as informações geradas pelos órgãos municipais, estaduais e federais.” Entretanto, alguns dados permanecerão privados. Outra realidade sobre os dados abertos é que eles são sujos.\n",
        "\n",
        "Os dados públicos frequentemente são incompletos, com valores ausentes. A equipe da rel8ed.to está construindo uma plataforma para limpar e reduzir dados públicos que estarão prontos para uso para modeladores em diversos segmentos de negócios. A equipe de Bob também usou dados públicos para gerar predições movidas por dados abertos para encontrar os 10% dos negócios que provavelmente fracassariam em 2017, e os 10% dos negócios que irão crescer e se ampliar. Modelos preditivos usando informação de dados abertos podem ser usados por instituições financeiras para verificar tendências de portfólios e agir logo no início do ciclo, antes da aversão de risco ou que eventos negativos ocorram."
      ]
    },
    {
      "cell_type": "markdown",
      "metadata": {
        "id": "zpyrTP7nMhQ7"
      },
      "source": [
        "## **CONSTRUINDO UM MODELO DE ANÁLISE PREDITIVA**\n",
        "\n",
        "---\n",
        "\n",
        "Um projeto de análise preditiva bem-sucedido é executado passa a passo. Conforme você mergulha nos detalhes do projeto, preste atenção nestas etapas importantes:\n",
        "\n",
        "\n",
        "\n",
        "**1.   Definindo os Objetivos do Negócio**<br>\n",
        "- O projeto começa com a utilização de um objetivo de negócio bem definido. O modelo deve lidar com um problema ou necessidade do negócio. Determinar claramente esse objetivo permitirá a definição do escopo de seu projeto e proporcionará um teste preciso para mensurar seu sucesso.\n",
        "\n",
        "**2.   Preparando os Dados**<br>\n",
        "- Você utilizará dados históricos para treinar seu modelo. Os dados normalmente estão espalhados em diversas fontes e podem requerer limpeza e preparação. Os dados podem conter registros duplicados e atípicos; dependendo da análise do objetivo do negócio, você decide se quer mantê-los ou não. Os dados também podem ter valores ausentes, precisar se algum tipo de transformação e ser usados para gerar atributos derivados que tenham mais poder preditivo para seu objetivo. De modo geral, a qualidade dos dados é um indicativo da qualidade do modelo.\n",
        "\n",
        "**3.   Criando Amostras de Seus Dados**<br>\n",
        "- Você terá que dividir seus dados em dois conjuntos: de treinamento e de teste. Seu modelo é construído usando-se o conjunto de dados de treinamento. Use o conjunto de dados de teste para verificar a precisão do resultado do modelo. Esse é um ponto crucial. Caso contrário, corre-se o risco de sobreajustar seu modelo - treiná-los com um conjunto de dados limitado, a ponto de o modelo selecionar todas as caracterśticas (tanto o sinal quanto o ruído) que são verdadeiras apenas para aquele conjunto de dados. Um modelo sobreajustado para um conjunto de dados específicos terá um desempenho ineficaz ao executar outros conjuntos de dados. Um conjunto de dados de teste garante um caminho válido para medir o desempenho de seu modelo.\n",
        "\n",
        "**4.   Construindo o Modelo**<br>\n",
        "- Algumas vezes os dados ou os objetivos do negócio se adaptam naturalmente a um algoritmo ou modelo específico. Em outras, a melhor abordagem não é óbvia. À medida que explora os dados, execute o máximo de algoritmos que puder e compare os resultados. Baseie sua escolha do modelo final nos resultados gerais. Às vezes é melhor executar um conjunto de modelos simultaneamente nos dados e escolher o modelo final comparando seus resultados.\n",
        "\n",
        "**5.    Implementando o Modelo**<br>\n",
        "- Depois de construir o modelo, é preciso implementá-lo para que se posso colher seus benefícios. Esse processo pode requerer a coordenação com outros departamentos. Tenha por objetivo construir um modelo implementável. Certifique-se também de que sabe como apresentar os resultados para as partes interessadas no negócio de maneira compreensível e convicente, para que seu modelo seja adequado. Depois que o modelo for implementado, é preciso monitorar seu desempenho e continuar a aprimorá-lo. A maioria dos modelos perde eficiência depois de um certo tempo. Mantenha seu modelo atualizado, revigorando-o com novos dados disponíveis.\n"
      ]
    },
    {
      "cell_type": "markdown",
      "metadata": {
        "id": "BCniwDFPMt5U"
      },
      "source": [
        "## **FONTES DE DADOS PARA PROJETOS DE ANÁLISE PREDITIVA**\n",
        "\n",
        "---"
      ]
    },
    {
      "cell_type": "markdown",
      "metadata": {
        "id": "eJ_l-0_lMytZ"
      },
      "source": [
        "Os dados para um projeto de análise preditiva podem vir de muitas fontes diferentes. Algumas das fontes mais comuns estão dentro de sua própria organização, e outras incluem dados comprados de fornecedores externos.\n",
        "\n",
        "Fontes de dados internas incluem:\n",
        "\n",
        "- __Dados transacionais, como as compras dos clientes.__\n",
        "- __Perfis de clientes, como as informações obtidas dos clientes a partir de formulários de registro.__\n",
        "- __Históricos de campanhas, incluindo se os clientes responderram ou não aos anúncios.__\n",
        "- __Dados de sequências de cliques, incluindo os padrões de cliques dos clientes na internet.__\n",
        "- __Interações com os clientes, como e-amils, chats, pesquisas e serviços de atendimento ao cliente.__\n",
        "- __Dados gerados por máquina, como os obtidos da telemática, sensores e medidores inteligentes.__\n",
        "\n",
        "Fontes de dados externas incluem:\n",
        "\n",
        "- __Mídia social, como Facebook, Twiter e Linkedin.__\n",
        "- __Serviços de assinatura, como Bloomberg, Thompson Reuters, Esri e Westlaw.__\n",
        "\n",
        "Ao combinar os dados de diversas fontes bem diferentes em seus modelos preditivos, você obtém uma melhor visão geral de seu cliente e, assim, um modelo mais preciso.\n",
        "\n"
      ]
    },
    {
      "cell_type": "markdown",
      "metadata": {
        "id": "dOT_zdBVM7l0"
      },
      "source": [
        "## **Modelagem Preditiva com Python**\n",
        "\n",
        "---"
      ]
    },
    {
      "cell_type": "markdown",
      "metadata": {
        "id": "ukB8j9UqJhrF"
      },
      "source": [
        "### **Preparando os Dados**\n",
        "\n",
        "Quando você está aprendendo uma nova linguagem de programação, é costume escrever o programa “hello world”. Para o aprendizado de máquina e análise preditiva, a criação de um modelo para classificar o conjunto de dados Iris é o equivalente a “hello world”. Este é um exemplo bastante simples, mas muito eficaz, no ensino das noções básicas de aprendizado de máquina e análise preditiva.\n",
        "\n",
        "**Obtendo o conjunto de amostra de dados**\n",
        "\n",
        "Para criar nosso modelo preditivo, você precisará baixar o exemplo do conjunto de dados Iris. Esse conjunto de dados está disponível gratuitamente em muitas fontes, especialmente em instituições acadêmicas que têm departamentos de aprendizado de máquina. Felizmente, o pessoal da scikit-learn foi muito bonzinho e incluiu alguns conjuntos de dados de amostra e funções de carregamento de dados junto com seu pacote. Portanto, para os propósitos desses exemplos, você só precisará executar algumas linhas simples de código para carregar os dados.\n",
        "\n",
        "**Rotulando seus dados**\n",
        "\n",
        "A Tabela 12-1 mostra uma observação e suas características de cada classe do conjunto de dados da flor Iris.\n",
        "\n",
        "\n",
        "\n",
        "TABELA 12-1 **O Conjunto de Dados da Flor Iris**"
      ]
    },
    {
      "cell_type": "markdown",
      "metadata": {
        "id": "a3jvrdBTJ38d"
      },
      "source": [
        "        ____________________________________________________________________\n",
        "        Comprimento    Largura     Comprimento    Largura    Classe Alvo/\n",
        "        Sépala         Sépala      Pétala         Pétala     Rótulo\n",
        "        ____________________________________________________________________\n",
        "        5.1            3.5         1.4            0.2        Setosa (0)\n",
        "        --------------------------------------------------------------------\n",
        "        7.0            3.2         4.7            1.4        Versicolor (1)\n",
        "        --------------------------------------------------------------------\n",
        "        6.3            3.3         6.0            2.5        Virginica (2)\n",
        "        ____________________________________________________________________\n"
      ]
    },
    {
      "cell_type": "markdown",
      "metadata": {
        "id": "Js1IacAWLub7"
      },
      "source": [
        "O conjunto de dados da flor Iris é um conjunto de dados multivariado real de três classes da flor Iris (Iris setosa, Iris virginica e Iris versicolor) apresentado por Ronald Fisher em seu artigo de 1936 “The Use of Multiple Measurements in Taxonomic Problems” (O uso de múltiplas medições em problemas taxonômicos, em tradução livre). Esse conjunto de dados é mais conhecido por sua ampla utilização no meio acadêmico paro aprendizado de máquina e estatística, e é composto de 150 instâncias, com 50 instâncias de cada uma das 3 classes da flor Iris. A amostra tem 4 características (também chamados atributos), que são as medidas de comprimento e largura das sépalas e pétalas.\n",
        "\n",
        "A parte interessante desse conjunto de dados é que as três classes são, de certa forma, linearmente separáveis. A classe Setosa pode ser separada das outras duas classes desenhando-se uma linha reta no gráfico entre elas. As classes Virginica e Versicolor não podem ser perfeitamente separadas usando-se uma linha reta — embora isso quase seja possível. Isso faz com que ele seja um conjunto de dados perfeito para a análise de classificação, mas não tão bom para a análise de agrupamento.\n",
        "\n",
        "Os dados da amostra já estavam rotulados. A coluna da direita (Rótulo) da Tabela 12-1 mostra os nomes de cada classe da flor Iris. O nome da classe é chamado de rótulo (label) ou alvo (target), e geralmente é atribuído a uma variável nomeada y. É basicamente a saída ou o resultado do que está sendo previsto. Em estatística e modelagem, muitas vezes é chamado de variável dependente. Depende das entradas que correspondem ao comprimento e largura da sépala e ao comprimento e largura da pétala.\n",
        "\n",
        "Você também deve estar curioso para saber o que é diferente no conjunto de dados Íris pré-processado com scikit, em comparação com o conjunto de dados original. Para descobrir, você precisa obter o arquivo de dados original. Você pode fazer uma pesquisa no Google por conjunto de dados íris e baixá-lo ou visualizá-lo a partir do site de qualquer uma das instituições acadêmicas. O resultado que geralmente aparece primeiro é o repositório de dados de aprendizado de máquina da Universidade da Califórnia de Irvine (UCI). A seguir, um link direto para o conjunto de dados Iris em seu estado original do repositório de aprendizado de máquina da UCI:\n",
        "\n",
        "http://archive.ics.uci.edu/ml/machine-learning-databases/iris/iris.data\n",
        "\n",
        "Se baixar o conjunto de dados, você poderá visualizá-lo com qualquer editor de texto. Ao visualizar os dados no arquivo, perceberá que existem cinco colunas em cada linha. As primeiras quatro colunas são as medidas (referidas como atributos), e a última coluna é o rótulo (label). O rótulo é diferente no original e na versão scikit do conjunto de dados Iris. Outra diferença é a primeira linha do arquivo de dados scikit. Ela inclui uma linha de cabeçalho usada pela função de carregamento de dados do scikit e que não tem qualquer efeito nos algoritmos."
      ]
    },
    {
      "cell_type": "markdown",
      "metadata": {
        "id": "LnxJYxniL2jo"
      },
      "source": [
        "![image.png](data:image/png;base64,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)"
      ]
    },
    {
      "cell_type": "markdown",
      "metadata": {
        "id": "3sFeUb3tL8LR"
      },
      "source": [
        "> Transformar atributos em números, em vez de mantê-los como texto, facilita o processamento dos algoritmos — e é muito mais eficiente em termos de memória. Isso é especialmente evidente ao executar conjuntos de dados muito grandes com muitos atributos — o que geralmente é o caso em cenários reais.\n",
        "\n",
        "A Tabela 12-2 mostra dados de amostra de ambos os arquivos. Todas as colunas de dados são as mesmas, exceto a Col5. Observe que scikit tem nomes de classe com rótulos numéricos, e o arquivo original tem rótulos de texto.\n",
        "\n"
      ]
    },
    {
      "cell_type": "markdown",
      "metadata": {
        "id": "Y8k1mFnLMBV8"
      },
      "source": [
        "TABELA 12-2 **Dados de Amostra**"
      ]
    },
    {
      "cell_type": "markdown",
      "metadata": {
        "id": "r2Lf4E2DNKCP"
      },
      "source": [
        "        ___________________________________________________________________\n",
        "        Fonte      Col1      Col2      Col3      Col4      Col5\n",
        "        ___________________________________________________________________\n",
        "        scikit     5.1       3.5       1.4       0.2       0\n",
        "        original   5.1       3.5       1.4       0.2       Iris-setosa\n",
        "        -------------------------------------------------------------------\n",
        "        scikit     7.0       3.2       4.7       1.4       1\n",
        "        original   7.0       3.2       4.7       1.4       Iris-versicolor\n",
        "        -------------------------------------------------------------------\n",
        "        scikit     6.3       3.3       6.0       2.5       2\n",
        "        original   6.3       3.3       6.0       2.5       Iris-virginica\n",
        "        ___________________________________________________________________"
      ]
    },
    {
      "cell_type": "markdown",
      "metadata": {
        "id": "FBsmCJMyPZH1"
      },
      "source": [
        "## **Fazendo Predições Usando Algoritmos de Classificação**\n",
        "\n",
        "Você tem todas as ferramentas e dados necessários para começar a criar um modelo preditivo. A diversão começa agora!\n",
        "\n",
        "Em geral, a criação de um modelo de aprendizado para tarefas de classificação exige as seguintes etapas:\n",
        "\n",
        " 1. __Carregar os dados.__\n",
        " 2. __Escolher um classificador.__\n",
        " 3. __Treinar o modelo.__\n",
        " 4. __Visualizar o modelo.__\n",
        " 5. __Testar o modelo.__\n",
        " 6. __Avaliar o modelo.__\n",
        "\n",
        "**Criando um modelo de aprendizado supervisionado com SVM**\n",
        "\n",
        "O aprendizado supervisionado é uma tarefa de aprendizado de máquina que aprende a partir de dados rotulados. Uma maneira de pensar no aprendizado supervisionado é que a rotulagem dos dados é feita sob a supervisão do modelador; o aprendizado não supervisionado, por outro lado, não requer dados rotulados. O aprendizado supervisionado é comumente realizado usando-se um algoritmo de classificação. Nesta seção você usará o algoritmo de classificação Máquina de Vetores de Suporte (support vector machine — SVM) para criar um modelo de aprendizado supervisionado."
      ]
    },
    {
      "cell_type": "markdown",
      "metadata": {
        "id": "WdgpHakgQFWw"
      },
      "source": [
        "### **Carregando seus dados**\n",
        "\n",
        "Você precisa carregar os dados para seus algoritmos usarem. Carregar o conjunto de dados Iris em scikit é tão simples como emitir algumas linhas de código, porque o scikit já criou uma função para carregar o conjunto de dados."
      ]
    },
    {
      "cell_type": "code",
      "metadata": {
        "id": "iyKQjd2jHXpz"
      },
      "source": [
        "# carregando o conjunto de dados da biblioteca do scikit learn\n",
        "from sklearn.datasets import load_iris\n",
        "\n",
        "# instanciando o conjunto de dados na variável \"iris\"\n",
        "iris = load_iris()"
      ],
      "execution_count": 175,
      "outputs": []
    },
    {
      "cell_type": "markdown",
      "metadata": {
        "id": "pVKv7sOwRK9J"
      },
      "source": [
        "> Depois de executar essas duas declarações, você não deve ver nenhuma mensagem do interpretador. A variável iris deve conter todos os dados do arquivo iris.csv."
      ]
    },
    {
      "cell_type": "markdown",
      "metadata": {
        "id": "0EeTVrtrRPr9"
      },
      "source": [
        "Antes de criar um modelo preditivo, é importante entender um pouco sobre a nova variável iris e o que você pode fazer com ela. Isso torna o código mais fácil de acompanhar e o processo muito mais simples de entender. Você pode verificar o valor de iris digitando no interpretador:"
      ]
    },
    {
      "cell_type": "code",
      "metadata": {
        "colab": {
          "base_uri": "https://localhost:8080/"
        },
        "id": "MhakrxfDHcap",
        "outputId": "cf60801f-bd5d-459f-ee09-80ea68a1e18a"
      },
      "source": [
        "# visualizando o conjunto de dados\n",
        "iris"
      ],
      "execution_count": 176,
      "outputs": [
        {
          "output_type": "execute_result",
          "data": {
            "text/plain": [
              "{'DESCR': '.. _iris_dataset:\\n\\nIris plants dataset\\n--------------------\\n\\n**Data Set Characteristics:**\\n\\n    :Number of Instances: 150 (50 in each of three classes)\\n    :Number of Attributes: 4 numeric, predictive attributes and the class\\n    :Attribute Information:\\n        - sepal length in cm\\n        - sepal width in cm\\n        - petal length in cm\\n        - petal width in cm\\n        - class:\\n                - Iris-Setosa\\n                - Iris-Versicolour\\n                - Iris-Virginica\\n                \\n    :Summary Statistics:\\n\\n    ============== ==== ==== ======= ===== ====================\\n                    Min  Max   Mean    SD   Class Correlation\\n    ============== ==== ==== ======= ===== ====================\\n    sepal length:   4.3  7.9   5.84   0.83    0.7826\\n    sepal width:    2.0  4.4   3.05   0.43   -0.4194\\n    petal length:   1.0  6.9   3.76   1.76    0.9490  (high!)\\n    petal width:    0.1  2.5   1.20   0.76    0.9565  (high!)\\n    ============== ==== ==== ======= ===== ====================\\n\\n    :Missing Attribute Values: None\\n    :Class Distribution: 33.3% for each of 3 classes.\\n    :Creator: R.A. Fisher\\n    :Donor: Michael Marshall (MARSHALL%PLU@io.arc.nasa.gov)\\n    :Date: July, 1988\\n\\nThe famous Iris database, first used by Sir R.A. Fisher. The dataset is taken\\nfrom Fisher\\'s paper. Note that it\\'s the same as in R, but not as in the UCI\\nMachine Learning Repository, which has two wrong data points.\\n\\nThis is perhaps the best known database to be found in the\\npattern recognition literature.  Fisher\\'s paper is a classic in the field and\\nis referenced frequently to this day.  (See Duda & Hart, for example.)  The\\ndata set contains 3 classes of 50 instances each, where each class refers to a\\ntype of iris plant.  One class is linearly separable from the other 2; the\\nlatter are NOT linearly separable from each other.\\n\\n.. topic:: References\\n\\n   - Fisher, R.A. \"The use of multiple measurements in taxonomic problems\"\\n     Annual Eugenics, 7, Part II, 179-188 (1936); also in \"Contributions to\\n     Mathematical Statistics\" (John Wiley, NY, 1950).\\n   - Duda, R.O., & Hart, P.E. (1973) Pattern Classification and Scene Analysis.\\n     (Q327.D83) John Wiley & Sons.  ISBN 0-471-22361-1.  See page 218.\\n   - Dasarathy, B.V. (1980) \"Nosing Around the Neighborhood: A New System\\n     Structure and Classification Rule for Recognition in Partially Exposed\\n     Environments\".  IEEE Transactions on Pattern Analysis and Machine\\n     Intelligence, Vol. PAMI-2, No. 1, 67-71.\\n   - Gates, G.W. (1972) \"The Reduced Nearest Neighbor Rule\".  IEEE Transactions\\n     on Information Theory, May 1972, 431-433.\\n   - See also: 1988 MLC Proceedings, 54-64.  Cheeseman et al\"s AUTOCLASS II\\n     conceptual clustering system finds 3 classes in the data.\\n   - Many, many more ...',\n",
              " 'data': array([[5.1, 3.5, 1.4, 0.2],\n",
              "        [4.9, 3. , 1.4, 0.2],\n",
              "        [4.7, 3.2, 1.3, 0.2],\n",
              "        [4.6, 3.1, 1.5, 0.2],\n",
              "        [5. , 3.6, 1.4, 0.2],\n",
              "        [5.4, 3.9, 1.7, 0.4],\n",
              "        [4.6, 3.4, 1.4, 0.3],\n",
              "        [5. , 3.4, 1.5, 0.2],\n",
              "        [4.4, 2.9, 1.4, 0.2],\n",
              "        [4.9, 3.1, 1.5, 0.1],\n",
              "        [5.4, 3.7, 1.5, 0.2],\n",
              "        [4.8, 3.4, 1.6, 0.2],\n",
              "        [4.8, 3. , 1.4, 0.1],\n",
              "        [4.3, 3. , 1.1, 0.1],\n",
              "        [5.8, 4. , 1.2, 0.2],\n",
              "        [5.7, 4.4, 1.5, 0.4],\n",
              "        [5.4, 3.9, 1.3, 0.4],\n",
              "        [5.1, 3.5, 1.4, 0.3],\n",
              "        [5.7, 3.8, 1.7, 0.3],\n",
              "        [5.1, 3.8, 1.5, 0.3],\n",
              "        [5.4, 3.4, 1.7, 0.2],\n",
              "        [5.1, 3.7, 1.5, 0.4],\n",
              "        [4.6, 3.6, 1. , 0.2],\n",
              "        [5.1, 3.3, 1.7, 0.5],\n",
              "        [4.8, 3.4, 1.9, 0.2],\n",
              "        [5. , 3. , 1.6, 0.2],\n",
              "        [5. , 3.4, 1.6, 0.4],\n",
              "        [5.2, 3.5, 1.5, 0.2],\n",
              "        [5.2, 3.4, 1.4, 0.2],\n",
              "        [4.7, 3.2, 1.6, 0.2],\n",
              "        [4.8, 3.1, 1.6, 0.2],\n",
              "        [5.4, 3.4, 1.5, 0.4],\n",
              "        [5.2, 4.1, 1.5, 0.1],\n",
              "        [5.5, 4.2, 1.4, 0.2],\n",
              "        [4.9, 3.1, 1.5, 0.2],\n",
              "        [5. , 3.2, 1.2, 0.2],\n",
              "        [5.5, 3.5, 1.3, 0.2],\n",
              "        [4.9, 3.6, 1.4, 0.1],\n",
              "        [4.4, 3. , 1.3, 0.2],\n",
              "        [5.1, 3.4, 1.5, 0.2],\n",
              "        [5. , 3.5, 1.3, 0.3],\n",
              "        [4.5, 2.3, 1.3, 0.3],\n",
              "        [4.4, 3.2, 1.3, 0.2],\n",
              "        [5. , 3.5, 1.6, 0.6],\n",
              "        [5.1, 3.8, 1.9, 0.4],\n",
              "        [4.8, 3. , 1.4, 0.3],\n",
              "        [5.1, 3.8, 1.6, 0.2],\n",
              "        [4.6, 3.2, 1.4, 0.2],\n",
              "        [5.3, 3.7, 1.5, 0.2],\n",
              "        [5. , 3.3, 1.4, 0.2],\n",
              "        [7. , 3.2, 4.7, 1.4],\n",
              "        [6.4, 3.2, 4.5, 1.5],\n",
              "        [6.9, 3.1, 4.9, 1.5],\n",
              "        [5.5, 2.3, 4. , 1.3],\n",
              "        [6.5, 2.8, 4.6, 1.5],\n",
              "        [5.7, 2.8, 4.5, 1.3],\n",
              "        [6.3, 3.3, 4.7, 1.6],\n",
              "        [4.9, 2.4, 3.3, 1. ],\n",
              "        [6.6, 2.9, 4.6, 1.3],\n",
              "        [5.2, 2.7, 3.9, 1.4],\n",
              "        [5. , 2. , 3.5, 1. ],\n",
              "        [5.9, 3. , 4.2, 1.5],\n",
              "        [6. , 2.2, 4. , 1. ],\n",
              "        [6.1, 2.9, 4.7, 1.4],\n",
              "        [5.6, 2.9, 3.6, 1.3],\n",
              "        [6.7, 3.1, 4.4, 1.4],\n",
              "        [5.6, 3. , 4.5, 1.5],\n",
              "        [5.8, 2.7, 4.1, 1. ],\n",
              "        [6.2, 2.2, 4.5, 1.5],\n",
              "        [5.6, 2.5, 3.9, 1.1],\n",
              "        [5.9, 3.2, 4.8, 1.8],\n",
              "        [6.1, 2.8, 4. , 1.3],\n",
              "        [6.3, 2.5, 4.9, 1.5],\n",
              "        [6.1, 2.8, 4.7, 1.2],\n",
              "        [6.4, 2.9, 4.3, 1.3],\n",
              "        [6.6, 3. , 4.4, 1.4],\n",
              "        [6.8, 2.8, 4.8, 1.4],\n",
              "        [6.7, 3. , 5. , 1.7],\n",
              "        [6. , 2.9, 4.5, 1.5],\n",
              "        [5.7, 2.6, 3.5, 1. ],\n",
              "        [5.5, 2.4, 3.8, 1.1],\n",
              "        [5.5, 2.4, 3.7, 1. ],\n",
              "        [5.8, 2.7, 3.9, 1.2],\n",
              "        [6. , 2.7, 5.1, 1.6],\n",
              "        [5.4, 3. , 4.5, 1.5],\n",
              "        [6. , 3.4, 4.5, 1.6],\n",
              "        [6.7, 3.1, 4.7, 1.5],\n",
              "        [6.3, 2.3, 4.4, 1.3],\n",
              "        [5.6, 3. , 4.1, 1.3],\n",
              "        [5.5, 2.5, 4. , 1.3],\n",
              "        [5.5, 2.6, 4.4, 1.2],\n",
              "        [6.1, 3. , 4.6, 1.4],\n",
              "        [5.8, 2.6, 4. , 1.2],\n",
              "        [5. , 2.3, 3.3, 1. ],\n",
              "        [5.6, 2.7, 4.2, 1.3],\n",
              "        [5.7, 3. , 4.2, 1.2],\n",
              "        [5.7, 2.9, 4.2, 1.3],\n",
              "        [6.2, 2.9, 4.3, 1.3],\n",
              "        [5.1, 2.5, 3. , 1.1],\n",
              "        [5.7, 2.8, 4.1, 1.3],\n",
              "        [6.3, 3.3, 6. , 2.5],\n",
              "        [5.8, 2.7, 5.1, 1.9],\n",
              "        [7.1, 3. , 5.9, 2.1],\n",
              "        [6.3, 2.9, 5.6, 1.8],\n",
              "        [6.5, 3. , 5.8, 2.2],\n",
              "        [7.6, 3. , 6.6, 2.1],\n",
              "        [4.9, 2.5, 4.5, 1.7],\n",
              "        [7.3, 2.9, 6.3, 1.8],\n",
              "        [6.7, 2.5, 5.8, 1.8],\n",
              "        [7.2, 3.6, 6.1, 2.5],\n",
              "        [6.5, 3.2, 5.1, 2. ],\n",
              "        [6.4, 2.7, 5.3, 1.9],\n",
              "        [6.8, 3. , 5.5, 2.1],\n",
              "        [5.7, 2.5, 5. , 2. ],\n",
              "        [5.8, 2.8, 5.1, 2.4],\n",
              "        [6.4, 3.2, 5.3, 2.3],\n",
              "        [6.5, 3. , 5.5, 1.8],\n",
              "        [7.7, 3.8, 6.7, 2.2],\n",
              "        [7.7, 2.6, 6.9, 2.3],\n",
              "        [6. , 2.2, 5. , 1.5],\n",
              "        [6.9, 3.2, 5.7, 2.3],\n",
              "        [5.6, 2.8, 4.9, 2. ],\n",
              "        [7.7, 2.8, 6.7, 2. ],\n",
              "        [6.3, 2.7, 4.9, 1.8],\n",
              "        [6.7, 3.3, 5.7, 2.1],\n",
              "        [7.2, 3.2, 6. , 1.8],\n",
              "        [6.2, 2.8, 4.8, 1.8],\n",
              "        [6.1, 3. , 4.9, 1.8],\n",
              "        [6.4, 2.8, 5.6, 2.1],\n",
              "        [7.2, 3. , 5.8, 1.6],\n",
              "        [7.4, 2.8, 6.1, 1.9],\n",
              "        [7.9, 3.8, 6.4, 2. ],\n",
              "        [6.4, 2.8, 5.6, 2.2],\n",
              "        [6.3, 2.8, 5.1, 1.5],\n",
              "        [6.1, 2.6, 5.6, 1.4],\n",
              "        [7.7, 3. , 6.1, 2.3],\n",
              "        [6.3, 3.4, 5.6, 2.4],\n",
              "        [6.4, 3.1, 5.5, 1.8],\n",
              "        [6. , 3. , 4.8, 1.8],\n",
              "        [6.9, 3.1, 5.4, 2.1],\n",
              "        [6.7, 3.1, 5.6, 2.4],\n",
              "        [6.9, 3.1, 5.1, 2.3],\n",
              "        [5.8, 2.7, 5.1, 1.9],\n",
              "        [6.8, 3.2, 5.9, 2.3],\n",
              "        [6.7, 3.3, 5.7, 2.5],\n",
              "        [6.7, 3. , 5.2, 2.3],\n",
              "        [6.3, 2.5, 5. , 1.9],\n",
              "        [6.5, 3. , 5.2, 2. ],\n",
              "        [6.2, 3.4, 5.4, 2.3],\n",
              "        [5.9, 3. , 5.1, 1.8]]),\n",
              " 'feature_names': ['sepal length (cm)',\n",
              "  'sepal width (cm)',\n",
              "  'petal length (cm)',\n",
              "  'petal width (cm)'],\n",
              " 'filename': '/usr/local/lib/python3.7/dist-packages/sklearn/datasets/data/iris.csv',\n",
              " 'target': array([0, 0, 0, 0, 0, 0, 0, 0, 0, 0, 0, 0, 0, 0, 0, 0, 0, 0, 0, 0, 0, 0,\n",
              "        0, 0, 0, 0, 0, 0, 0, 0, 0, 0, 0, 0, 0, 0, 0, 0, 0, 0, 0, 0, 0, 0,\n",
              "        0, 0, 0, 0, 0, 0, 1, 1, 1, 1, 1, 1, 1, 1, 1, 1, 1, 1, 1, 1, 1, 1,\n",
              "        1, 1, 1, 1, 1, 1, 1, 1, 1, 1, 1, 1, 1, 1, 1, 1, 1, 1, 1, 1, 1, 1,\n",
              "        1, 1, 1, 1, 1, 1, 1, 1, 1, 1, 1, 1, 2, 2, 2, 2, 2, 2, 2, 2, 2, 2,\n",
              "        2, 2, 2, 2, 2, 2, 2, 2, 2, 2, 2, 2, 2, 2, 2, 2, 2, 2, 2, 2, 2, 2,\n",
              "        2, 2, 2, 2, 2, 2, 2, 2, 2, 2, 2, 2, 2, 2, 2, 2, 2, 2]),\n",
              " 'target_names': array(['setosa', 'versicolor', 'virginica'], dtype='<U10')}"
            ]
          },
          "metadata": {},
          "execution_count": 176
        }
      ]
    },
    {
      "cell_type": "markdown",
      "metadata": {
        "id": "oY6Szs7vR5OM"
      },
      "source": [
        "A saída será todo o conteúdo do arquivo iris.csv, bem como algumas outras informações sobre o conjunto de dados que a função load_iris carregou na variável iris, uma estrutura de dados de dicionário com quatro propriedades principais. As propriedades importantes de iris estão listadas na Tabela 12-3."
      ]
    },
    {
      "cell_type": "markdown",
      "metadata": {
        "id": "EF7wBtfaSBRR"
      },
      "source": [
        "TABELA 12-3 **Principais Propriedades da Variável Iris**"
      ]
    },
    {
      "cell_type": "markdown",
      "metadata": {
        "id": "DoBvelt2SFrT"
      },
      "source": [
        "_____________________________________________________________________________\n",
        "        Nome da propriedade     Descrição\n",
        "        _____________________________________________________________________________\n",
        "        data                    Contém todas as medidas das observações\n",
        "        -----------------------------------------------------------------------------\n",
        "        feature_name            Contém o nome da característica (nome do atributo).\n",
        "        -----------------------------------------------------------------------------\n",
        "        target                  Contém todos os alvos (rótulos) das observações.\n",
        "        -----------------------------------------------------------------------------\n",
        "        target_names            Contém os nomes das classes iris.\n",
        "        _____________________________________________________________________________"
      ]
    },
    {
      "cell_type": "code",
      "metadata": {
        "colab": {
          "base_uri": "https://localhost:8080/"
        },
        "id": "IzljpJAAHcXn",
        "outputId": "4ff887d0-d5ec-47ad-f161-4a1630bd5ac6"
      },
      "source": [
        "# visualizando as informações do conjunto de dados\n",
        "print(iris.DESCR)"
      ],
      "execution_count": 177,
      "outputs": [
        {
          "output_type": "stream",
          "name": "stdout",
          "text": [
            ".. _iris_dataset:\n",
            "\n",
            "Iris plants dataset\n",
            "--------------------\n",
            "\n",
            "**Data Set Characteristics:**\n",
            "\n",
            "    :Number of Instances: 150 (50 in each of three classes)\n",
            "    :Number of Attributes: 4 numeric, predictive attributes and the class\n",
            "    :Attribute Information:\n",
            "        - sepal length in cm\n",
            "        - sepal width in cm\n",
            "        - petal length in cm\n",
            "        - petal width in cm\n",
            "        - class:\n",
            "                - Iris-Setosa\n",
            "                - Iris-Versicolour\n",
            "                - Iris-Virginica\n",
            "                \n",
            "    :Summary Statistics:\n",
            "\n",
            "    ============== ==== ==== ======= ===== ====================\n",
            "                    Min  Max   Mean    SD   Class Correlation\n",
            "    ============== ==== ==== ======= ===== ====================\n",
            "    sepal length:   4.3  7.9   5.84   0.83    0.7826\n",
            "    sepal width:    2.0  4.4   3.05   0.43   -0.4194\n",
            "    petal length:   1.0  6.9   3.76   1.76    0.9490  (high!)\n",
            "    petal width:    0.1  2.5   1.20   0.76    0.9565  (high!)\n",
            "    ============== ==== ==== ======= ===== ====================\n",
            "\n",
            "    :Missing Attribute Values: None\n",
            "    :Class Distribution: 33.3% for each of 3 classes.\n",
            "    :Creator: R.A. Fisher\n",
            "    :Donor: Michael Marshall (MARSHALL%PLU@io.arc.nasa.gov)\n",
            "    :Date: July, 1988\n",
            "\n",
            "The famous Iris database, first used by Sir R.A. Fisher. The dataset is taken\n",
            "from Fisher's paper. Note that it's the same as in R, but not as in the UCI\n",
            "Machine Learning Repository, which has two wrong data points.\n",
            "\n",
            "This is perhaps the best known database to be found in the\n",
            "pattern recognition literature.  Fisher's paper is a classic in the field and\n",
            "is referenced frequently to this day.  (See Duda & Hart, for example.)  The\n",
            "data set contains 3 classes of 50 instances each, where each class refers to a\n",
            "type of iris plant.  One class is linearly separable from the other 2; the\n",
            "latter are NOT linearly separable from each other.\n",
            "\n",
            ".. topic:: References\n",
            "\n",
            "   - Fisher, R.A. \"The use of multiple measurements in taxonomic problems\"\n",
            "     Annual Eugenics, 7, Part II, 179-188 (1936); also in \"Contributions to\n",
            "     Mathematical Statistics\" (John Wiley, NY, 1950).\n",
            "   - Duda, R.O., & Hart, P.E. (1973) Pattern Classification and Scene Analysis.\n",
            "     (Q327.D83) John Wiley & Sons.  ISBN 0-471-22361-1.  See page 218.\n",
            "   - Dasarathy, B.V. (1980) \"Nosing Around the Neighborhood: A New System\n",
            "     Structure and Classification Rule for Recognition in Partially Exposed\n",
            "     Environments\".  IEEE Transactions on Pattern Analysis and Machine\n",
            "     Intelligence, Vol. PAMI-2, No. 1, 67-71.\n",
            "   - Gates, G.W. (1972) \"The Reduced Nearest Neighbor Rule\".  IEEE Transactions\n",
            "     on Information Theory, May 1972, 431-433.\n",
            "   - See also: 1988 MLC Proceedings, 54-64.  Cheeseman et al\"s AUTOCLASS II\n",
            "     conceptual clustering system finds 3 classes in the data.\n",
            "   - Many, many more ...\n"
          ]
        }
      ]
    },
    {
      "cell_type": "markdown",
      "metadata": {
        "id": "O2hEaN2qTekO"
      },
      "source": [
        "![image.png](data:image/png;base64,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)"
      ]
    },
    {
      "cell_type": "markdown",
      "metadata": {
        "id": "m0HH2gXMTjFy"
      },
      "source": [
        "> Você pode visualizar os valores no interpretador digitando o nome da variável seguido por ponto seguido pelo nome da propriedade. Um exemplo é usar iris.data para acessar a propriedade data de iris, assim:"
      ]
    },
    {
      "cell_type": "code",
      "metadata": {
        "colab": {
          "base_uri": "https://localhost:8080/"
        },
        "id": "A00fDuHkHcVS",
        "outputId": "7a13ca47-0c10-4456-8fb5-a5f0eb3f1b12"
      },
      "source": [
        "# visualizando os valores das observações\n",
        "iris.data  "
      ],
      "execution_count": 178,
      "outputs": [
        {
          "output_type": "execute_result",
          "data": {
            "text/plain": [
              "array([[5.1, 3.5, 1.4, 0.2],\n",
              "       [4.9, 3. , 1.4, 0.2],\n",
              "       [4.7, 3.2, 1.3, 0.2],\n",
              "       [4.6, 3.1, 1.5, 0.2],\n",
              "       [5. , 3.6, 1.4, 0.2],\n",
              "       [5.4, 3.9, 1.7, 0.4],\n",
              "       [4.6, 3.4, 1.4, 0.3],\n",
              "       [5. , 3.4, 1.5, 0.2],\n",
              "       [4.4, 2.9, 1.4, 0.2],\n",
              "       [4.9, 3.1, 1.5, 0.1],\n",
              "       [5.4, 3.7, 1.5, 0.2],\n",
              "       [4.8, 3.4, 1.6, 0.2],\n",
              "       [4.8, 3. , 1.4, 0.1],\n",
              "       [4.3, 3. , 1.1, 0.1],\n",
              "       [5.8, 4. , 1.2, 0.2],\n",
              "       [5.7, 4.4, 1.5, 0.4],\n",
              "       [5.4, 3.9, 1.3, 0.4],\n",
              "       [5.1, 3.5, 1.4, 0.3],\n",
              "       [5.7, 3.8, 1.7, 0.3],\n",
              "       [5.1, 3.8, 1.5, 0.3],\n",
              "       [5.4, 3.4, 1.7, 0.2],\n",
              "       [5.1, 3.7, 1.5, 0.4],\n",
              "       [4.6, 3.6, 1. , 0.2],\n",
              "       [5.1, 3.3, 1.7, 0.5],\n",
              "       [4.8, 3.4, 1.9, 0.2],\n",
              "       [5. , 3. , 1.6, 0.2],\n",
              "       [5. , 3.4, 1.6, 0.4],\n",
              "       [5.2, 3.5, 1.5, 0.2],\n",
              "       [5.2, 3.4, 1.4, 0.2],\n",
              "       [4.7, 3.2, 1.6, 0.2],\n",
              "       [4.8, 3.1, 1.6, 0.2],\n",
              "       [5.4, 3.4, 1.5, 0.4],\n",
              "       [5.2, 4.1, 1.5, 0.1],\n",
              "       [5.5, 4.2, 1.4, 0.2],\n",
              "       [4.9, 3.1, 1.5, 0.2],\n",
              "       [5. , 3.2, 1.2, 0.2],\n",
              "       [5.5, 3.5, 1.3, 0.2],\n",
              "       [4.9, 3.6, 1.4, 0.1],\n",
              "       [4.4, 3. , 1.3, 0.2],\n",
              "       [5.1, 3.4, 1.5, 0.2],\n",
              "       [5. , 3.5, 1.3, 0.3],\n",
              "       [4.5, 2.3, 1.3, 0.3],\n",
              "       [4.4, 3.2, 1.3, 0.2],\n",
              "       [5. , 3.5, 1.6, 0.6],\n",
              "       [5.1, 3.8, 1.9, 0.4],\n",
              "       [4.8, 3. , 1.4, 0.3],\n",
              "       [5.1, 3.8, 1.6, 0.2],\n",
              "       [4.6, 3.2, 1.4, 0.2],\n",
              "       [5.3, 3.7, 1.5, 0.2],\n",
              "       [5. , 3.3, 1.4, 0.2],\n",
              "       [7. , 3.2, 4.7, 1.4],\n",
              "       [6.4, 3.2, 4.5, 1.5],\n",
              "       [6.9, 3.1, 4.9, 1.5],\n",
              "       [5.5, 2.3, 4. , 1.3],\n",
              "       [6.5, 2.8, 4.6, 1.5],\n",
              "       [5.7, 2.8, 4.5, 1.3],\n",
              "       [6.3, 3.3, 4.7, 1.6],\n",
              "       [4.9, 2.4, 3.3, 1. ],\n",
              "       [6.6, 2.9, 4.6, 1.3],\n",
              "       [5.2, 2.7, 3.9, 1.4],\n",
              "       [5. , 2. , 3.5, 1. ],\n",
              "       [5.9, 3. , 4.2, 1.5],\n",
              "       [6. , 2.2, 4. , 1. ],\n",
              "       [6.1, 2.9, 4.7, 1.4],\n",
              "       [5.6, 2.9, 3.6, 1.3],\n",
              "       [6.7, 3.1, 4.4, 1.4],\n",
              "       [5.6, 3. , 4.5, 1.5],\n",
              "       [5.8, 2.7, 4.1, 1. ],\n",
              "       [6.2, 2.2, 4.5, 1.5],\n",
              "       [5.6, 2.5, 3.9, 1.1],\n",
              "       [5.9, 3.2, 4.8, 1.8],\n",
              "       [6.1, 2.8, 4. , 1.3],\n",
              "       [6.3, 2.5, 4.9, 1.5],\n",
              "       [6.1, 2.8, 4.7, 1.2],\n",
              "       [6.4, 2.9, 4.3, 1.3],\n",
              "       [6.6, 3. , 4.4, 1.4],\n",
              "       [6.8, 2.8, 4.8, 1.4],\n",
              "       [6.7, 3. , 5. , 1.7],\n",
              "       [6. , 2.9, 4.5, 1.5],\n",
              "       [5.7, 2.6, 3.5, 1. ],\n",
              "       [5.5, 2.4, 3.8, 1.1],\n",
              "       [5.5, 2.4, 3.7, 1. ],\n",
              "       [5.8, 2.7, 3.9, 1.2],\n",
              "       [6. , 2.7, 5.1, 1.6],\n",
              "       [5.4, 3. , 4.5, 1.5],\n",
              "       [6. , 3.4, 4.5, 1.6],\n",
              "       [6.7, 3.1, 4.7, 1.5],\n",
              "       [6.3, 2.3, 4.4, 1.3],\n",
              "       [5.6, 3. , 4.1, 1.3],\n",
              "       [5.5, 2.5, 4. , 1.3],\n",
              "       [5.5, 2.6, 4.4, 1.2],\n",
              "       [6.1, 3. , 4.6, 1.4],\n",
              "       [5.8, 2.6, 4. , 1.2],\n",
              "       [5. , 2.3, 3.3, 1. ],\n",
              "       [5.6, 2.7, 4.2, 1.3],\n",
              "       [5.7, 3. , 4.2, 1.2],\n",
              "       [5.7, 2.9, 4.2, 1.3],\n",
              "       [6.2, 2.9, 4.3, 1.3],\n",
              "       [5.1, 2.5, 3. , 1.1],\n",
              "       [5.7, 2.8, 4.1, 1.3],\n",
              "       [6.3, 3.3, 6. , 2.5],\n",
              "       [5.8, 2.7, 5.1, 1.9],\n",
              "       [7.1, 3. , 5.9, 2.1],\n",
              "       [6.3, 2.9, 5.6, 1.8],\n",
              "       [6.5, 3. , 5.8, 2.2],\n",
              "       [7.6, 3. , 6.6, 2.1],\n",
              "       [4.9, 2.5, 4.5, 1.7],\n",
              "       [7.3, 2.9, 6.3, 1.8],\n",
              "       [6.7, 2.5, 5.8, 1.8],\n",
              "       [7.2, 3.6, 6.1, 2.5],\n",
              "       [6.5, 3.2, 5.1, 2. ],\n",
              "       [6.4, 2.7, 5.3, 1.9],\n",
              "       [6.8, 3. , 5.5, 2.1],\n",
              "       [5.7, 2.5, 5. , 2. ],\n",
              "       [5.8, 2.8, 5.1, 2.4],\n",
              "       [6.4, 3.2, 5.3, 2.3],\n",
              "       [6.5, 3. , 5.5, 1.8],\n",
              "       [7.7, 3.8, 6.7, 2.2],\n",
              "       [7.7, 2.6, 6.9, 2.3],\n",
              "       [6. , 2.2, 5. , 1.5],\n",
              "       [6.9, 3.2, 5.7, 2.3],\n",
              "       [5.6, 2.8, 4.9, 2. ],\n",
              "       [7.7, 2.8, 6.7, 2. ],\n",
              "       [6.3, 2.7, 4.9, 1.8],\n",
              "       [6.7, 3.3, 5.7, 2.1],\n",
              "       [7.2, 3.2, 6. , 1.8],\n",
              "       [6.2, 2.8, 4.8, 1.8],\n",
              "       [6.1, 3. , 4.9, 1.8],\n",
              "       [6.4, 2.8, 5.6, 2.1],\n",
              "       [7.2, 3. , 5.8, 1.6],\n",
              "       [7.4, 2.8, 6.1, 1.9],\n",
              "       [7.9, 3.8, 6.4, 2. ],\n",
              "       [6.4, 2.8, 5.6, 2.2],\n",
              "       [6.3, 2.8, 5.1, 1.5],\n",
              "       [6.1, 2.6, 5.6, 1.4],\n",
              "       [7.7, 3. , 6.1, 2.3],\n",
              "       [6.3, 3.4, 5.6, 2.4],\n",
              "       [6.4, 3.1, 5.5, 1.8],\n",
              "       [6. , 3. , 4.8, 1.8],\n",
              "       [6.9, 3.1, 5.4, 2.1],\n",
              "       [6.7, 3.1, 5.6, 2.4],\n",
              "       [6.9, 3.1, 5.1, 2.3],\n",
              "       [5.8, 2.7, 5.1, 1.9],\n",
              "       [6.8, 3.2, 5.9, 2.3],\n",
              "       [6.7, 3.3, 5.7, 2.5],\n",
              "       [6.7, 3. , 5.2, 2.3],\n",
              "       [6.3, 2.5, 5. , 1.9],\n",
              "       [6.5, 3. , 5.2, 2. ],\n",
              "       [6.2, 3.4, 5.4, 2.3],\n",
              "       [5.9, 3. , 5.1, 1.8]])"
            ]
          },
          "metadata": {},
          "execution_count": 178
        }
      ]
    },
    {
      "cell_type": "markdown",
      "metadata": {
        "id": "66l_Jn76Tq3j"
      },
      "source": [
        "Essa é a maneira padrão de acessar propriedades de um objeto em muitas linguagens de programação.\n",
        "\n",
        "Para criar uma instância do classificador SVM, digite o seguinte código no interpretador:"
      ]
    },
    {
      "cell_type": "code",
      "metadata": {
        "id": "lwuuQDj8HcSp"
      },
      "source": [
        "# importando o modelo\n",
        "from sklearn.svm import LinearSVC\n",
        "\n",
        "# instanciando o classificador\n",
        "svmClassifier = LinearSVC(random_state = 111)"
      ],
      "execution_count": 179,
      "outputs": []
    },
    {
      "cell_type": "markdown",
      "metadata": {
        "id": "-lKx9IfNUCr0"
      },
      "source": [
        "A primeira linha de código importa a biblioteca LinearSVC na sessão. O SVC (Support Vector Classifier) linear é uma implementação da SVM para classificação linear e tem suporte para várias classes. O conjunto de dados é linearmente separável e tem três classes, então seria uma boa ideia experimentar LinearSVC para ver como se comporta. (Você pode ler mais sobre a SVM no Capítulo 7.)\n",
        "\n",
        "A segunda linha cria a instância usando a variável svmClassifier. Essa é uma variável importante a ser lembrada, e ela aparecerá várias vezes ao longo do capítulo. O parâmetro random_state nos permite reproduzir esses exemplos e obter os mesmos resultados. Se você não inseriu o parâmetro random_state, seus resultados podem diferir dos mostrados aqui."
      ]
    },
    {
      "cell_type": "markdown",
      "metadata": {
        "id": "HG8TZfdNUHan"
      },
      "source": [
        "### **Executando os dados de treinamento**\n",
        "\n",
        "Antes de poder alimentar o classificador da SVM com os dados que foram carregados, você deve dividir o conjunto de dados completo em um conjunto de treinamento e teste.\n",
        "\n",
        "Felizmente, o scikit-learn implementou uma função que irá ajudá-lo a dividir facilmente o conjunto de dados completo. A função train_test_split pega como entrada um único conjunto de dados e um valor percentual. O valor percentual é usado para determinar o tamanho do conjunto de teste. A função retorna dois conjuntos de dados: o conjunto de dados de teste (com seu tamanho especificado) e o conjunto de dados de treinamento (que usa os dados restantes).\n",
        "\n",
        "Normalmente, pode-se usar de 70% a 80% dos dados como um conjunto de treinamento e os dados restantes como o conjunto de testes. Mas o conjunto de dados Iris é muito pequeno (apenas 150 instâncias), então você pode pegar 90% para treinar o modelo e usar os outros 10% como dados de teste para ver como será o desempenho de seu modelo."
      ]
    },
    {
      "cell_type": "markdown",
      "metadata": {
        "id": "QnZFAfEgUOoD"
      },
      "source": [
        "![image.png](data:image/png;base64,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)"
      ]
    },
    {
      "cell_type": "markdown",
      "metadata": {
        "id": "X-XDtgPNUT3A"
      },
      "source": [
        "> No Python, o nível de recuo esquerdo de cada declaração é significativo. No interpretador, cada nova declaração começará com >>>. Para o código de exemplo deste livro, se não aparecer >>> no início de uma nova linha e ela for recuada, significa que é uma continuação da linha anterior e deve ser digitada como uma única linha (não aperte o enter até que toda a declaração tenha sido inserida). Se a próxima linha não tiver >>> no começo e não for recuada, então é a saída do interpretador. O código foi formatado dessa forma para melhor legibilidade.\n",
        "\n",
        "Digite o seguinte código para dividir seu conjunto de dados:"
      ]
    },
    {
      "cell_type": "code",
      "metadata": {
        "id": "v9ScK6WGHcQF"
      },
      "source": [
        "# importando a função para particionar os dados em treino e teste\n",
        "from sklearn.model_selection import train_test_split\n",
        "\n",
        "# instanciando os dados de treino e teste\n",
        "X_train, X_test, y_train, y_test = train_test_split(iris.data, iris.target,\n",
        "                                                    train_size = 0.90, random_state = 111)"
      ],
      "execution_count": 180,
      "outputs": []
    },
    {
      "cell_type": "markdown",
      "metadata": {
        "id": "-ZjnbFbcWTaw"
      },
      "source": [
        "A primeira linha importa a biblioteca model_selection para sua sessão. A segunda linha cria o conjunto de treino usando 90% (train_size = 0.90) da amostra. \n",
        "\n",
        "_De forma similar podemos instanciar o conjunto de teste (test_size = 0.10)._ No nosso caso, o conjunto de teste fica implícito. Você escolhe qual argumento será instanciado, o de treino ou de teste,\n",
        "\n",
        " - X_train conterá 135 observações e seus atributos.\n",
        "\n",
        " - y_train conterá 135 rótulos na mesma ordem que as 135 observações X_train.\n",
        "\n",
        " - X_test conterá 15 (ou 10%) observações e seus atributos.\n",
        "\n",
        " - y_test conterá 15 rótulos na mesma ordem que as 15 observações do X_test."
      ]
    },
    {
      "cell_type": "markdown",
      "metadata": {
        "id": "rrKrotodY3vG"
      },
      "source": [
        "O código a seguir verifica se a divisão é o que você esperava:"
      ]
    },
    {
      "cell_type": "code",
      "metadata": {
        "colab": {
          "base_uri": "https://localhost:8080/"
        },
        "id": "onRY7qK8HcNg",
        "outputId": "8a047297-3d15-4654-8aae-bff08fa1fea1"
      },
      "source": [
        "# visualizando o tamanho dos conjuntos de treino e teste\n",
        "X_train.shape, X_test.shape, y_train.shape, y_test.shape"
      ],
      "execution_count": 181,
      "outputs": [
        {
          "output_type": "execute_result",
          "data": {
            "text/plain": [
              "((135, 4), (15, 4), (135,), (15,))"
            ]
          },
          "metadata": {},
          "execution_count": 181
        }
      ]
    },
    {
      "cell_type": "markdown",
      "metadata": {
        "id": "Jncq_Tt1ZECS"
      },
      "source": [
        "Você pode ver pela saída que existem 135 observações com 4 atributos e 135 rótulos no conjunto de treinamento. O conjunto de testes tem 15 observações, com 4 atributos e 15 rótulos.\n",
        "\n"
      ]
    },
    {
      "cell_type": "markdown",
      "metadata": {
        "id": "rK-m13TaZOAs"
      },
      "source": [
        "![image.png](data:image/png;base64,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)"
      ]
    },
    {
      "cell_type": "markdown",
      "metadata": {
        "id": "qAq37FI9ZWY6"
      },
      "source": [
        "> Muitos iniciantes no campo da análise preditiva se esquecem de dividir os conjuntos de dados — o que introduz uma séria falha de design no projeto. Se as 150 instâncias completas fossem carregadas na máquina como dados de treinamento, não restariam dados desconhecidos para testar o modelo. Então você teria que recorrer à reutilização de algumas das instâncias de treinamento para testar o modelo preditivo. Você verá que, nesse caso, o modelo sempre prevê a classe correta — porque está usando os mesmos dados que usou para treinar o modelo. O modelo já viu esse padrão antes, e não terá problema em apenas repetir o que já viu. Um modelo preditivo funcional precisa fazer predições para dados ainda não conhecidos.\n",
        "\n",
        "Quando tiver uma instância de um classificador de SVM, um conjunto de dados de treinamento e um conjunto de dados de teste, você está pronto para treinar o modelo com os dados de treinamento. Digitar o seguinte código no interpretador fará exatamente isso:"
      ]
    },
    {
      "cell_type": "code",
      "metadata": {
        "colab": {
          "base_uri": "https://localhost:8080/"
        },
        "id": "zdXPMZZOHcK-",
        "outputId": "0dea95e4-bde1-48d7-9351-f9b7352ee538"
      },
      "source": [
        "# treinando o classificador com os dados de treino\n",
        "svmClassifier.fit(X_train, y_train)"
      ],
      "execution_count": 182,
      "outputs": [
        {
          "output_type": "execute_result",
          "data": {
            "text/plain": [
              "LinearSVC(C=1.0, class_weight=None, dual=True, fit_intercept=True,\n",
              "          intercept_scaling=1, loss='squared_hinge', max_iter=1000,\n",
              "          multi_class='ovr', penalty='l2', random_state=111, tol=0.0001,\n",
              "          verbose=0)"
            ]
          },
          "metadata": {},
          "execution_count": 182
        }
      ]
    },
    {
      "cell_type": "markdown",
      "metadata": {
        "id": "gRywC2U3Z3X5"
      },
      "source": [
        "Essa linha de código cria um modelo funcional a partir do qual fazer predições. Especificamente, um modelo preditivo que preverá a qual classe de Iris pertence um novo conjunto de dados não rotulado. A instância svmClassifier terá vários métodos que você pode chamar para fazer várias coisas. Por exemplo, depois de chamar o método fit, o método mais útil para chamar é o predict. Esse é o método em que você alimentará novos dados; em troca, ele prevê o resultado."
      ]
    },
    {
      "cell_type": "markdown",
      "metadata": {
        "id": "hDtdC3USaBXP"
      },
      "source": [
        "### **Executando os dados de teste**\n",
        "\n",
        "Usando 10% das 150 instâncias do conjunto de dados, você recebe 15 pontos de dados de teste para executar o modelo. Vamos ver como será o desempenho de modelo preditivo. Digite a seguinte listagem de código no interpretador:"
      ]
    },
    {
      "cell_type": "code",
      "metadata": {
        "colab": {
          "base_uri": "https://localhost:8080/"
        },
        "id": "g_UfJdXJHcIW",
        "outputId": "13b5767b-92f9-4fb7-97fb-88a0aac5f891"
      },
      "source": [
        "# realizando as predições com os dados de teste\n",
        "predicted = svmClassifier.predict(X_test)\n",
        "\n",
        "# visualizando as predições\n",
        "predicted"
      ],
      "execution_count": 183,
      "outputs": [
        {
          "output_type": "execute_result",
          "data": {
            "text/plain": [
              "array([0, 0, 2, 2, 1, 0, 0, 2, 2, 1, 2, 0, 1, 2, 2])"
            ]
          },
          "metadata": {},
          "execution_count": 183
        }
      ]
    },
    {
      "cell_type": "markdown",
      "metadata": {
        "id": "XRrao2P-akxN"
      },
      "source": [
        "A função predict na primeira linha de código é o que faz a predição, como você deve ter adivinhado. Ela pega os dados de teste como entrada e gera os resultados na variável predicted. A segunda linha mostra a saída. A última linha na seção de código é a saída, ou predição: um vetor (array) de 15 — ou seja, 10% da amostra de conjunto de dados, que é o tamanho do conjunto de dados de teste. Os números no vetor representam as classes da flor Iris."
      ]
    },
    {
      "cell_type": "markdown",
      "metadata": {
        "id": "rvJ1trAqjJ2o"
      },
      "source": [
        "### **Avaliando o modelo**\n",
        "\n",
        "Para avaliar a precisão de seu modelo, você pode comparar o vetor de saída com o vetor y_test. Para esta pequena amostra de conjunto de dados, você pode facilmente dizer como foi realizado, vendo que o vetor de saída da função de previsão é quase o mesmo que a do vetor y_test. A última linha no código é uma simples verificação de igualdade entre as duas matrizes, suficiente para este caso de teste simples. Aqui está o código:"
      ]
    },
    {
      "cell_type": "code",
      "metadata": {
        "colab": {
          "base_uri": "https://localhost:8080/"
        },
        "id": "idBg7KNMHcEn",
        "outputId": "68617148-86dd-46e9-d0f9-a29037e4316b"
      },
      "source": [
        "# visualizando as predições\n",
        "predicted"
      ],
      "execution_count": 184,
      "outputs": [
        {
          "output_type": "execute_result",
          "data": {
            "text/plain": [
              "array([0, 0, 2, 2, 1, 0, 0, 2, 2, 1, 2, 0, 1, 2, 2])"
            ]
          },
          "metadata": {},
          "execution_count": 184
        }
      ]
    },
    {
      "cell_type": "code",
      "metadata": {
        "colab": {
          "base_uri": "https://localhost:8080/"
        },
        "id": "bJGW9D1pHcCH",
        "outputId": "7a32dad0-27a8-4029-c813-93309a2a5e7f"
      },
      "source": [
        "# visualizando os dados reais\n",
        "y_test"
      ],
      "execution_count": 185,
      "outputs": [
        {
          "output_type": "execute_result",
          "data": {
            "text/plain": [
              "array([0, 0, 2, 2, 1, 0, 0, 2, 2, 1, 2, 0, 2, 2, 2])"
            ]
          },
          "metadata": {},
          "execution_count": 185
        }
      ]
    },
    {
      "cell_type": "code",
      "metadata": {
        "colab": {
          "base_uri": "https://localhost:8080/"
        },
        "id": "sYliZB83Hb_K",
        "outputId": "d2282122-a7de-468b-a974-8f2bffc96528"
      },
      "source": [
        "# realizando comparação boleana entre os dados preditos e reais\n",
        "predicted == y_test"
      ],
      "execution_count": 186,
      "outputs": [
        {
          "output_type": "execute_result",
          "data": {
            "text/plain": [
              "array([ True,  True,  True,  True,  True,  True,  True,  True,  True,\n",
              "        True,  True,  True, False,  True,  True])"
            ]
          },
          "metadata": {},
          "execution_count": 186
        }
      ]
    },
    {
      "cell_type": "markdown",
      "metadata": {
        "id": "aKrXBFISjlg2"
      },
      "source": [
        "Olhando para o vetor de saída com todos os valores booleanos (True [Verdadeiro] e False [Falso]), você pode ver que o modelo previu todos, exceto um resultado. No décimo terceiro ponto de dados, previu 1 (Versicolor), quando deveria ter sido 2 (Virginica). O(s) valor(es) False indicam que o modelo previu a classe Iris incorreta para esse ponto de dados. A porcentagem de predições corretas determinará a precisão do modelo preditivo. Nesse caso, você pode simplesmente usar a divisão básica e obter a precisão:"
      ]
    },
    {
      "cell_type": "markdown",
      "metadata": {
        "id": "_LaJLel3jvPg"
      },
      "source": [
        "    resultados corretos/tamanho do teste => 14/15 => 0,9333 ou 93,33%"
      ]
    },
    {
      "cell_type": "markdown",
      "metadata": {
        "id": "SZhIw1SIj1gs"
      },
      "source": [
        "Não é surpresa que o modelo não tenha conseguido prever o Virginica ou o Versicolor, pois claramente não são separáveis por uma linha reta. Uma falha em prever Setosa, no entanto, seria surpreendente, porque Setosa é claramente linearmente separável. Ainda assim, a precisão foi de 14 de 15, ou 93,33%.\n",
        "\n",
        "Para um conjunto de teste com mais pontos de dados, você pode querer usar o módulo metrics para fazer suas medições. O código a seguir obterá a precisão do modelo:"
      ]
    },
    {
      "cell_type": "code",
      "metadata": {
        "id": "dNJ6xg3dHb8u"
      },
      "source": [
        "# importando as função para avaliação: acurácia, erro médio absoluto e matriz de confusão\n",
        "from sklearn.metrics import accuracy_score, mean_absolute_error, confusion_matrix"
      ],
      "execution_count": 187,
      "outputs": []
    },
    {
      "cell_type": "code",
      "metadata": {
        "colab": {
          "base_uri": "https://localhost:8080/"
        },
        "id": "-u6SRBSOHb6a",
        "outputId": "bd527795-3054-482a-debc-b3689c864fce"
      },
      "source": [
        "# visualizando a acurácia\n",
        "accuracy_score(y_test, predicted)"
      ],
      "execution_count": 188,
      "outputs": [
        {
          "output_type": "execute_result",
          "data": {
            "text/plain": [
              "0.9333333333333333"
            ]
          },
          "metadata": {},
          "execution_count": 188
        }
      ]
    },
    {
      "cell_type": "markdown",
      "metadata": {
        "id": "OLlYm5eAnv_b"
      },
      "source": [
        "O erro absoluto médio do modelo é simplesmente 1 — a pontuação de precisão. Nesse caso, seria 1 — 0,9333. Aqui está o código para obter esse valor:"
      ]
    },
    {
      "cell_type": "code",
      "metadata": {
        "colab": {
          "base_uri": "https://localhost:8080/"
        },
        "id": "U3AuEtWbHb39",
        "outputId": "a52e2280-3672-4e51-e250-9c37bc16b4ba"
      },
      "source": [
        "# visaulizando o erro médio absoluto\n",
        "mean_absolute_error(y_test, predicted)"
      ],
      "execution_count": 189,
      "outputs": [
        {
          "output_type": "execute_result",
          "data": {
            "text/plain": [
              "0.06666666666666667"
            ]
          },
          "metadata": {},
          "execution_count": 189
        }
      ]
    },
    {
      "cell_type": "code",
      "metadata": {
        "id": "YGg2wveGHbzs"
      },
      "source": [
        "# criando uma função para retornar o cálculo do erro médio quadratico\n",
        "\n",
        "def MSE(y_test, predicted): # MSE - mean squared error\n",
        "    '''\n",
        "    O cálculo do erro médio quadrático se dá pelo valor real \n",
        "    da variável alvo (y) subtraindo o valor predito (y_pred)\n",
        "    elevando os resultados ao quadrado e por fim,\n",
        "    somando-os e extraindo a média dos elementos\n",
        "    '''\n",
        "    return ((y_test - predicted)**2).mean()"
      ],
      "execution_count": 190,
      "outputs": []
    },
    {
      "cell_type": "code",
      "metadata": {
        "colab": {
          "base_uri": "https://localhost:8080/"
        },
        "id": "u1_63agKHbxZ",
        "outputId": "c4e3d0fa-6624-48f2-ca21-b89e7772ab8f"
      },
      "source": [
        "# calculando o erro médio absoluto com a função criada\n",
        "MSE(y_test, predicted)"
      ],
      "execution_count": 191,
      "outputs": [
        {
          "output_type": "execute_result",
          "data": {
            "text/plain": [
              "0.06666666666666667"
            ]
          },
          "metadata": {},
          "execution_count": 191
        }
      ]
    },
    {
      "cell_type": "markdown",
      "metadata": {
        "id": "ez_fJNq7r8k1"
      },
      "source": [
        "Outra ferramenta de medição útil é a matriz de confusão (confusion matrix). Sim, é verdade. É uma matriz (formato tabular) que mostra as predições que o modelo fez nos dados de teste. Aqui está o código que exibe a matriz de confusão:"
      ]
    },
    {
      "cell_type": "code",
      "metadata": {
        "colab": {
          "base_uri": "https://localhost:8080/"
        },
        "id": "azkWhwyQr2Cp",
        "outputId": "e9edb7bd-e412-4355-9d41-57a735db1029"
      },
      "source": [
        "# visualizando a matriz de confusão\n",
        "confusion_matrix(y_test, predicted)"
      ],
      "execution_count": 192,
      "outputs": [
        {
          "output_type": "execute_result",
          "data": {
            "text/plain": [
              "array([[5, 0, 0],\n",
              "       [0, 2, 0],\n",
              "       [0, 1, 7]])"
            ]
          },
          "metadata": {},
          "execution_count": 192
        }
      ]
    },
    {
      "cell_type": "markdown",
      "metadata": {
        "id": "0uLGSJbuy5O1"
      },
      "source": [
        "A linha diagonal do canto superior esquerdo até o canto inferior direito é o número de predições corretas para cada linha. Cada linha corresponde a uma classe de íris. Por exemplo: a primeira linha corresponde à classe Setosa. O modelo previu cinco pontos de dados de teste corretos e não teve erros prevendo a classe Setosa. Se tivesse um erro, um número diferente de zero estaria presente em qualquer uma das colunas nessa linha. A segunda linha corresponde à classe Versicolor. O modelo previu dois pontos de dados de teste corretos e nenhum erro. A terceira linha corresponde à classe Virginica. O modelo previu sete pontos corretos de dados de teste, mas também um erro, e previu erroneamente uma observação de Virginica como Versicolor. É possível perceber isso olhando a coluna onde o erro está aparecendo. A coluna 1 (a segunda coluna, porque os vetores do Python começam em 0) pertence ao Versicolor.\n",
        "\n",
        "A precisão dos resultados de um modelo preditivo afetará diretamente a decisão de implementar esse modelo; quanto maior a precisão, maior facilidade você terá para obter aprovação para a implementação do modelo."
      ]
    },
    {
      "cell_type": "markdown",
      "metadata": {
        "id": "svEFIwjxYKVe"
      },
      "source": [
        "Visualizando de forma gráfica a matriz de confusão."
      ]
    },
    {
      "cell_type": "code",
      "metadata": {
        "id": "dCwlKx97r2Am"
      },
      "source": [
        "# importando a função para visualização gráfica da matriz de confusão\n",
        "from sklearn.metrics import plot_confusion_matrix\n",
        "import matplotlib.pyplot as plt     # biblioteca para visualização gráfica\n",
        "\n",
        "%matplotlib inline"
      ],
      "execution_count": 193,
      "outputs": []
    },
    {
      "cell_type": "code",
      "metadata": {
        "colab": {
          "base_uri": "https://localhost:8080/",
          "height": 283
        },
        "id": "7Q6v5eict0C5",
        "outputId": "e0993cc2-1305-468b-9556-f111a6a9087e"
      },
      "source": [
        "# visualizando o gráfico da matriz de confusão\n",
        "plot_confusion_matrix(svmClassifier, X_test, y_test)\n",
        "plt.show();"
      ],
      "execution_count": 194,
      "outputs": [
        {
          "output_type": "display_data",
          "data": {
            "image/png": "[encoded data removed]",
            "text/plain": [
              "<Figure size 432x288 with 2 Axes>"
            ]
          },
          "metadata": {
            "needs_background": "light"
          }
        }
      ]
    },
    {
      "cell_type": "markdown",
      "metadata": {
        "id": "xI795CjxzDIE"
      },
      "source": [
        "![image.png](data:image/png;base64,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)"
      ]
    },
    {
      "cell_type": "markdown",
      "metadata": {
        "id": "HpFJLecjzHDU"
      },
      "source": [
        "> Ao criar um modelo preditivo, comece construindo rapidamente uma solução de funcional simples — e continue a construir iterativamente até obter o resultado desejado. Passar meses construindo um modelo preditivo — e não ser capaz de mostrar às partes interessadas quaisquer resultados — é uma maneira de perder a atenção e o apoio das partes interessadas.\n",
        "\n",
        "Aqui está a listagem completa do código para criar e avaliar um modelo de classificação de SVM:"
      ]
    },
    {
      "cell_type": "code",
      "metadata": {
        "colab": {
          "base_uri": "https://localhost:8080/"
        },
        "id": "vcWPpfkIr14C",
        "outputId": "29d88ff9-d836-4441-a695-ce06a97340e2"
      },
      "source": [
        "# importando as bibliotecas\n",
        "from sklearn.datasets import load_iris                  # importando o conjunto de dados\n",
        "from sklearn.svm import LinearSVC                       # importando o algoritmo classificador\n",
        "from sklearn.model_selection import train_test_split    # importando o particionador\n",
        "from sklearn.metrics import (accuracy_score, \n",
        "                             mean_absolute_error, \n",
        "                             confusion_matrix,          # importando as métricas de avaliação\n",
        "                             plot_confusion_matrix)     # visualização gráfica da matriz de confusão\n",
        "import matplotlib.pyplot as plt                         # visualização gráfica\n",
        "\n",
        "# para ignorar alertas de erro\n",
        "import warnings\n",
        "warnings.filterwarnings('ignore')\n",
        "\n",
        "# carregando os dados\n",
        "iris = load_iris()\n",
        "\n",
        "# separando os dados de treino e teste\n",
        "X_train, X_test, y_train, y_test = train_test_split(iris.data, iris.target,\n",
        "                                                    train_size = 0.90, random_state = 111)\n",
        "\n",
        "# instanciando o classificador\n",
        "svmClassifier = LinearSVC(random_state = 111)\n",
        "\n",
        "# treinando o classificador com os dados de treino - X_train, y_train\n",
        "svmClassifier.fit(X_train, y_train)\n",
        "\n",
        "# realizando as predições com os dados de teste - X_test\n",
        "y_pred = svmClassifier.predict(X_test)\n",
        "print(y_pred)   # visualizando as predições\n",
        "print(y_test)   # visualizando os dados reais\n",
        "\n",
        "\n",
        "print(y_pred == y_test)     # realizando comparação boleana entre os dados das predições e dados reais\n",
        "print(accuracy_score(y_test, y_pred))       # visualizando a acurácia do modelo\n",
        "print(confusion_matrix(y_test, predicted))  # visualizando a matriz de confusão"
      ],
      "execution_count": 195,
      "outputs": [
        {
          "output_type": "stream",
          "name": "stdout",
          "text": [
            "[0 0 2 2 1 0 0 2 2 1 2 0 1 2 2]\n",
            "[0 0 2 2 1 0 0 2 2 1 2 0 2 2 2]\n",
            "[ True  True  True  True  True  True  True  True  True  True  True  True\n",
            " False  True  True]\n",
            "0.9333333333333333\n",
            "[[5 0 0]\n",
            " [0 2 0]\n",
            " [0 1 7]]\n"
          ]
        }
      ]
    },
    {
      "cell_type": "code",
      "metadata": {
        "colab": {
          "base_uri": "https://localhost:8080/",
          "height": 283
        },
        "id": "zQAmZZ0Ar112",
        "outputId": "0310a6ec-3c84-4e27-d799-4b48c1bd0527"
      },
      "source": [
        "# importando a função para visualização gráfica da matriz de confusão\n",
        "from sklearn.metrics import plot_confusion_matrix\n",
        "import matplotlib.pyplot as plt     # biblioteca para visualização gráfica\n",
        "\n",
        "%matplotlib inline\n",
        "\n",
        "# visualizando o gráfico da matriz de confusão\n",
        "plot_confusion_matrix(svmClassifier, X_test, y_test)\n",
        "plt.show();"
      ],
      "execution_count": 196,
      "outputs": [
        {
          "output_type": "display_data",
          "data": {
            "image/png": "[encoded data removed]",
            "text/plain": [
              "<Figure size 432x288 with 2 Axes>"
            ]
          },
          "metadata": {
            "needs_background": "light"
          }
        }
      ]
    },
    {
      "cell_type": "markdown",
      "metadata": {
        "id": "LhTQzcw-74BG"
      },
      "source": [
        "### **Visualizando o classificador**\n",
        "\n",
        "Olhando para a área de superfície de decisão no gráfico, como mostrado na Figura 12-14, parece que algum ajuste deve ser feito. Se você olhar próximo ao meio da plotagem, verá que muitos dos pontos de dados pertencentes à área intermediária (Versicolor) estão na área à direita (Virginica)."
      ]
    },
    {
      "cell_type": "markdown",
      "metadata": {
        "id": "8HAF3llKZHg9"
      },
      "source": [
        "FIGURA 12-14:\n",
        "\n",
        "Classificação baseada em regressão logística com C = 1."
      ]
    },
    {
      "cell_type": "markdown",
      "metadata": {
        "id": "QFh0pLJIZJ4h"
      },
      "source": [
        "![image.png](data:image/png;base64,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)"
      ]
    },
    {
      "cell_type": "markdown",
      "metadata": {
        "id": "oL-qXkRAZPXp"
      },
      "source": [
        "A Figura 12-15 mostra a superfície de decisão com um valor C de 150. Parece visualmente melhor, então escolher usar essa configuração para seu modelo de regressão logística parece apropriado."
      ]
    },
    {
      "cell_type": "markdown",
      "metadata": {
        "id": "PXQdCsPdZSf3"
      },
      "source": [
        "FIGURA 12-15:\n",
        "\n",
        "Classificação baseada em regressão logística com C = 150."
      ]
    },
    {
      "cell_type": "markdown",
      "metadata": {
        "id": "1Qn6IEstZVMF"
      },
      "source": [
        "![image.png](data:image/png;base64,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)"
      ]
    },
    {
      "cell_type": "markdown",
      "metadata": {
        "id": "B1r2UKOjZbZL"
      },
      "source": [
        "## **Criando um modelo de aprendizado supervisionado com regressão logística**\n",
        "\n",
        "Depois de construir seu primeiro modelo preditivo de classificação, criar mais modelos como esse é uma tarefa realmente simples no scikit. A única diferença real de um modelo para outro é que você pode ter que ajustar os parâmetros de algoritmo para algoritmo. Achamos importante incluir alguns exemplos da técnica de classificação para que você possa se familiarizar com outros algoritmos da biblioteca scikit.\n",
        "\n"
      ]
    },
    {
      "cell_type": "markdown",
      "metadata": {
        "id": "oqGk1KiVaylM"
      },
      "source": [
        "### **Carregando seus dados**\n",
        "\n",
        "Esta listagem de código carregará o conjunto de dados iris em sua sessão:"
      ]
    },
    {
      "cell_type": "code",
      "metadata": {
        "id": "Gv_pvWryr1zZ"
      },
      "source": [
        "# importando o conjunto de dados da biblioteca do \"scikit-learn\"\n",
        "from sklearn.datasets import load_iris\n",
        "\n",
        "# instanciando o conjunto de dados na variável \"iris\"\n",
        "iris = load_iris()"
      ],
      "execution_count": 197,
      "outputs": []
    },
    {
      "cell_type": "code",
      "metadata": {
        "id": "DolTZgDBr1wV",
        "colab": {
          "base_uri": "https://localhost:8080/"
        },
        "outputId": "9fc16b9b-288a-435c-e211-9b4f32316515"
      },
      "source": [
        "# visualizando as informações do conjunto de dados\n",
        "print(iris.DESCR)"
      ],
      "execution_count": 198,
      "outputs": [
        {
          "output_type": "stream",
          "name": "stdout",
          "text": [
            ".. _iris_dataset:\n",
            "\n",
            "Iris plants dataset\n",
            "--------------------\n",
            "\n",
            "**Data Set Characteristics:**\n",
            "\n",
            "    :Number of Instances: 150 (50 in each of three classes)\n",
            "    :Number of Attributes: 4 numeric, predictive attributes and the class\n",
            "    :Attribute Information:\n",
            "        - sepal length in cm\n",
            "        - sepal width in cm\n",
            "        - petal length in cm\n",
            "        - petal width in cm\n",
            "        - class:\n",
            "                - Iris-Setosa\n",
            "                - Iris-Versicolour\n",
            "                - Iris-Virginica\n",
            "                \n",
            "    :Summary Statistics:\n",
            "\n",
            "    ============== ==== ==== ======= ===== ====================\n",
            "                    Min  Max   Mean    SD   Class Correlation\n",
            "    ============== ==== ==== ======= ===== ====================\n",
            "    sepal length:   4.3  7.9   5.84   0.83    0.7826\n",
            "    sepal width:    2.0  4.4   3.05   0.43   -0.4194\n",
            "    petal length:   1.0  6.9   3.76   1.76    0.9490  (high!)\n",
            "    petal width:    0.1  2.5   1.20   0.76    0.9565  (high!)\n",
            "    ============== ==== ==== ======= ===== ====================\n",
            "\n",
            "    :Missing Attribute Values: None\n",
            "    :Class Distribution: 33.3% for each of 3 classes.\n",
            "    :Creator: R.A. Fisher\n",
            "    :Donor: Michael Marshall (MARSHALL%PLU@io.arc.nasa.gov)\n",
            "    :Date: July, 1988\n",
            "\n",
            "The famous Iris database, first used by Sir R.A. Fisher. The dataset is taken\n",
            "from Fisher's paper. Note that it's the same as in R, but not as in the UCI\n",
            "Machine Learning Repository, which has two wrong data points.\n",
            "\n",
            "This is perhaps the best known database to be found in the\n",
            "pattern recognition literature.  Fisher's paper is a classic in the field and\n",
            "is referenced frequently to this day.  (See Duda & Hart, for example.)  The\n",
            "data set contains 3 classes of 50 instances each, where each class refers to a\n",
            "type of iris plant.  One class is linearly separable from the other 2; the\n",
            "latter are NOT linearly separable from each other.\n",
            "\n",
            ".. topic:: References\n",
            "\n",
            "   - Fisher, R.A. \"The use of multiple measurements in taxonomic problems\"\n",
            "     Annual Eugenics, 7, Part II, 179-188 (1936); also in \"Contributions to\n",
            "     Mathematical Statistics\" (John Wiley, NY, 1950).\n",
            "   - Duda, R.O., & Hart, P.E. (1973) Pattern Classification and Scene Analysis.\n",
            "     (Q327.D83) John Wiley & Sons.  ISBN 0-471-22361-1.  See page 218.\n",
            "   - Dasarathy, B.V. (1980) \"Nosing Around the Neighborhood: A New System\n",
            "     Structure and Classification Rule for Recognition in Partially Exposed\n",
            "     Environments\".  IEEE Transactions on Pattern Analysis and Machine\n",
            "     Intelligence, Vol. PAMI-2, No. 1, 67-71.\n",
            "   - Gates, G.W. (1972) \"The Reduced Nearest Neighbor Rule\".  IEEE Transactions\n",
            "     on Information Theory, May 1972, 431-433.\n",
            "   - See also: 1988 MLC Proceedings, 54-64.  Cheeseman et al\"s AUTOCLASS II\n",
            "     conceptual clustering system finds 3 classes in the data.\n",
            "   - Many, many more ...\n"
          ]
        }
      ]
    },
    {
      "cell_type": "markdown",
      "metadata": {
        "id": "Jq_GIG0XaqdQ"
      },
      "source": [
        "### **Criando uma instância do classificador**\n",
        "\n",
        "As duas linhas de código a seguir criam uma instância do classificador. A primeira linha importa a biblioteca de regressão logística. A segunda cria uma instância do algoritmo de regressão logística."
      ]
    },
    {
      "cell_type": "code",
      "metadata": {
        "id": "jaon_yqur1uM"
      },
      "source": [
        "# importando o modelo da biblioteca \"scikit-learn\"\n",
        "from sklearn.linear_model import LogisticRegression\n",
        "\n",
        "# instanciando o modelo\n",
        "logClassifier = LogisticRegression(C = 1, random_state = 111)"
      ],
      "execution_count": 199,
      "outputs": []
    },
    {
      "cell_type": "markdown",
      "metadata": {
        "id": "v6-ty0GxbjQK"
      },
      "source": [
        "Observe o parâmetro C (parâmetro de regularização) no construtor. O parâmetro de regularização é usado para evitar o sobreajuste (veja o Capítulo 15 para mais informações sobre o sobreajuste). O parâmetro não é essencial (o construtor funcionará bem sem ele porque será padronizado como C = 1). Em uma seção posterior, no entanto, criaremos um classificador de regressão logística, usando C = 150, porque ele cria uma plotagem melhor da superfície de decisão, então apenas o introduziremos aqui. (Você pode ver ambas as plotagens na seção “Visualizando o classificador” neste capítulo, nas Figuras 12-16 e 12-17)."
      ]
    },
    {
      "cell_type": "markdown",
      "metadata": {
        "id": "3-1k-PgKd6Qt"
      },
      "source": [
        "### **Executando os dados de treinamento**\n",
        "\n",
        "Você precisará dividir o conjunto de dados em conjuntos de treinamento e de teste antes de criar uma instância do classificador de regressão logística. O código a seguir realizará essa tarefa:"
      ]
    },
    {
      "cell_type": "code",
      "metadata": {
        "id": "tcpqs3uJr1rg",
        "colab": {
          "base_uri": "https://localhost:8080/"
        },
        "outputId": "a118661f-bdf8-4170-eb3c-cd6ffbb859f5"
      },
      "source": [
        "# importando a biblioteca para particionar os dados em treino e teste\n",
        "from sklearn.model_selection import train_test_split\n",
        "\n",
        "# instanciando os dados em treino e teste\n",
        "X_train, X_test, y_train, y_test = train_test_split(iris.data, iris.target, \n",
        "                                                    test_size = 0.10, random_state = 111)\n",
        "\n",
        "# treinando o modelo com os dados de treino \n",
        "logClassifier.fit(X_train, y_train)"
      ],
      "execution_count": 200,
      "outputs": [
        {
          "output_type": "execute_result",
          "data": {
            "text/plain": [
              "LogisticRegression(C=1, class_weight=None, dual=False, fit_intercept=True,\n",
              "                   intercept_scaling=1, l1_ratio=None, max_iter=100,\n",
              "                   multi_class='auto', n_jobs=None, penalty='l2',\n",
              "                   random_state=111, solver='lbfgs', tol=0.0001, verbose=0,\n",
              "                   warm_start=False)"
            ]
          },
          "metadata": {},
          "execution_count": 200
        }
      ]
    },
    {
      "cell_type": "markdown",
      "metadata": {
        "id": "6OmTLa40heZj"
      },
      "source": [
        "A linha 1 importa a biblioteca que nos permite dividir o conjunto de dados em duas partes.\n",
        "\n",
        "A linha 2 chama a função da biblioteca que divide o conjunto de dados em duas partes e atribui os conjuntos de dados agora divididos a dois pares de variáveis.\n",
        "\n",
        "A linha 3 pega a instância do classificador de regressão logística que você acabou de criar e chama o método fit para treinar o modelo com o conjunto de dados de treinamento.\n",
        "\n"
      ]
    },
    {
      "cell_type": "markdown",
      "metadata": {
        "id": "E4f83PpQhjo1"
      },
      "source": [
        "### **Executando os dados de teste**\n",
        "\n",
        "No código a seguir, a primeira linha fornece o conjunto de dados de teste para o modelo, e a terceira linha exibe a saída:"
      ]
    },
    {
      "cell_type": "code",
      "metadata": {
        "colab": {
          "base_uri": "https://localhost:8080/"
        },
        "id": "BGXEFQR4haSJ",
        "outputId": "077d04d5-f297-45eb-b416-d95628e854e3"
      },
      "source": [
        "# visualizando as predições\n",
        "predicted = logClassifier.predict(X_test)\n",
        "predicted"
      ],
      "execution_count": 201,
      "outputs": [
        {
          "output_type": "execute_result",
          "data": {
            "text/plain": [
              "array([0, 0, 2, 2, 2, 0, 0, 2, 2, 1, 2, 0, 1, 2, 2])"
            ]
          },
          "metadata": {},
          "execution_count": 201
        }
      ]
    },
    {
      "cell_type": "markdown",
      "metadata": {
        "id": "gIB-yjW1h5gS"
      },
      "source": [
        "### **Avaliando o modelo**\n",
        "\n",
        "Você pode fazer a referência cruzada da saída da predição em relação ao array y_test. Como resultado, verá que ele previu todos os pontos de dados de teste corretamente. Aqui está o código:"
      ]
    },
    {
      "cell_type": "code",
      "metadata": {
        "id": "1TlbDuiRhaPZ"
      },
      "source": [
        "# importando a biblioteca de avaliação\n",
        "from sklearn.metrics import accuracy_score"
      ],
      "execution_count": 202,
      "outputs": []
    },
    {
      "cell_type": "code",
      "metadata": {
        "colab": {
          "base_uri": "https://localhost:8080/"
        },
        "id": "8tv-UrghhaNM",
        "outputId": "293af409-d401-4209-9065-e1b3f37118ab"
      },
      "source": [
        "# visualizando as predições\n",
        "predicted"
      ],
      "execution_count": 203,
      "outputs": [
        {
          "output_type": "execute_result",
          "data": {
            "text/plain": [
              "array([0, 0, 2, 2, 2, 0, 0, 2, 2, 1, 2, 0, 1, 2, 2])"
            ]
          },
          "metadata": {},
          "execution_count": 203
        }
      ]
    },
    {
      "cell_type": "code",
      "metadata": {
        "colab": {
          "base_uri": "https://localhost:8080/"
        },
        "id": "ZD7gFM2bhaKu",
        "outputId": "0dcc23b1-93a0-4042-b4c3-edfca5175799"
      },
      "source": [
        "# visualizando os dados reais - y_test\n",
        "y_test"
      ],
      "execution_count": 204,
      "outputs": [
        {
          "output_type": "execute_result",
          "data": {
            "text/plain": [
              "array([0, 0, 2, 2, 1, 0, 0, 2, 2, 1, 2, 0, 2, 2, 2])"
            ]
          },
          "metadata": {},
          "execution_count": 204
        }
      ]
    },
    {
      "cell_type": "code",
      "metadata": {
        "colab": {
          "base_uri": "https://localhost:8080/"
        },
        "id": "AaNVkoRkio2A",
        "outputId": "98dc7ed2-670b-48b4-d617-13d764a14584"
      },
      "source": [
        "# avaliando a acurácia das predições do modelo\n",
        "accuracy_score(y_test, predicted)"
      ],
      "execution_count": 205,
      "outputs": [
        {
          "output_type": "execute_result",
          "data": {
            "text/plain": [
              "0.8666666666666667"
            ]
          },
          "metadata": {},
          "execution_count": 205
        }
      ]
    },
    {
      "cell_type": "code",
      "metadata": {
        "colab": {
          "base_uri": "https://localhost:8080/"
        },
        "id": "KsfXg4PniorD",
        "outputId": "4b7c566c-a0f6-48c2-e2a9-dde3d4217403"
      },
      "source": [
        "# realizando comparação boleana das predições com os dados reais - y_test\n",
        "predicted == y_test"
      ],
      "execution_count": 206,
      "outputs": [
        {
          "output_type": "execute_result",
          "data": {
            "text/plain": [
              "array([ True,  True,  True,  True, False,  True,  True,  True,  True,\n",
              "        True,  True,  True, False,  True,  True])"
            ]
          },
          "metadata": {},
          "execution_count": 206
        }
      ]
    },
    {
      "cell_type": "markdown",
      "metadata": {
        "id": "wNdcfWeYjRg8"
      },
      "source": [
        "Então como é o desempenho do modelo de regressão logística com o parâmetro C = 150 em comparação? Deveria ser melhor, porque a visualização parecia melhor, mas não dá para superar 100%. Aqui está o código para criar e avaliar o classificador logístico com C = 150:"
      ]
    },
    {
      "cell_type": "code",
      "metadata": {
        "id": "qsklV6SUioo8"
      },
      "source": [
        "# instanciando novo modelo com novos parâmetros\n",
        "logClassifier_2 = LogisticRegression(C = 150, random_state = 111)"
      ],
      "execution_count": 207,
      "outputs": []
    },
    {
      "cell_type": "code",
      "metadata": {
        "colab": {
          "base_uri": "https://localhost:8080/"
        },
        "id": "45I_DOLviomm",
        "outputId": "148aa839-f12a-4e58-d73f-d0a23651e92a"
      },
      "source": [
        "# treinando o modelo\n",
        "logClassifier_2.fit(X_train, y_train)"
      ],
      "execution_count": 208,
      "outputs": [
        {
          "output_type": "execute_result",
          "data": {
            "text/plain": [
              "LogisticRegression(C=150, class_weight=None, dual=False, fit_intercept=True,\n",
              "                   intercept_scaling=1, l1_ratio=None, max_iter=100,\n",
              "                   multi_class='auto', n_jobs=None, penalty='l2',\n",
              "                   random_state=111, solver='lbfgs', tol=0.0001, verbose=0,\n",
              "                   warm_start=False)"
            ]
          },
          "metadata": {},
          "execution_count": 208
        }
      ]
    },
    {
      "cell_type": "code",
      "metadata": {
        "id": "qeor7zf-iogC"
      },
      "source": [
        "# realizando as predições com o modelo\n",
        "predicted = logClassifier_2.predict(X_test)"
      ],
      "execution_count": 209,
      "outputs": []
    },
    {
      "cell_type": "code",
      "metadata": {
        "colab": {
          "base_uri": "https://localhost:8080/"
        },
        "id": "2qdkBaKSiodP",
        "outputId": "6b264496-0df6-4468-aec1-70f4acd4ed87"
      },
      "source": [
        "# avaliando a acurácia do modelo\n",
        "accuracy_score(y_test, predicted)"
      ],
      "execution_count": 210,
      "outputs": [
        {
          "output_type": "execute_result",
          "data": {
            "text/plain": [
              "1.0"
            ]
          },
          "metadata": {},
          "execution_count": 210
        }
      ]
    },
    {
      "cell_type": "code",
      "metadata": {
        "colab": {
          "base_uri": "https://localhost:8080/"
        },
        "id": "6SsgYeLrioaJ",
        "outputId": "18522852-8f02-4c65-8f60-dcb4dfbd8f5d"
      },
      "source": [
        "# visualizando a matriz de confusão\n",
        "confusion_matrix(y_test, predicted)"
      ],
      "execution_count": 211,
      "outputs": [
        {
          "output_type": "execute_result",
          "data": {
            "text/plain": [
              "array([[5, 0, 0],\n",
              "       [0, 2, 0],\n",
              "       [0, 0, 8]])"
            ]
          },
          "metadata": {},
          "execution_count": 211
        }
      ]
    },
    {
      "cell_type": "code",
      "metadata": {
        "id": "W7fs4mGgoC72"
      },
      "source": [
        "# importando a função para visualização gráfica da matriz de confusão\n",
        "from sklearn.metrics import plot_confusion_matrix\n",
        "import matplotlib.pyplot as plt     # biblioteca para visualização gráfica\n",
        "\n",
        "%matplotlib inline"
      ],
      "execution_count": 212,
      "outputs": []
    },
    {
      "cell_type": "code",
      "metadata": {
        "colab": {
          "base_uri": "https://localhost:8080/",
          "height": 283
        },
        "id": "drGb0sCuioVo",
        "outputId": "5ad5a0d4-8d42-4437-eb34-cecc73f777b8"
      },
      "source": [
        "# visualizando o gráfico da matriz de confusão\n",
        "plot_confusion_matrix(logClassifier_2, X_test, y_test)\n",
        "plt.show();"
      ],
      "execution_count": 213,
      "outputs": [
        {
          "output_type": "display_data",
          "data": {
            "image/png": "[encoded data removed]",
            "text/plain": [
              "<Figure size 432x288 with 2 Axes>"
            ]
          },
          "metadata": {
            "needs_background": "light"
          }
        }
      ]
    },
    {
      "cell_type": "markdown",
      "metadata": {
        "id": "EgZjlUdDl1BH"
      },
      "source": [
        "Na aplicação realizada o modelo obteve um resultado melhor."
      ]
    },
    {
      "cell_type": "markdown",
      "metadata": {
        "id": "xZgU2yl1mPtV"
      },
      "source": [
        "Aqui está a listagem completa do código para criar e avaliar um modelo de classificação de regressão logística com os parâmetros padrão:"
      ]
    },
    {
      "cell_type": "code",
      "metadata": {
        "id": "RdckmDU-r1pA",
        "colab": {
          "base_uri": "https://localhost:8080/"
        },
        "outputId": "8cd6deb9-2ded-45b7-e74d-9688d4ff5db7"
      },
      "source": [
        "# importando as bibliotecas \n",
        "from sklearn.datasets import load_iris                  # importando o conjunto de dados da biblioteca do scikit-learn\n",
        "from sklearn.linear_model import LogisticRegression     # importando modelo de classificação logística\n",
        "from sklearn.model_selection import train_test_split    # importando o particionador \n",
        "from sklearn.metrics import (accuracy_score,            # importando a métrica de avaliação da acurácia\n",
        "                             confusion_matrix,          # importando a matriz de confusão\n",
        "                             plot_confusion_matrix)     # importando o gráfico da matriz de confusão\n",
        "import matplotlib.pyplot as plt                         # biblioteca para visualização gráfica\n",
        "\n",
        "# comando \"mágico\" para plotagem de gráficos no jupyter notebook\n",
        "%matplotlib inline\n",
        "\n",
        "# instanciando diretamente as variáveis explicativas (X) e a resposta (y)\n",
        "X, y = load_iris(return_X_y = True)\n",
        "\n",
        "# visualizando as informações do conjunto de dados\n",
        "print(iris.DESCR)"
      ],
      "execution_count": 214,
      "outputs": [
        {
          "output_type": "stream",
          "name": "stdout",
          "text": [
            ".. _iris_dataset:\n",
            "\n",
            "Iris plants dataset\n",
            "--------------------\n",
            "\n",
            "**Data Set Characteristics:**\n",
            "\n",
            "    :Number of Instances: 150 (50 in each of three classes)\n",
            "    :Number of Attributes: 4 numeric, predictive attributes and the class\n",
            "    :Attribute Information:\n",
            "        - sepal length in cm\n",
            "        - sepal width in cm\n",
            "        - petal length in cm\n",
            "        - petal width in cm\n",
            "        - class:\n",
            "                - Iris-Setosa\n",
            "                - Iris-Versicolour\n",
            "                - Iris-Virginica\n",
            "                \n",
            "    :Summary Statistics:\n",
            "\n",
            "    ============== ==== ==== ======= ===== ====================\n",
            "                    Min  Max   Mean    SD   Class Correlation\n",
            "    ============== ==== ==== ======= ===== ====================\n",
            "    sepal length:   4.3  7.9   5.84   0.83    0.7826\n",
            "    sepal width:    2.0  4.4   3.05   0.43   -0.4194\n",
            "    petal length:   1.0  6.9   3.76   1.76    0.9490  (high!)\n",
            "    petal width:    0.1  2.5   1.20   0.76    0.9565  (high!)\n",
            "    ============== ==== ==== ======= ===== ====================\n",
            "\n",
            "    :Missing Attribute Values: None\n",
            "    :Class Distribution: 33.3% for each of 3 classes.\n",
            "    :Creator: R.A. Fisher\n",
            "    :Donor: Michael Marshall (MARSHALL%PLU@io.arc.nasa.gov)\n",
            "    :Date: July, 1988\n",
            "\n",
            "The famous Iris database, first used by Sir R.A. Fisher. The dataset is taken\n",
            "from Fisher's paper. Note that it's the same as in R, but not as in the UCI\n",
            "Machine Learning Repository, which has two wrong data points.\n",
            "\n",
            "This is perhaps the best known database to be found in the\n",
            "pattern recognition literature.  Fisher's paper is a classic in the field and\n",
            "is referenced frequently to this day.  (See Duda & Hart, for example.)  The\n",
            "data set contains 3 classes of 50 instances each, where each class refers to a\n",
            "type of iris plant.  One class is linearly separable from the other 2; the\n",
            "latter are NOT linearly separable from each other.\n",
            "\n",
            ".. topic:: References\n",
            "\n",
            "   - Fisher, R.A. \"The use of multiple measurements in taxonomic problems\"\n",
            "     Annual Eugenics, 7, Part II, 179-188 (1936); also in \"Contributions to\n",
            "     Mathematical Statistics\" (John Wiley, NY, 1950).\n",
            "   - Duda, R.O., & Hart, P.E. (1973) Pattern Classification and Scene Analysis.\n",
            "     (Q327.D83) John Wiley & Sons.  ISBN 0-471-22361-1.  See page 218.\n",
            "   - Dasarathy, B.V. (1980) \"Nosing Around the Neighborhood: A New System\n",
            "     Structure and Classification Rule for Recognition in Partially Exposed\n",
            "     Environments\".  IEEE Transactions on Pattern Analysis and Machine\n",
            "     Intelligence, Vol. PAMI-2, No. 1, 67-71.\n",
            "   - Gates, G.W. (1972) \"The Reduced Nearest Neighbor Rule\".  IEEE Transactions\n",
            "     on Information Theory, May 1972, 431-433.\n",
            "   - See also: 1988 MLC Proceedings, 54-64.  Cheeseman et al\"s AUTOCLASS II\n",
            "     conceptual clustering system finds 3 classes in the data.\n",
            "   - Many, many more ...\n"
          ]
        }
      ]
    },
    {
      "cell_type": "code",
      "metadata": {
        "colab": {
          "base_uri": "https://localhost:8080/"
        },
        "id": "YxDvTWAnf_RF",
        "outputId": "ea8c9bf8-61af-413e-d00c-5f23541149a9"
      },
      "source": [
        "# instanciando os dados em treino e teste\n",
        "X_train, X_test, y_train, y_test = train_test_split(X, y, \n",
        "                                                    test_size = 0.10, random_state = 111)\n",
        "\n",
        "# instanciando o classificador e setando os parâmetros\n",
        "logClassifier = LogisticRegression(random_state = 111)\n",
        "\n",
        "# treinando o modelo com os dados de treino \n",
        "logClassifier.fit(X_train, y_train)"
      ],
      "execution_count": 215,
      "outputs": [
        {
          "output_type": "execute_result",
          "data": {
            "text/plain": [
              "LogisticRegression(C=1.0, class_weight=None, dual=False, fit_intercept=True,\n",
              "                   intercept_scaling=1, l1_ratio=None, max_iter=100,\n",
              "                   multi_class='auto', n_jobs=None, penalty='l2',\n",
              "                   random_state=111, solver='lbfgs', tol=0.0001, verbose=0,\n",
              "                   warm_start=False)"
            ]
          },
          "metadata": {},
          "execution_count": 215
        }
      ]
    },
    {
      "cell_type": "code",
      "metadata": {
        "colab": {
          "base_uri": "https://localhost:8080/",
          "height": 317
        },
        "id": "vUrci7ELf_PO",
        "outputId": "83f362f3-f37c-4598-b73d-8c3c10523b44"
      },
      "source": [
        "# realizando as predições\n",
        "predicted = logClassifier.predict(X_test)\n",
        "\n",
        "# visualizando acurácia do modelo\n",
        "print(f'Acurácia: {accuracy_score(y_test, predicted)}\\n')\n",
        "\n",
        "# visualizando o gráfico da matriz de confusão\n",
        "plot_confusion_matrix(logClassifier_2, X_test, y_test)\n",
        "plt.show();"
      ],
      "execution_count": 216,
      "outputs": [
        {
          "output_type": "stream",
          "name": "stdout",
          "text": [
            "Acurácia: 0.8666666666666667\n",
            "\n"
          ]
        },
        {
          "output_type": "display_data",
          "data": {
            "image/png": "[encoded data removed]",
            "text/plain": [
              "<Figure size 432x288 with 2 Axes>"
            ]
          },
          "metadata": {
            "needs_background": "light"
          }
        }
      ]
    },
    {
      "cell_type": "markdown",
      "metadata": {
        "id": "_5tgbHHurh8i"
      },
      "source": [
        "### **Visualizando o classificador**\n",
        "\n",
        "O conjunto de dados Iris não é fácil de representar graficamente em sua forma original, porque você não pode plotar todas as quatro coordenadas (dos atributos) do conjunto de dados em uma tela bidimensional. Portanto, você pode escolher dois dos quatro atributos para fins de visualização, ou, muitas vezes, é melhor reduzir as dimensões aplicando um algoritmo de redução de dimensionalidade nos atributos. Nesse caso, o algoritmo usado para fazer a transformação de dados (reduzindo as dimensões dos atributos) é chamado de Análise de Componente Principal (PCA).\n",
        "\n",
        "O algoritmo PCA pega todos os quatro atributos (números), faz alguns cálculos e gera dois novos números que você pode usar para fazer o gráfico. Pense no PCA como seguindo duas etapas gerais:\n",
        "\n",
        "1. **Pega como entrada um conjunto de dados com muitos atributos.**\n",
        "2. **Ele reduz essa entrada a um conjunto menor de atributos (definidos pelo usuário ou determinados pelo algoritmo), transformando os componentes do conjunto de atributos no que considera como os principais componentes.**\n",
        "\n",
        "Essa transformação do conjunto de atributos é chamada também de extração de atributo. O código a seguir faz a redução da dimensão:"
      ]
    },
    {
      "cell_type": "code",
      "metadata": {
        "id": "GXyBp1trf_NB"
      },
      "source": [
        "# importando a biblioteca para particionar os dados em treino e teste\n",
        "from sklearn.model_selection import train_test_split\n",
        "\n",
        "# instanciando os dados em treino e teste\n",
        "X_train, X_test, y_train, y_test = train_test_split(iris.data, iris.target, \n",
        "                                                    test_size = 0.10, random_state = 111)\n",
        "\n",
        "# importando a biblioteca\n",
        "from sklearn.decomposition import PCA \n",
        "\n",
        "# instanciando o modelo de redução da dimensionalidade\n",
        "pca = PCA(n_components = 2).fit(X_train)\n",
        "\n",
        "# aplicando o redutor e instanciando o resultado na variável \"pca_2d\"\n",
        "pca_2d = pca.transform(X_train)"
      ],
      "execution_count": 217,
      "outputs": []
    },
    {
      "cell_type": "code",
      "metadata": {
        "colab": {
          "base_uri": "https://localhost:8080/"
        },
        "id": "06mQpnGl5WsM",
        "outputId": "a188cf39-024b-42c4-af3f-cbaa1cb22121"
      },
      "source": [
        "# visualizando a dimensão da variável \"pca_2d\"\n",
        "pca_2d.shape"
      ],
      "execution_count": 218,
      "outputs": [
        {
          "output_type": "execute_result",
          "data": {
            "text/plain": [
              "(135, 2)"
            ]
          },
          "metadata": {},
          "execution_count": 218
        }
      ]
    },
    {
      "cell_type": "markdown",
      "metadata": {
        "id": "w_OoQppnsm76"
      },
      "source": [
        "![image.png](data:image/png;base64,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)"
      ]
    },
    {
      "cell_type": "markdown",
      "metadata": {
        "id": "_9J-Rmk-sqhw"
      },
      "source": [
        "> Se você já importou quaisquer bibliotecas ou conjuntos de dados listados nesta seção de código, não é necessário reimportá-los ou carregá-los na sua sessão atual do Python. No entanto, isso não afeta seu programa.\n",
        "\n",
        "Depois de executar o código, você pode digitar a variável pca_2d no interpretador e verificar que ele gera vetores (arrays) com dois itens, em vez de quatro. Esses dois novos números são representações matemáticas dos quatro números antigos. Com o conjunto de recursos reduzido, você pode plotar os resultados usando o seguinte código:"
      ]
    },
    {
      "cell_type": "code",
      "metadata": {
        "colab": {
          "base_uri": "https://localhost:8080/",
          "height": 405
        },
        "id": "pYK0qILYf_J3",
        "outputId": "71629488-9fe4-4e0e-c9e3-23a5a995ed17"
      },
      "source": [
        "# importando a biblioteca para plotagem do gráfico\n",
        "import pylab as pl\n",
        "\n",
        "pl.figure(figsize=(8, 6))   # instanciando o tamanho da imagem\n",
        "\n",
        "# realizando um laço de repetição (for) nas classes do conjunto de dados\n",
        "for i in range(0, pca_2d.shape[0]):\n",
        "    \n",
        "    # classe 0\n",
        "    if y_train[i] == 0:\n",
        "        c1 = pl.scatter(pca_2d[i, 0], \n",
        "                        pca_2d[i, 1], \n",
        "                        c='r', marker='+')\n",
        "\n",
        "    # classe 1    \n",
        "    elif y_train[i] == 1:\n",
        "        c2 = pl.scatter(pca_2d[i, 0], \n",
        "                        pca_2d[i, 1], \n",
        "                        c='g', marker='o')\n",
        "\n",
        "    # classe 2   \n",
        "    elif y_train[i] == 2:\n",
        "        c3 = pl.scatter(pca_2d[i, 0], \n",
        "                        pca_2d[i, 1], \n",
        "                        c='b', marker='*')\n",
        "\n",
        "# instanciano a legenda do gráfico     \n",
        "pl.legend([c1, c2, c3], ['Setosa', 'Versicolor', 'Virginica'])\n",
        "\n",
        "# instanciando o título do gráfico\n",
        "pl.title('''Conjunto de dados de treinamento Iris \n",
        "    com 3 classes e resultados conhecidos''')\n",
        "\n",
        "# plotando o gráfico\n",
        "pl.show();"
      ],
      "execution_count": 219,
      "outputs": [
        {
          "output_type": "display_data",
          "data": {
            "image/png": "[encoded data removed]",
            "text/plain": [
              "<Figure size 576x432 with 1 Axes>"
            ]
          },
          "metadata": {
            "needs_background": "light"
          }
        }
      ]
    },
    {
      "cell_type": "markdown",
      "metadata": {
        "id": "7TloECsU-ivY"
      },
      "source": [
        "A Figura é um gráfico de dispersão — uma visualização de pontos plotados representando observações em um gráfico. Esse gráfico de dispersão em particular representa os resultados conhecidos do conjunto de dados de treinamento Iris. Existem 135 pontos plotados (observações) do nosso conjunto de dados de treinamento. (Veja uma plotagem semelhante, usando todas as 150 observações, no Capítulo 13.) O conjunto de dados de treinamento consiste em:\n",
        "\n",
        "- 45 sinais de mais que representam a classe Setosa.\n",
        "- 48 círculos que representam a classe Versicolor.\n",
        "- 42 estrelas que representam a classe da Virginica.\n",
        "\n",
        "Você pode confirmar o número indicado de classes digitando o seguinte código:\n",
        "\n"
      ]
    },
    {
      "cell_type": "code",
      "metadata": {
        "colab": {
          "base_uri": "https://localhost:8080/"
        },
        "id": "21GNw2nJ-q4P",
        "outputId": "cc13b74b-0469-4b45-ebe9-6766d0dbbd3b"
      },
      "source": [
        "# contagem das classes: setosa[0], versicolor[1], virginica[2]\n",
        "sum(y_train == 0), sum(y_train == 1), sum(y_train == 2)"
      ],
      "execution_count": 220,
      "outputs": [
        {
          "output_type": "execute_result",
          "data": {
            "text/plain": [
              "(45, 48, 42)"
            ]
          },
          "metadata": {},
          "execution_count": 220
        }
      ]
    },
    {
      "cell_type": "code",
      "metadata": {
        "colab": {
          "base_uri": "https://localhost:8080/"
        },
        "id": "AQBwmQ7J-5Fh",
        "outputId": "13db2004-43c3-4ff4-ee27-74726737f555"
      },
      "source": [
        "# total geral das classes\n",
        "sum(y_train == 0) + sum(y_train == 1) + sum(y_train == 2)"
      ],
      "execution_count": 221,
      "outputs": [
        {
          "output_type": "execute_result",
          "data": {
            "text/plain": [
              "135"
            ]
          },
          "metadata": {},
          "execution_count": 221
        }
      ]
    },
    {
      "cell_type": "code",
      "metadata": {
        "colab": {
          "base_uri": "https://localhost:8080/",
          "height": 439
        },
        "id": "dGmiIUtA5N7U",
        "outputId": "b53d0196-50ba-44b0-ad29-43402b4e634e"
      },
      "source": [
        "# aplicando o PCA em todo o conjunto de dados\n",
        "\n",
        "from sklearn.datasets import load_iris\n",
        "from sklearn.decomposition import PCA\n",
        "\n",
        "pca = PCA(n_components=2).fit(iris.data)\n",
        "pca_2d = pca.transform(iris.data)\n",
        "\n",
        "print('Dimensão do conjunto de dados: ', pca_2d.shape, '\\n')\n",
        "\n",
        "import pylab as pl\n",
        "\n",
        "pl.figure(figsize=(8, 6))\n",
        "\n",
        "for i in range(0, pca_2d.shape[0]):\n",
        "    if iris.target[i] == 0:\n",
        "        c1 = pl.scatter(pca_2d[i, 0], \n",
        "                        pca_2d[i, 1], \n",
        "                        c='r', marker='+')\n",
        "        \n",
        "    elif iris.target[i] == 1:\n",
        "        c2 = pl.scatter(pca_2d[i, 0], \n",
        "                        pca_2d[i, 1], \n",
        "                        c='g', marker='o')\n",
        "        \n",
        "    elif iris.target[i] == 2:\n",
        "        c3 = pl.scatter(pca_2d[i, 0], \n",
        "                        pca_2d[i, 1], \n",
        "                        c='b', marker='*')\n",
        "\n",
        "      \n",
        "pl.legend([c1, c2, c3], ['Setosa', 'Versicolor', 'Virginica'])\n",
        "    \n",
        "pl.title('''Conjunto de dados de treinamento Iris \n",
        "    com 3 classes e resultados conhecidos''')\n",
        "\n",
        "pl.show();"
      ],
      "execution_count": 222,
      "outputs": [
        {
          "output_type": "stream",
          "name": "stdout",
          "text": [
            "Dimensão do conjunto de dados:  (150, 2) \n",
            "\n"
          ]
        },
        {
          "output_type": "display_data",
          "data": {
            "image/png": "[encoded data removed]",
            "text/plain": [
              "<Figure size 576x432 with 1 Axes>"
            ]
          },
          "metadata": {
            "needs_background": "light"
          }
        }
      ]
    },
    {
      "cell_type": "markdown",
      "metadata": {
        "id": "Isy5PtwIBR6g"
      },
      "source": [
        "A partir desse gráfico, a classe Setosa é linearmente separável das outras duas classes. Embora as classes Versicolor e Virginica não sejam completamente separáveis por uma linha reta, elas não se sobrepõem muito. De uma perspectiva visual simples, os classificadores devem se sair muito bem.\n",
        "\n",
        "A Figura mostra um gráfico do modelo da Máquina de Vetores de Suporte (SVM) treinado com um conjunto de dados que foi dimensionalmente reduzido a dois atributos. Esse não é o mesmo modelo de SVM que você treinou na seção anterior; aquele modelo SVM usou todos os quatro atributos. Quatro atributos é um conjunto de atributos pequeno; queremos manter todos os quatro para que os dados possam reter a maior parte de suas informações úteis. A plotagem é mostrada aqui como uma ajuda visual.\n",
        "\n",
        "Essa plotagem inclui a superfície de decisão para o classificador — a área no gráfico que representa a função de decisão que a SVM usa para determinar o resultado da nova entrada de dados. As linhas separam as áreas em que o modelo prevê a classe específica a que um ponto de dado pertence. A seção esquerda do gráfico prevê a classe Setosa, a seção do meio, a classe Versicolor e a seção direita, a classe Virginica."
      ]
    },
    {
      "cell_type": "markdown",
      "metadata": {
        "id": "CnzcAva5CjD6"
      },
      "source": [
        "![image.png](data:image/png;base64,iVBORw0KGgoAAAANSUhEUgAAAEUAAABcCAYAAAA4VHh6AAAID0lEQVR4Ae2cv2vdVhTH9Se0/0HSKTYZEjoHaqjBY2pqjJslaSAhjYc0BNx4yuCG4mZoY2hon+TXKYOnYvDU5e0u2KuHgsGzy5u8qnyl+xVH15LulXSk5wRdeLn6cX+dj84596cTBD2F0Wj0RRSNXoVh+FcUjSZRFMaO3xTpdnfDP6MoejYe/3Grp6Z2V814PP4kiqL7KQQnABcgvp8CUhiGd7treQclQyOUQRCIHSeAxuPxtQ7E0CkSXy+KwmOHSdiCqdzjI1wp80JjPH2ECoAq6DAtmK3OZ25QCirf3Q1/qWrkjN5N4ZgbiNQuS6od4emMhPbSuNSketIa9ChRFE6vMhDRttPOfc0VNReX5sCc7rezjZLc6SCq/njj3bvf4tevf0x+b9/+6hKgw/fKYJoAAYyHD7+NgyDI/ZaWluLZwVEC09RkILwNhPfXr1+LAU3Yfm/XrUfDxqnWbvDLlz/kgKysfB2/ePEi9+zevW9ql6sEcdrY+Zpu16uXgTnAb9Aslpe/ygBsb2/HDJPJJHsObYGQ9Dlv3vzcJ6Tj2oO8dDLnHrJDINtMcH/79q1M+JOTEzJJYpoQYmiLvEe+vuDAT5b0KcWPff2IDUQKyOsqKEwj4z79jbd/MWbjVGV8USnM/Px87p7vlpeX4wcPHmQ/Ppexnff58++d9Sv5l1MvM/Kd3MGHULCbN2/GFxcX8dHRUWwLyDRl8d7eXmJW6+vrWXlPn37XF5QYC1/F9mKemum/V4MkFAj85MmTeG5uLhOsDELR842NjVy+fqGE08o1mbrrIdKhFgmLZ3V9CvKwF1MyEedHhg8t1JZ0DbXeMB5+xQYDRymfVUG5c+dOTkOQF2OcvmCIeqAtl9dhmi4holuGIFB5CiR7pSooaBTMEHnhXPvWEAElvrQGY8Ylal/IFwoGedQqXANQvqH1NLdl3uOcCTUdzpc1whdKkR+itnGkC1C4LqtL83nO4TY1nbIGtYECUDI/wWHGXVaf3nOxjKlXaKruUqgqn4J5EcY35+fn8erqas7pEoaMMS2Ac4f/QR0wOWqWjgyjSWJCTXodVwN8oQAIw9nZWQ7KjRs34q2trRgzbAmm6Bq9mJaJJVAwonMJWfe9LxQCYSwFBiSGzc1NJxjUWbedRemhJIG2P0FFbaFgviQDTFACg9nh2fv373PPdWbY0f3Ad65TRLXsWVsomEDKIKHYwGBiBKYzkRy9CsoEa/O8Syg2sPF4nEHRmTONJgOUS0dCBigFznmAMkDx85Mz0BSuzCG2A3sRLDrJIAd29ruPwtFCwMXFxVgOzggAWyBra2vJ0J/PGJe9+yigUEituCsoXhtefvbonhBqwWA52lAwwu99REthtGJtKMnqfpMTBS6tqRrRasFgOdpQkg0yrE26hKz7/kOGkmy+++4I1gHzAUOZZuu02mfY+oSys7OTTQjbzpITJ0sq2n5FnmDa39+n+XcSY9bMQV/73QBx0qnOdqmPGWHdlA3FYZ0uA+tB3HZJ8tKGmKYJYVNLNlauxWoCkoeAsE7r88HK0uRMpysTkluiWDbsIjx+/CiD336BSZgOoWAjqIxik+fShHAaQVtbDg8PMyDQypZbrqfkcCnWXsTmligajaMaWgH7RPLYR/uNMrEJZlPRHrOgN5C+RR4KbAoIGic3zhSOg7lPM3XZPQMQdwWbQCnaSVTthm0t4b05gaA6c7ZPQWLXz95OdUE6ODiIsWsoNa/9lqnZJqXwVXEX8yEbDIRD74FutcwJQzMw+FtYWMjBQN72QMI4medUgbDfaTtd9GAYhsMHyK/Na/sUpXSkTIMYzltpJ7D+H0oZM1L/Qyd0nUVaIwUvugZMjEXajlrxcQoHarZWlN2b3kjVv3DMAzg8UlEEAc8AgsctNGCYuusfQbcBaZ9yIhQ7hkmgJ+FPEYIc/jf/Y4VZgbFBKd/rASGgvjRGGQS1RB8IwZglhk58TEcwAOW4dtdLgX1j43xn8pfqdcGhl7m0RuIraN10qEh7OlBXYHf6ikleXYHrpDfmpD6WcQtcdeh4NOncXFyQ0kFecphw1r7mFJ2Bq729vscilfmLsr7hAMaz3nxHE6qp5iQbbJ0643RudsU0wwdYusQJQF7/3RDHFGXxlCCutFb4gJFp0tPd+A8k4IMAqvyXAkj+D6e7M3ecUojheiAwEBgIDAQGAgOBWRH4zKyXbhQ04PeCtVSkZx6s0uOa4dMgCP4zeb40D2Varur/LfI9sur4NwgC5kURuGc+xLgvCqjnH5EW6dg23zKyctnoKihZYnPBPGikzCcFpGBMy3Sfm4bznnmYHoIBLAMEAkRX2DP58GEQWD6ufctIc4qvLgvhS2oK7xlTUAiAHwMaxq9CIZmW5RMKYCDYUJAOsJEPwVcg1m2y5SLfMrJMdqOzF0EQEArVF4UjMM9PRgAIii9EzUFsQ2EZiCVIGwresR7UhWuZF20qCqgP6ZCeH4DpfMtg+kxAuyAkIJQssbkgFAjERiA/1J6Ns6GwfGoKgCIQCgUHFGoJ3qN8H/NBWnwYthn5aEp1ykgaRQHZ6OSh+YcVyGe4Zh4IBOEgCBqOaxcU5JeNJBTkQxsAxwcKISK2A8GjbARZn3lUHVHAplDYADQO1y4oTE8zkFAogDQvX4HQfmrGioGLmGX6aluSgVAkeRZATZHvkJ555JdA4xHKoMgyUD4FsKEwPz8SypV5WY+pLovgaGU6micS+JaRFTZcDAQGAgOBgcBAYCAwELgqBP4Hl83d2NmH6KEAAAAASUVORK5CYII=)"
      ]
    },
    {
      "cell_type": "markdown",
      "metadata": {
        "id": "b_ZvBQk-Cm_9"
      },
      "source": [
        "> O modelo SVM que você criou não usou o conjunto de atributos reduzido dimensionalmente. Usamos apenas a redução de dimensionalidade aqui para gerar um gráfico da superfície de decisão do modelo SVM — como auxílio visual. A listagem completa do código que cria o gráfico é fornecida como referência. Ela não deve ser executado em sequência com o nosso exemplo atual, se você estiver acompanhando nossa execução. Ela pode sobrescrever algumas das variáveis que você já pode ter na sessão. O código para produzir esse gráfico é baseado no código de exemplo fornecido no site do scikit-learn. Você pode aprender mais sobre como criar gráficos como esses no site do scikit-learn.\n",
        "\n",
        "Aqui está a lista completa do código que cria o enredo:"
      ]
    },
    {
      "cell_type": "code",
      "metadata": {
        "id": "PsMfF4Ij-5DI"
      },
      "source": [
        "# importando as funções e bibliotecas\n",
        "from sklearn.decomposition import PCA \n",
        "from sklearn.datasets import load_iris\n",
        "from sklearn.svm import LinearSVC\n",
        "from sklearn.model_selection import train_test_split\n",
        "import pylab as pl\n",
        "import numpy as np"
      ],
      "execution_count": 223,
      "outputs": []
    },
    {
      "cell_type": "code",
      "metadata": {
        "colab": {
          "base_uri": "https://localhost:8080/"
        },
        "id": "hRkNITT0-5BM",
        "outputId": "629595a5-ae3d-4716-d3fd-7aaa3cdf7e4f"
      },
      "source": [
        "# instanciando diretamente as variáveis explicativas (X) e a resposta (y)\n",
        "X, y = load_iris(return_X_y=True)\n",
        "X.shape, y.shape    # dimensão das variáveis"
      ],
      "execution_count": 224,
      "outputs": [
        {
          "output_type": "execute_result",
          "data": {
            "text/plain": [
              "((150, 4), (150,))"
            ]
          },
          "metadata": {},
          "execution_count": 224
        }
      ]
    },
    {
      "cell_type": "code",
      "metadata": {
        "colab": {
          "base_uri": "https://localhost:8080/"
        },
        "id": "WrosDRA9-4_K",
        "outputId": "1f9b775a-b6d5-45d7-9cb7-b62cbd790755"
      },
      "source": [
        "# visualizando as informações do conjunto de dados\n",
        "print(load_iris().DESCR)"
      ],
      "execution_count": 225,
      "outputs": [
        {
          "output_type": "stream",
          "name": "stdout",
          "text": [
            ".. _iris_dataset:\n",
            "\n",
            "Iris plants dataset\n",
            "--------------------\n",
            "\n",
            "**Data Set Characteristics:**\n",
            "\n",
            "    :Number of Instances: 150 (50 in each of three classes)\n",
            "    :Number of Attributes: 4 numeric, predictive attributes and the class\n",
            "    :Attribute Information:\n",
            "        - sepal length in cm\n",
            "        - sepal width in cm\n",
            "        - petal length in cm\n",
            "        - petal width in cm\n",
            "        - class:\n",
            "                - Iris-Setosa\n",
            "                - Iris-Versicolour\n",
            "                - Iris-Virginica\n",
            "                \n",
            "    :Summary Statistics:\n",
            "\n",
            "    ============== ==== ==== ======= ===== ====================\n",
            "                    Min  Max   Mean    SD   Class Correlation\n",
            "    ============== ==== ==== ======= ===== ====================\n",
            "    sepal length:   4.3  7.9   5.84   0.83    0.7826\n",
            "    sepal width:    2.0  4.4   3.05   0.43   -0.4194\n",
            "    petal length:   1.0  6.9   3.76   1.76    0.9490  (high!)\n",
            "    petal width:    0.1  2.5   1.20   0.76    0.9565  (high!)\n",
            "    ============== ==== ==== ======= ===== ====================\n",
            "\n",
            "    :Missing Attribute Values: None\n",
            "    :Class Distribution: 33.3% for each of 3 classes.\n",
            "    :Creator: R.A. Fisher\n",
            "    :Donor: Michael Marshall (MARSHALL%PLU@io.arc.nasa.gov)\n",
            "    :Date: July, 1988\n",
            "\n",
            "The famous Iris database, first used by Sir R.A. Fisher. The dataset is taken\n",
            "from Fisher's paper. Note that it's the same as in R, but not as in the UCI\n",
            "Machine Learning Repository, which has two wrong data points.\n",
            "\n",
            "This is perhaps the best known database to be found in the\n",
            "pattern recognition literature.  Fisher's paper is a classic in the field and\n",
            "is referenced frequently to this day.  (See Duda & Hart, for example.)  The\n",
            "data set contains 3 classes of 50 instances each, where each class refers to a\n",
            "type of iris plant.  One class is linearly separable from the other 2; the\n",
            "latter are NOT linearly separable from each other.\n",
            "\n",
            ".. topic:: References\n",
            "\n",
            "   - Fisher, R.A. \"The use of multiple measurements in taxonomic problems\"\n",
            "     Annual Eugenics, 7, Part II, 179-188 (1936); also in \"Contributions to\n",
            "     Mathematical Statistics\" (John Wiley, NY, 1950).\n",
            "   - Duda, R.O., & Hart, P.E. (1973) Pattern Classification and Scene Analysis.\n",
            "     (Q327.D83) John Wiley & Sons.  ISBN 0-471-22361-1.  See page 218.\n",
            "   - Dasarathy, B.V. (1980) \"Nosing Around the Neighborhood: A New System\n",
            "     Structure and Classification Rule for Recognition in Partially Exposed\n",
            "     Environments\".  IEEE Transactions on Pattern Analysis and Machine\n",
            "     Intelligence, Vol. PAMI-2, No. 1, 67-71.\n",
            "   - Gates, G.W. (1972) \"The Reduced Nearest Neighbor Rule\".  IEEE Transactions\n",
            "     on Information Theory, May 1972, 431-433.\n",
            "   - See also: 1988 MLC Proceedings, 54-64.  Cheeseman et al\"s AUTOCLASS II\n",
            "     conceptual clustering system finds 3 classes in the data.\n",
            "   - Many, many more ...\n"
          ]
        }
      ]
    },
    {
      "cell_type": "code",
      "metadata": {
        "id": "80vonagJ-48s"
      },
      "source": [
        "# separando as variáveis X e y em dados de treino e teste\n",
        "X_train, X_test, y_train, y_test = train_test_split(X, y, \n",
        "                                                    train_size = .90, # 90% para treino e o restante 10% para teste\n",
        "                                                    random_state = 111)"
      ],
      "execution_count": 226,
      "outputs": []
    },
    {
      "cell_type": "code",
      "metadata": {
        "id": "6wZrq-Ic-458"
      },
      "source": [
        "# instanciando o redutor de dimensionalidade e treinando os dados\n",
        "pca = PCA(n_components=2).fit(X_train)\n",
        "\n",
        "# aplicando o modelo redutor de dimensionalidade\n",
        "pca_2d = pca.transform(X_train)"
      ],
      "execution_count": 227,
      "outputs": []
    },
    {
      "cell_type": "code",
      "metadata": {
        "id": "n_Sw01bo-43r"
      },
      "source": [
        "# instanciando o classificador e treinando-o com as variáveis \"pca_2d\" e \"y_train\"\n",
        "svmClassifier_2d = LinearSVC(random_state=111).fit(pca_2d, \n",
        "                                                   y_train)"
      ],
      "execution_count": 228,
      "outputs": []
    },
    {
      "cell_type": "code",
      "metadata": {
        "colab": {
          "base_uri": "https://localhost:8080/",
          "height": 445
        },
        "id": "_HvT_nCC-41c",
        "outputId": "bb4b4c97-00bb-4438-d476-c5715d6e3ca2"
      },
      "source": [
        "# plotando o gráfico\n",
        "\n",
        "pl.figure(figsize=(12, 7))   # instanciando o tamanho da imagem\n",
        "\n",
        "for i in range(0, pca_2d.shape[0]):\n",
        "    if y_train[i] == 0:\n",
        "        c1 = pl.scatter(pca_2d[i, 0], pca_2d[i, 1], \n",
        "                        c='r', s=50, marker='+')\n",
        "    elif y_train[i] == 1:\n",
        "        c2 = pl.scatter(pca_2d[i, 0], pca_2d[i, 1], \n",
        "                        c='g', s=50, marker='o')\n",
        "    elif y_train[i] == 2:\n",
        "        c3 = pl.scatter(pca_2d[i, 0], pca_2d[i, 1], \n",
        "                        c='b', s=50, marker='*')\n",
        "        \n",
        "pl.legend([c1,c2,c3], ['Setosa', 'Versicolor', 'Virginica'])\n",
        "\n",
        "x_min, x_max = pca_2d[:, 0].min() - 1, pca_2d[:, 0].max() + 1\n",
        "y_min, y_max = pca_2d[:, 1].min() - 1, pca_2d[:, 1].max() + 1\n",
        "\n",
        "xx, yy = np.meshgrid(np.arange(x_min, x_max, 0.1), \n",
        "                     np.arange(y_min, y_max, 0.1))\n",
        "\n",
        "Z = svmClassifier_2d.predict(np.c_[xx.ravel(), \n",
        "                                   yy.ravel()])\n",
        "\n",
        "z = Z.reshape(xx.shape)\n",
        "\n",
        "pl.contour(xx, yy, z)\n",
        "pl.title('Superfície de Decisão da Máquina de Vetores de Suporte\\n', \n",
        "         {'fontsize': 14,'fontweight': 'bold'})\n",
        "pl.axis('off')\n",
        "pl.show();"
      ],
      "execution_count": 230,
      "outputs": [
        {
          "output_type": "display_data",
          "data": {
            "image/png": "[encoded data removed]",
            "text/plain": [
              "<Figure size 864x504 with 1 Axes>"
            ]
          },
          "metadata": {
            "needs_background": "light"
          }
        }
      ]
    },
    {
      "cell_type": "markdown",
      "metadata": {
        "id": "xAiOuTJkSWui"
      },
      "source": [
        "## **Criando um modelo de aprendizado supervisionado com floresta aleatória**\n",
        "\n",
        "O modelo de floresta aleatória é um modelo ensemble, e pega um ensemble (seleção) de árvores de decisão para criar seu modelo. A ideia é pegar uma amostra aleatória de preditores potencialmente fracos (um subconjunto aleatório dos dados de treinamento) e fazer com que eles votem para selecionar o modelo melhor e mais forte. O modelo de floresta aleatória pode ser usado para classificação ou regressão. No exemplo a seguir, o modelo de floresta aleatória é usado para classificar as espécies de iris."
      ]
    },
    {
      "cell_type": "markdown",
      "metadata": {
        "id": "zv9ZHIHQSjTw"
      },
      "source": [
        "### **Carregando seus dados**\n",
        "\n",
        "Esta listagem de código carregará o conjunto de dados iris em sua sessão:"
      ]
    },
    {
      "cell_type": "code",
      "metadata": {
        "id": "4y-2YkeE-4y3"
      },
      "source": [
        "# importando o conjunto de dados da biblioteca do scikit-learn\n",
        "from sklearn.datasets import load_iris\n",
        "\n",
        "# instanciando o conjunto de dados\n",
        "iris = load_iris()"
      ],
      "execution_count": 231,
      "outputs": []
    },
    {
      "cell_type": "code",
      "metadata": {
        "colab": {
          "base_uri": "https://localhost:8080/"
        },
        "id": "IOfYS4XL-4wK",
        "outputId": "19802395-f29c-427c-ead4-26931c5a61ee"
      },
      "source": [
        "# visualizando a variável\n",
        "print(iris)"
      ],
      "execution_count": 232,
      "outputs": [
        {
          "output_type": "stream",
          "name": "stdout",
          "text": [
            "{'data': array([[5.1, 3.5, 1.4, 0.2],\n",
            "       [4.9, 3. , 1.4, 0.2],\n",
            "       [4.7, 3.2, 1.3, 0.2],\n",
            "       [4.6, 3.1, 1.5, 0.2],\n",
            "       [5. , 3.6, 1.4, 0.2],\n",
            "       [5.4, 3.9, 1.7, 0.4],\n",
            "       [4.6, 3.4, 1.4, 0.3],\n",
            "       [5. , 3.4, 1.5, 0.2],\n",
            "       [4.4, 2.9, 1.4, 0.2],\n",
            "       [4.9, 3.1, 1.5, 0.1],\n",
            "       [5.4, 3.7, 1.5, 0.2],\n",
            "       [4.8, 3.4, 1.6, 0.2],\n",
            "       [4.8, 3. , 1.4, 0.1],\n",
            "       [4.3, 3. , 1.1, 0.1],\n",
            "       [5.8, 4. , 1.2, 0.2],\n",
            "       [5.7, 4.4, 1.5, 0.4],\n",
            "       [5.4, 3.9, 1.3, 0.4],\n",
            "       [5.1, 3.5, 1.4, 0.3],\n",
            "       [5.7, 3.8, 1.7, 0.3],\n",
            "       [5.1, 3.8, 1.5, 0.3],\n",
            "       [5.4, 3.4, 1.7, 0.2],\n",
            "       [5.1, 3.7, 1.5, 0.4],\n",
            "       [4.6, 3.6, 1. , 0.2],\n",
            "       [5.1, 3.3, 1.7, 0.5],\n",
            "       [4.8, 3.4, 1.9, 0.2],\n",
            "       [5. , 3. , 1.6, 0.2],\n",
            "       [5. , 3.4, 1.6, 0.4],\n",
            "       [5.2, 3.5, 1.5, 0.2],\n",
            "       [5.2, 3.4, 1.4, 0.2],\n",
            "       [4.7, 3.2, 1.6, 0.2],\n",
            "       [4.8, 3.1, 1.6, 0.2],\n",
            "       [5.4, 3.4, 1.5, 0.4],\n",
            "       [5.2, 4.1, 1.5, 0.1],\n",
            "       [5.5, 4.2, 1.4, 0.2],\n",
            "       [4.9, 3.1, 1.5, 0.2],\n",
            "       [5. , 3.2, 1.2, 0.2],\n",
            "       [5.5, 3.5, 1.3, 0.2],\n",
            "       [4.9, 3.6, 1.4, 0.1],\n",
            "       [4.4, 3. , 1.3, 0.2],\n",
            "       [5.1, 3.4, 1.5, 0.2],\n",
            "       [5. , 3.5, 1.3, 0.3],\n",
            "       [4.5, 2.3, 1.3, 0.3],\n",
            "       [4.4, 3.2, 1.3, 0.2],\n",
            "       [5. , 3.5, 1.6, 0.6],\n",
            "       [5.1, 3.8, 1.9, 0.4],\n",
            "       [4.8, 3. , 1.4, 0.3],\n",
            "       [5.1, 3.8, 1.6, 0.2],\n",
            "       [4.6, 3.2, 1.4, 0.2],\n",
            "       [5.3, 3.7, 1.5, 0.2],\n",
            "       [5. , 3.3, 1.4, 0.2],\n",
            "       [7. , 3.2, 4.7, 1.4],\n",
            "       [6.4, 3.2, 4.5, 1.5],\n",
            "       [6.9, 3.1, 4.9, 1.5],\n",
            "       [5.5, 2.3, 4. , 1.3],\n",
            "       [6.5, 2.8, 4.6, 1.5],\n",
            "       [5.7, 2.8, 4.5, 1.3],\n",
            "       [6.3, 3.3, 4.7, 1.6],\n",
            "       [4.9, 2.4, 3.3, 1. ],\n",
            "       [6.6, 2.9, 4.6, 1.3],\n",
            "       [5.2, 2.7, 3.9, 1.4],\n",
            "       [5. , 2. , 3.5, 1. ],\n",
            "       [5.9, 3. , 4.2, 1.5],\n",
            "       [6. , 2.2, 4. , 1. ],\n",
            "       [6.1, 2.9, 4.7, 1.4],\n",
            "       [5.6, 2.9, 3.6, 1.3],\n",
            "       [6.7, 3.1, 4.4, 1.4],\n",
            "       [5.6, 3. , 4.5, 1.5],\n",
            "       [5.8, 2.7, 4.1, 1. ],\n",
            "       [6.2, 2.2, 4.5, 1.5],\n",
            "       [5.6, 2.5, 3.9, 1.1],\n",
            "       [5.9, 3.2, 4.8, 1.8],\n",
            "       [6.1, 2.8, 4. , 1.3],\n",
            "       [6.3, 2.5, 4.9, 1.5],\n",
            "       [6.1, 2.8, 4.7, 1.2],\n",
            "       [6.4, 2.9, 4.3, 1.3],\n",
            "       [6.6, 3. , 4.4, 1.4],\n",
            "       [6.8, 2.8, 4.8, 1.4],\n",
            "       [6.7, 3. , 5. , 1.7],\n",
            "       [6. , 2.9, 4.5, 1.5],\n",
            "       [5.7, 2.6, 3.5, 1. ],\n",
            "       [5.5, 2.4, 3.8, 1.1],\n",
            "       [5.5, 2.4, 3.7, 1. ],\n",
            "       [5.8, 2.7, 3.9, 1.2],\n",
            "       [6. , 2.7, 5.1, 1.6],\n",
            "       [5.4, 3. , 4.5, 1.5],\n",
            "       [6. , 3.4, 4.5, 1.6],\n",
            "       [6.7, 3.1, 4.7, 1.5],\n",
            "       [6.3, 2.3, 4.4, 1.3],\n",
            "       [5.6, 3. , 4.1, 1.3],\n",
            "       [5.5, 2.5, 4. , 1.3],\n",
            "       [5.5, 2.6, 4.4, 1.2],\n",
            "       [6.1, 3. , 4.6, 1.4],\n",
            "       [5.8, 2.6, 4. , 1.2],\n",
            "       [5. , 2.3, 3.3, 1. ],\n",
            "       [5.6, 2.7, 4.2, 1.3],\n",
            "       [5.7, 3. , 4.2, 1.2],\n",
            "       [5.7, 2.9, 4.2, 1.3],\n",
            "       [6.2, 2.9, 4.3, 1.3],\n",
            "       [5.1, 2.5, 3. , 1.1],\n",
            "       [5.7, 2.8, 4.1, 1.3],\n",
            "       [6.3, 3.3, 6. , 2.5],\n",
            "       [5.8, 2.7, 5.1, 1.9],\n",
            "       [7.1, 3. , 5.9, 2.1],\n",
            "       [6.3, 2.9, 5.6, 1.8],\n",
            "       [6.5, 3. , 5.8, 2.2],\n",
            "       [7.6, 3. , 6.6, 2.1],\n",
            "       [4.9, 2.5, 4.5, 1.7],\n",
            "       [7.3, 2.9, 6.3, 1.8],\n",
            "       [6.7, 2.5, 5.8, 1.8],\n",
            "       [7.2, 3.6, 6.1, 2.5],\n",
            "       [6.5, 3.2, 5.1, 2. ],\n",
            "       [6.4, 2.7, 5.3, 1.9],\n",
            "       [6.8, 3. , 5.5, 2.1],\n",
            "       [5.7, 2.5, 5. , 2. ],\n",
            "       [5.8, 2.8, 5.1, 2.4],\n",
            "       [6.4, 3.2, 5.3, 2.3],\n",
            "       [6.5, 3. , 5.5, 1.8],\n",
            "       [7.7, 3.8, 6.7, 2.2],\n",
            "       [7.7, 2.6, 6.9, 2.3],\n",
            "       [6. , 2.2, 5. , 1.5],\n",
            "       [6.9, 3.2, 5.7, 2.3],\n",
            "       [5.6, 2.8, 4.9, 2. ],\n",
            "       [7.7, 2.8, 6.7, 2. ],\n",
            "       [6.3, 2.7, 4.9, 1.8],\n",
            "       [6.7, 3.3, 5.7, 2.1],\n",
            "       [7.2, 3.2, 6. , 1.8],\n",
            "       [6.2, 2.8, 4.8, 1.8],\n",
            "       [6.1, 3. , 4.9, 1.8],\n",
            "       [6.4, 2.8, 5.6, 2.1],\n",
            "       [7.2, 3. , 5.8, 1.6],\n",
            "       [7.4, 2.8, 6.1, 1.9],\n",
            "       [7.9, 3.8, 6.4, 2. ],\n",
            "       [6.4, 2.8, 5.6, 2.2],\n",
            "       [6.3, 2.8, 5.1, 1.5],\n",
            "       [6.1, 2.6, 5.6, 1.4],\n",
            "       [7.7, 3. , 6.1, 2.3],\n",
            "       [6.3, 3.4, 5.6, 2.4],\n",
            "       [6.4, 3.1, 5.5, 1.8],\n",
            "       [6. , 3. , 4.8, 1.8],\n",
            "       [6.9, 3.1, 5.4, 2.1],\n",
            "       [6.7, 3.1, 5.6, 2.4],\n",
            "       [6.9, 3.1, 5.1, 2.3],\n",
            "       [5.8, 2.7, 5.1, 1.9],\n",
            "       [6.8, 3.2, 5.9, 2.3],\n",
            "       [6.7, 3.3, 5.7, 2.5],\n",
            "       [6.7, 3. , 5.2, 2.3],\n",
            "       [6.3, 2.5, 5. , 1.9],\n",
            "       [6.5, 3. , 5.2, 2. ],\n",
            "       [6.2, 3.4, 5.4, 2.3],\n",
            "       [5.9, 3. , 5.1, 1.8]]), 'target': array([0, 0, 0, 0, 0, 0, 0, 0, 0, 0, 0, 0, 0, 0, 0, 0, 0, 0, 0, 0, 0, 0,\n",
            "       0, 0, 0, 0, 0, 0, 0, 0, 0, 0, 0, 0, 0, 0, 0, 0, 0, 0, 0, 0, 0, 0,\n",
            "       0, 0, 0, 0, 0, 0, 1, 1, 1, 1, 1, 1, 1, 1, 1, 1, 1, 1, 1, 1, 1, 1,\n",
            "       1, 1, 1, 1, 1, 1, 1, 1, 1, 1, 1, 1, 1, 1, 1, 1, 1, 1, 1, 1, 1, 1,\n",
            "       1, 1, 1, 1, 1, 1, 1, 1, 1, 1, 1, 1, 2, 2, 2, 2, 2, 2, 2, 2, 2, 2,\n",
            "       2, 2, 2, 2, 2, 2, 2, 2, 2, 2, 2, 2, 2, 2, 2, 2, 2, 2, 2, 2, 2, 2,\n",
            "       2, 2, 2, 2, 2, 2, 2, 2, 2, 2, 2, 2, 2, 2, 2, 2, 2, 2]), 'target_names': array(['setosa', 'versicolor', 'virginica'], dtype='<U10'), 'DESCR': '.. _iris_dataset:\\n\\nIris plants dataset\\n--------------------\\n\\n**Data Set Characteristics:**\\n\\n    :Number of Instances: 150 (50 in each of three classes)\\n    :Number of Attributes: 4 numeric, predictive attributes and the class\\n    :Attribute Information:\\n        - sepal length in cm\\n        - sepal width in cm\\n        - petal length in cm\\n        - petal width in cm\\n        - class:\\n                - Iris-Setosa\\n                - Iris-Versicolour\\n                - Iris-Virginica\\n                \\n    :Summary Statistics:\\n\\n    ============== ==== ==== ======= ===== ====================\\n                    Min  Max   Mean    SD   Class Correlation\\n    ============== ==== ==== ======= ===== ====================\\n    sepal length:   4.3  7.9   5.84   0.83    0.7826\\n    sepal width:    2.0  4.4   3.05   0.43   -0.4194\\n    petal length:   1.0  6.9   3.76   1.76    0.9490  (high!)\\n    petal width:    0.1  2.5   1.20   0.76    0.9565  (high!)\\n    ============== ==== ==== ======= ===== ====================\\n\\n    :Missing Attribute Values: None\\n    :Class Distribution: 33.3% for each of 3 classes.\\n    :Creator: R.A. Fisher\\n    :Donor: Michael Marshall (MARSHALL%PLU@io.arc.nasa.gov)\\n    :Date: July, 1988\\n\\nThe famous Iris database, first used by Sir R.A. Fisher. The dataset is taken\\nfrom Fisher\\'s paper. Note that it\\'s the same as in R, but not as in the UCI\\nMachine Learning Repository, which has two wrong data points.\\n\\nThis is perhaps the best known database to be found in the\\npattern recognition literature.  Fisher\\'s paper is a classic in the field and\\nis referenced frequently to this day.  (See Duda & Hart, for example.)  The\\ndata set contains 3 classes of 50 instances each, where each class refers to a\\ntype of iris plant.  One class is linearly separable from the other 2; the\\nlatter are NOT linearly separable from each other.\\n\\n.. topic:: References\\n\\n   - Fisher, R.A. \"The use of multiple measurements in taxonomic problems\"\\n     Annual Eugenics, 7, Part II, 179-188 (1936); also in \"Contributions to\\n     Mathematical Statistics\" (John Wiley, NY, 1950).\\n   - Duda, R.O., & Hart, P.E. (1973) Pattern Classification and Scene Analysis.\\n     (Q327.D83) John Wiley & Sons.  ISBN 0-471-22361-1.  See page 218.\\n   - Dasarathy, B.V. (1980) \"Nosing Around the Neighborhood: A New System\\n     Structure and Classification Rule for Recognition in Partially Exposed\\n     Environments\".  IEEE Transactions on Pattern Analysis and Machine\\n     Intelligence, Vol. PAMI-2, No. 1, 67-71.\\n   - Gates, G.W. (1972) \"The Reduced Nearest Neighbor Rule\".  IEEE Transactions\\n     on Information Theory, May 1972, 431-433.\\n   - See also: 1988 MLC Proceedings, 54-64.  Cheeseman et al\"s AUTOCLASS II\\n     conceptual clustering system finds 3 classes in the data.\\n   - Many, many more ...', 'feature_names': ['sepal length (cm)', 'sepal width (cm)', 'petal length (cm)', 'petal width (cm)'], 'filename': '/usr/local/lib/python3.7/dist-packages/sklearn/datasets/data/iris.csv'}\n"
          ]
        }
      ]
    },
    {
      "cell_type": "code",
      "metadata": {
        "colab": {
          "base_uri": "https://localhost:8080/"
        },
        "id": "w0zih60g-4s5",
        "outputId": "e810697f-8cf0-4ae4-d4a8-b2cabad9bc92"
      },
      "source": [
        "# visualizando as informações do conjunto de dados\n",
        "print(iris.DESCR)"
      ],
      "execution_count": 233,
      "outputs": [
        {
          "output_type": "stream",
          "name": "stdout",
          "text": [
            ".. _iris_dataset:\n",
            "\n",
            "Iris plants dataset\n",
            "--------------------\n",
            "\n",
            "**Data Set Characteristics:**\n",
            "\n",
            "    :Number of Instances: 150 (50 in each of three classes)\n",
            "    :Number of Attributes: 4 numeric, predictive attributes and the class\n",
            "    :Attribute Information:\n",
            "        - sepal length in cm\n",
            "        - sepal width in cm\n",
            "        - petal length in cm\n",
            "        - petal width in cm\n",
            "        - class:\n",
            "                - Iris-Setosa\n",
            "                - Iris-Versicolour\n",
            "                - Iris-Virginica\n",
            "                \n",
            "    :Summary Statistics:\n",
            "\n",
            "    ============== ==== ==== ======= ===== ====================\n",
            "                    Min  Max   Mean    SD   Class Correlation\n",
            "    ============== ==== ==== ======= ===== ====================\n",
            "    sepal length:   4.3  7.9   5.84   0.83    0.7826\n",
            "    sepal width:    2.0  4.4   3.05   0.43   -0.4194\n",
            "    petal length:   1.0  6.9   3.76   1.76    0.9490  (high!)\n",
            "    petal width:    0.1  2.5   1.20   0.76    0.9565  (high!)\n",
            "    ============== ==== ==== ======= ===== ====================\n",
            "\n",
            "    :Missing Attribute Values: None\n",
            "    :Class Distribution: 33.3% for each of 3 classes.\n",
            "    :Creator: R.A. Fisher\n",
            "    :Donor: Michael Marshall (MARSHALL%PLU@io.arc.nasa.gov)\n",
            "    :Date: July, 1988\n",
            "\n",
            "The famous Iris database, first used by Sir R.A. Fisher. The dataset is taken\n",
            "from Fisher's paper. Note that it's the same as in R, but not as in the UCI\n",
            "Machine Learning Repository, which has two wrong data points.\n",
            "\n",
            "This is perhaps the best known database to be found in the\n",
            "pattern recognition literature.  Fisher's paper is a classic in the field and\n",
            "is referenced frequently to this day.  (See Duda & Hart, for example.)  The\n",
            "data set contains 3 classes of 50 instances each, where each class refers to a\n",
            "type of iris plant.  One class is linearly separable from the other 2; the\n",
            "latter are NOT linearly separable from each other.\n",
            "\n",
            ".. topic:: References\n",
            "\n",
            "   - Fisher, R.A. \"The use of multiple measurements in taxonomic problems\"\n",
            "     Annual Eugenics, 7, Part II, 179-188 (1936); also in \"Contributions to\n",
            "     Mathematical Statistics\" (John Wiley, NY, 1950).\n",
            "   - Duda, R.O., & Hart, P.E. (1973) Pattern Classification and Scene Analysis.\n",
            "     (Q327.D83) John Wiley & Sons.  ISBN 0-471-22361-1.  See page 218.\n",
            "   - Dasarathy, B.V. (1980) \"Nosing Around the Neighborhood: A New System\n",
            "     Structure and Classification Rule for Recognition in Partially Exposed\n",
            "     Environments\".  IEEE Transactions on Pattern Analysis and Machine\n",
            "     Intelligence, Vol. PAMI-2, No. 1, 67-71.\n",
            "   - Gates, G.W. (1972) \"The Reduced Nearest Neighbor Rule\".  IEEE Transactions\n",
            "     on Information Theory, May 1972, 431-433.\n",
            "   - See also: 1988 MLC Proceedings, 54-64.  Cheeseman et al\"s AUTOCLASS II\n",
            "     conceptual clustering system finds 3 classes in the data.\n",
            "   - Many, many more ...\n"
          ]
        }
      ]
    },
    {
      "cell_type": "markdown",
      "metadata": {
        "id": "LT_JduHgV7RX"
      },
      "source": [
        "### **Criando uma instância do classificador**\n",
        "\n",
        "As duas linhas de código a seguir criam uma instância do classificador. A primeira linha importa a biblioteca de floresta aleatória. A segunda linha cria uma instância do algoritmo de floresta aleatório:"
      ]
    },
    {
      "cell_type": "code",
      "metadata": {
        "id": "FqUuCAAT-4qn"
      },
      "source": [
        "# importando o classificador\n",
        "from sklearn.ensemble import RandomForestClassifier\n",
        "\n",
        "# instanciando o classificador\n",
        "rf = RandomForestClassifier(n_estimators=15, \n",
        "                            random_state = 111)"
      ],
      "execution_count": 234,
      "outputs": []
    },
    {
      "cell_type": "markdown",
      "metadata": {
        "id": "qmtkXYqlXgeT"
      },
      "source": [
        "O parâmetro n_estimators no construtor é um parâmetro de ajuste comumente usado para o modelo de floresta aleatória. O valor é usado para criar o número de árvores na floresta. É geralmente entre 10% e 100% do conjunto de dados, mas depende dos dados que você está usando. Aqui o valor é definido como 15, que é 10% dos dados. Mais adiante, na seção “Avaliando o modelo”, você verá que alterar o valor do parâmetro para 150 (100%) produz os mesmos resultados.\n",
        "\n",
        "O n_estimators é usado para ajustar o desempenho do modelo e o sobreajuste. Quanto maior o valor, melhor o desempenho, mas à custa de sobreajuste. Quanto menor o valor, maiores as chances de não ocorrer sobreajuste, mas à custa de um menor desempenho. Além disso, há um ponto em que aumentar o número geralmente diminuirá a melhoria da precisão e poderá aumentar drasticamente o poder computacional necessário. O parâmetro padrão é 10, caso seja omitido no construtor.\n",
        "\n",
        "Assim como os outros classificadores criados anteriormente neste capítulo (Criando um modelo de aprendizado supervisionado com Máquinas de Vetores de Suporte; Criando um modelo de aprendizado supervisionado com regressão logística), os passos para treinar, testar e avaliar são semelhantes."
      ]
    },
    {
      "cell_type": "markdown",
      "metadata": {
        "id": "Lts_mPg1XwHw"
      },
      "source": [
        "### **Executando os dados de treinamento**\n",
        "\n",
        "Você precisará dividir o conjunto de dados em conjuntos de treinamento e de teste antes de poder criar uma instância do classificador de floresta aleatória. O código a seguir realizará essa tarefa:"
      ]
    },
    {
      "cell_type": "code",
      "metadata": {
        "id": "ALV40ltW-4oZ"
      },
      "source": [
        "# importando a função para particionar o conjunto de dados\n",
        "from sklearn.model_selection import train_test_split\n",
        "\n",
        "# instanciando os dados de treino e teste\n",
        "X_train, X_test, y_train, y_test = train_test_split(iris['data'], iris['target'], \n",
        "                                                    test_size = .10, random_state = 111)\n",
        "\n",
        "# treinando o classificador com os dados de treino\n",
        "rf = rf.fit(X_train, y_train)"
      ],
      "execution_count": 235,
      "outputs": []
    },
    {
      "cell_type": "markdown",
      "metadata": {
        "id": "YBfn_gslZwsw"
      },
      "source": [
        "1. **A linha 1 importa a biblioteca que nos permite dividir o conjunto de dados em duas partes.**\n",
        "2. **A linha 2 chama a função da biblioteca que divide o conjunto de dados em duas partes e atribui os conjuntos de dados agora divididos a dois pares de variáveis.**\n",
        "3. **A linha 3 pega a instância do classificador de floresta aleatória que você acabou de criar e, em seguida, chama o método de ajuste para treinar o modelo com o conjunto de dados de treinamento.**"
      ]
    },
    {
      "cell_type": "markdown",
      "metadata": {
        "id": "QOCU2oclaD1y"
      },
      "source": [
        "### **Executando os dados de teste**\n",
        "\n",
        "No código a seguir, a primeira linha fornece o conjunto de dados de teste ao modelo, e a terceira linha exibe a saída:\n",
        "\n"
      ]
    },
    {
      "cell_type": "code",
      "metadata": {
        "colab": {
          "base_uri": "https://localhost:8080/"
        },
        "id": "v5ACELkPXn2t",
        "outputId": "035f349b-e9f5-4b69-de15-5f0863379151"
      },
      "source": [
        "# realizando as predições com o modelo\n",
        "predicted = rf.predict(X_test)\n",
        "\n",
        "# visualizando as predições\n",
        "predicted"
      ],
      "execution_count": 236,
      "outputs": [
        {
          "output_type": "execute_result",
          "data": {
            "text/plain": [
              "array([0, 0, 2, 2, 2, 0, 0, 2, 2, 1, 2, 0, 1, 2, 2])"
            ]
          },
          "metadata": {},
          "execution_count": 236
        }
      ]
    },
    {
      "cell_type": "markdown",
      "metadata": {
        "id": "ChFfojz1aSEA"
      },
      "source": [
        "### **Avaliando o modelo**\n",
        "\n",
        "Você pode fazer a referência cruzada da predição com a array y_test. Como resultado, verá que ele previu dois pontos de dados de teste incorretamente. Portanto, a precisão do modelo de floresta aleatória foi de 86,67%.\n",
        "\n",
        "Aqui está o código:"
      ]
    },
    {
      "cell_type": "code",
      "metadata": {
        "id": "LPDo3WNWXn0M"
      },
      "source": [
        "# importando a métrica de avaliação da acurácia\n",
        "from sklearn.metrics import accuracy_score"
      ],
      "execution_count": 237,
      "outputs": []
    },
    {
      "cell_type": "code",
      "metadata": {
        "colab": {
          "base_uri": "https://localhost:8080/"
        },
        "id": "dR4OJe3IXnxW",
        "outputId": "74e778cb-1a64-4cad-e894-7f2e0b26cac6"
      },
      "source": [
        "# visualizando as predições e os dados reais\n",
        "print(predicted)\n",
        "print(y_test)"
      ],
      "execution_count": 238,
      "outputs": [
        {
          "output_type": "stream",
          "name": "stdout",
          "text": [
            "[0 0 2 2 2 0 0 2 2 1 2 0 1 2 2]\n",
            "[0 0 2 2 1 0 0 2 2 1 2 0 2 2 2]\n"
          ]
        }
      ]
    },
    {
      "cell_type": "code",
      "metadata": {
        "colab": {
          "base_uri": "https://localhost:8080/"
        },
        "id": "O49j18tzXnua",
        "outputId": "f225ee9a-746c-4747-c9c9-3a17d9db70e6"
      },
      "source": [
        "# avaliando acurácia do modelo\n",
        "accuracy_score(y_test, predicted)"
      ],
      "execution_count": 239,
      "outputs": [
        {
          "output_type": "execute_result",
          "data": {
            "text/plain": [
              "0.8666666666666667"
            ]
          },
          "metadata": {},
          "execution_count": 239
        }
      ]
    },
    {
      "cell_type": "code",
      "metadata": {
        "colab": {
          "base_uri": "https://localhost:8080/"
        },
        "id": "33MAXonZawXe",
        "outputId": "f3d8bb02-0edb-47e9-f9f8-98cb57b22e96"
      },
      "source": [
        "# realizando comparação boleana entre as predições e dados reais\n",
        "predicted == y_test"
      ],
      "execution_count": 240,
      "outputs": [
        {
          "output_type": "execute_result",
          "data": {
            "text/plain": [
              "array([ True,  True,  True,  True, False,  True,  True,  True,  True,\n",
              "        True,  True,  True, False,  True,  True])"
            ]
          },
          "metadata": {},
          "execution_count": 240
        }
      ]
    },
    {
      "cell_type": "markdown",
      "metadata": {
        "id": "EvF9w3zpbOCD"
      },
      "source": [
        "Qual o desempenho do modelo de floresta aleatória se mudarmos o parâmetro n_estimators para 150? Parece que não vai fazer diferença para este pequeno conjunto de dados. Ele produz o mesmo resultado:"
      ]
    },
    {
      "cell_type": "code",
      "metadata": {
        "id": "XoYsgUdTawTd"
      },
      "source": [
        "# instanciando o classificador e setando os parâmetros\n",
        "rf = RandomForestClassifier(n_estimators=150, random_state = 111)\n",
        "\n",
        "# treinando o classificador com os dados de treino\n",
        "rf = rf.fit(X_train, y_train)"
      ],
      "execution_count": 241,
      "outputs": []
    },
    {
      "cell_type": "code",
      "metadata": {
        "colab": {
          "base_uri": "https://localhost:8080/"
        },
        "id": "jssVx0f2awQR",
        "outputId": "5915dada-36cb-4f9f-99e3-070350995e53"
      },
      "source": [
        "# realizando as predições\n",
        "predicted = rf.predict(X_test)\n",
        "predicted   # visualizando as predições"
      ],
      "execution_count": 242,
      "outputs": [
        {
          "output_type": "execute_result",
          "data": {
            "text/plain": [
              "array([0, 0, 2, 2, 2, 0, 0, 2, 2, 1, 2, 0, 1, 2, 2])"
            ]
          },
          "metadata": {},
          "execution_count": 242
        }
      ]
    },
    {
      "cell_type": "markdown",
      "metadata": {
        "id": "0SaLul9Bb2gv"
      },
      "source": [
        "### **Comparando os modelos de classificação**\n",
        "\n",
        "Os modelos de regressão logística e classificação de SVM apresentam um bom desempenho usando o conjunto de dados Iris. O modelo de regressão logística com parâmetro C = 1 foi perfeito em suas predições, enquanto o modelo SVM e o modelo de regressão logística com C = 150 perderam apenas uma predição. O modelo de floresta aleatória perdeu duas predições e foi o menos preciso dos três modelos, mas obter mais de 86% de precisão ainda é muito bom.\n",
        "\n",
        "De fato, a alta precisão de todos os três modelos é o resultado de ter um pequeno conjunto de dados que tem pontos de dados muito próximos de serem linearmente separáveis. Ao mesmo tempo, o conjunto de dados é tão pequeno, que as pequenas diferenças de desempenho podem ser facilmente influenciadas pela aleatoriedade sutil.\n",
        "\n",
        "Curiosamente, o modelo de regressão logística com C = 150 teve uma plotagem de superfície de decisão de melhor aparência do que aquela com C = 1, mas não teve melhor desempenho. Isso não é tão importante, considerando que o conjunto de testes é muito pequeno. Se outra divisão aleatória entre o conjunto de treinamento e o conjunto de testes tivesse sido selecionada, os resultados poderiam ter sido facilmente diferentes.\n",
        "\n",
        "Isso revela outra fonte de complexidade que surge na avaliação do modelo: o efeito da amostragem e como a escolha dos conjuntos de treinamento e teste pode afetar a saída do modelo. Técnicas de validação cruzada (veja o Capítulo 15) podem ajudar a minimizar o impacto da amostragem aleatória no desempenho do modelo."
      ]
    },
    {
      "cell_type": "markdown",
      "metadata": {
        "id": "KFFo2gWyb8gI"
      },
      "source": [
        "![image.png](data:image/png;base64,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)"
      ]
    },
    {
      "cell_type": "markdown",
      "metadata": {
        "id": "SKFT82dVcBHo"
      },
      "source": [
        "> Para um conjunto de dados maior com dados não linearmente separáveis, você esperaria que os resultados se desviassem ainda mais. Além disso, a escolha do modelo apropriado torna-se cada vez mais difícil devido à complexidade e ao tamanho dos dados. Esteja preparado para gastar muito tempo ajustando seus parâmetros para obter um ajuste ideal."
      ]
    },
    {
      "cell_type": "markdown",
      "metadata": {
        "id": "pUEeoplfcPUB"
      },
      "source": [
        "![image.png](data:image/png;base64,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)"
      ]
    },
    {
      "cell_type": "markdown",
      "metadata": {
        "id": "AU5bY2eZcTXV"
      },
      "source": [
        "> Ao criar modelos preditivos, experimente alguns algoritmos e ajuste seus parâmetros exaustivamente até encontrar o que melhor funciona para seus dados. Em seguida, compare as saídas entre si. Quase todos os algoritmos de modelagem têm esses tipos de parâmetros, e o ajuste fino deles pode ter um impacto mensurável no resultado final."
      ]
    },
    {
      "cell_type": "code",
      "metadata": {
        "id": "reP169l--4e8"
      },
      "source": [
        ""
      ],
      "execution_count": null,
      "outputs": []
    },
    {
      "cell_type": "code",
      "metadata": {
        "colab": {
          "base_uri": "https://localhost:8080/"
        },
        "id": "Gs9d4dUWf_CZ",
        "outputId": "1b533a10-a923-438d-b8df-bbde93f9add1"
      },
      "source": [
        "import pandas as pd\n",
        "import pylab as pl\n",
        "from sklearn import datasets\n",
        "from sklearn.decomposition import PCA\n",
        "\n",
        "# load dataset\n",
        "iris = datasets.load_iris()\n",
        "df = pd.DataFrame(iris.data, columns=iris.feature_names)\n",
        "\n",
        "# normalize data\n",
        "from sklearn import preprocessing\n",
        "data_scaled = pd.DataFrame(preprocessing.scale(df),columns = df.columns) \n",
        "\n",
        "# PCA\n",
        "pca = PCA(n_components=2)\n",
        "pca.fit_transform(data_scaled)\n",
        "\n",
        "# Dump components relations with features:\n",
        "print(pd.DataFrame(pca.components_,columns=data_scaled.columns,index = ['PC-1','PC-2']))"
      ],
      "execution_count": 93,
      "outputs": [
        {
          "output_type": "stream",
          "name": "stdout",
          "text": [
            "      sepal length (cm)  sepal width (cm)  petal length (cm)  petal width (cm)\n",
            "PC-1           0.521066         -0.269347           0.580413          0.564857\n",
            "PC-2           0.377418          0.923296           0.024492          0.066942\n"
          ]
        }
      ]
    },
    {
      "cell_type": "code",
      "metadata": {
        "id": "RgkDmZGp5NdC"
      },
      "source": [
        ""
      ],
      "execution_count": null,
      "outputs": []
    },
    {
      "cell_type": "markdown",
      "metadata": {
        "id": "1UYn2uVQnjTS"
      },
      "source": [
        "## **Criando Exemplos Básicos de Predições Não Supervisionadas**\n",
        "\n",
        "---\n",
        "\n"
      ]
    },
    {
      "cell_type": "markdown",
      "metadata": {
        "id": "CyXGN1h3ny37"
      },
      "source": [
        "Este capítulo trata da criação de alguns modelos preditivos usando aprendizado não supervisionado com algoritmos de agrupamento, como K-means, DBSCAN e mean shift. Esses exemplos usam a linguagem de programação Python. Veja o Capítulo 12 se precisar de instruções sobre como instalar o Python e o pacote de aprendizado de máquina scikit-learn.\n",
        "\n",
        "Nenhum conhecimento prévio de aprendizado supervisionado é necessário para entender os conceitos de aprendizado não supervisionado. No aprendizado supervisionado, as categorias de saída são conhecidas nos dados históricos; no aprendizado não supervisionado elas são desconhecidas. O Capítulo 12 abrange exemplos de aprendizado supervisionado com algoritmos de classificação e regressão."
      ]
    },
    {
      "cell_type": "markdown",
      "metadata": {
        "id": "uPGx_tgmom-0"
      },
      "source": [
        "### **Obtendo o Conjunto de Dados de Amostra**\n",
        "\n",
        "O conjunto de dados de amostra Iris está incluído na instalação do\n",
        "scikit-learn — junto de um conjunto de funções que carregam dados na sessão do Python.\n",
        "\n",
        "Para carregar o conjunto de dados Iris, siga estas etapas:\n",
        "\n",
        "1. **Abra uma nova sessão do shell interativo do Python.**\n",
        " - Use uma nova sessão do Python para que não haja mais nada na memória e você tenha uma lista limpa para trabalhar.\n",
        "\n",
        "2. **Cole o seguinte código no prompt e pressione Enter:**\n"
      ]
    },
    {
      "cell_type": "code",
      "metadata": {
        "id": "bQboDY2VomeV"
      },
      "source": [
        "# importando o conjunto de dados\n",
        "from sklearn.datasets import load_iris\n",
        "iris = load_iris()  # carregando o conjunto de dados"
      ],
      "execution_count": 243,
      "outputs": []
    },
    {
      "cell_type": "markdown",
      "metadata": {
        "id": "Bo637YlMpDDM"
      },
      "source": [
        "Depois de executar essas duas instruções, você não verá nenhuma mensagem do interpretador. A variável iris deve conter todos os dados do arquivo iris.csv.\n",
        "\n",
        "3. **Digite o seguinte comando para confirmar que a variável iris contém os dados:**"
      ]
    },
    {
      "cell_type": "code",
      "metadata": {
        "colab": {
          "base_uri": "https://localhost:8080/"
        },
        "id": "eAC3hK-tomba",
        "outputId": "f914a8f6-79f4-4e59-adb9-7a3e1a949b5e"
      },
      "source": [
        "# visualizando o conjunto de dados\n",
        "iris"
      ],
      "execution_count": 244,
      "outputs": [
        {
          "output_type": "execute_result",
          "data": {
            "text/plain": [
              "{'DESCR': '.. _iris_dataset:\\n\\nIris plants dataset\\n--------------------\\n\\n**Data Set Characteristics:**\\n\\n    :Number of Instances: 150 (50 in each of three classes)\\n    :Number of Attributes: 4 numeric, predictive attributes and the class\\n    :Attribute Information:\\n        - sepal length in cm\\n        - sepal width in cm\\n        - petal length in cm\\n        - petal width in cm\\n        - class:\\n                - Iris-Setosa\\n                - Iris-Versicolour\\n                - Iris-Virginica\\n                \\n    :Summary Statistics:\\n\\n    ============== ==== ==== ======= ===== ====================\\n                    Min  Max   Mean    SD   Class Correlation\\n    ============== ==== ==== ======= ===== ====================\\n    sepal length:   4.3  7.9   5.84   0.83    0.7826\\n    sepal width:    2.0  4.4   3.05   0.43   -0.4194\\n    petal length:   1.0  6.9   3.76   1.76    0.9490  (high!)\\n    petal width:    0.1  2.5   1.20   0.76    0.9565  (high!)\\n    ============== ==== ==== ======= ===== ====================\\n\\n    :Missing Attribute Values: None\\n    :Class Distribution: 33.3% for each of 3 classes.\\n    :Creator: R.A. Fisher\\n    :Donor: Michael Marshall (MARSHALL%PLU@io.arc.nasa.gov)\\n    :Date: July, 1988\\n\\nThe famous Iris database, first used by Sir R.A. Fisher. The dataset is taken\\nfrom Fisher\\'s paper. Note that it\\'s the same as in R, but not as in the UCI\\nMachine Learning Repository, which has two wrong data points.\\n\\nThis is perhaps the best known database to be found in the\\npattern recognition literature.  Fisher\\'s paper is a classic in the field and\\nis referenced frequently to this day.  (See Duda & Hart, for example.)  The\\ndata set contains 3 classes of 50 instances each, where each class refers to a\\ntype of iris plant.  One class is linearly separable from the other 2; the\\nlatter are NOT linearly separable from each other.\\n\\n.. topic:: References\\n\\n   - Fisher, R.A. \"The use of multiple measurements in taxonomic problems\"\\n     Annual Eugenics, 7, Part II, 179-188 (1936); also in \"Contributions to\\n     Mathematical Statistics\" (John Wiley, NY, 1950).\\n   - Duda, R.O., & Hart, P.E. (1973) Pattern Classification and Scene Analysis.\\n     (Q327.D83) John Wiley & Sons.  ISBN 0-471-22361-1.  See page 218.\\n   - Dasarathy, B.V. (1980) \"Nosing Around the Neighborhood: A New System\\n     Structure and Classification Rule for Recognition in Partially Exposed\\n     Environments\".  IEEE Transactions on Pattern Analysis and Machine\\n     Intelligence, Vol. PAMI-2, No. 1, 67-71.\\n   - Gates, G.W. (1972) \"The Reduced Nearest Neighbor Rule\".  IEEE Transactions\\n     on Information Theory, May 1972, 431-433.\\n   - See also: 1988 MLC Proceedings, 54-64.  Cheeseman et al\"s AUTOCLASS II\\n     conceptual clustering system finds 3 classes in the data.\\n   - Many, many more ...',\n",
              " 'data': array([[5.1, 3.5, 1.4, 0.2],\n",
              "        [4.9, 3. , 1.4, 0.2],\n",
              "        [4.7, 3.2, 1.3, 0.2],\n",
              "        [4.6, 3.1, 1.5, 0.2],\n",
              "        [5. , 3.6, 1.4, 0.2],\n",
              "        [5.4, 3.9, 1.7, 0.4],\n",
              "        [4.6, 3.4, 1.4, 0.3],\n",
              "        [5. , 3.4, 1.5, 0.2],\n",
              "        [4.4, 2.9, 1.4, 0.2],\n",
              "        [4.9, 3.1, 1.5, 0.1],\n",
              "        [5.4, 3.7, 1.5, 0.2],\n",
              "        [4.8, 3.4, 1.6, 0.2],\n",
              "        [4.8, 3. , 1.4, 0.1],\n",
              "        [4.3, 3. , 1.1, 0.1],\n",
              "        [5.8, 4. , 1.2, 0.2],\n",
              "        [5.7, 4.4, 1.5, 0.4],\n",
              "        [5.4, 3.9, 1.3, 0.4],\n",
              "        [5.1, 3.5, 1.4, 0.3],\n",
              "        [5.7, 3.8, 1.7, 0.3],\n",
              "        [5.1, 3.8, 1.5, 0.3],\n",
              "        [5.4, 3.4, 1.7, 0.2],\n",
              "        [5.1, 3.7, 1.5, 0.4],\n",
              "        [4.6, 3.6, 1. , 0.2],\n",
              "        [5.1, 3.3, 1.7, 0.5],\n",
              "        [4.8, 3.4, 1.9, 0.2],\n",
              "        [5. , 3. , 1.6, 0.2],\n",
              "        [5. , 3.4, 1.6, 0.4],\n",
              "        [5.2, 3.5, 1.5, 0.2],\n",
              "        [5.2, 3.4, 1.4, 0.2],\n",
              "        [4.7, 3.2, 1.6, 0.2],\n",
              "        [4.8, 3.1, 1.6, 0.2],\n",
              "        [5.4, 3.4, 1.5, 0.4],\n",
              "        [5.2, 4.1, 1.5, 0.1],\n",
              "        [5.5, 4.2, 1.4, 0.2],\n",
              "        [4.9, 3.1, 1.5, 0.2],\n",
              "        [5. , 3.2, 1.2, 0.2],\n",
              "        [5.5, 3.5, 1.3, 0.2],\n",
              "        [4.9, 3.6, 1.4, 0.1],\n",
              "        [4.4, 3. , 1.3, 0.2],\n",
              "        [5.1, 3.4, 1.5, 0.2],\n",
              "        [5. , 3.5, 1.3, 0.3],\n",
              "        [4.5, 2.3, 1.3, 0.3],\n",
              "        [4.4, 3.2, 1.3, 0.2],\n",
              "        [5. , 3.5, 1.6, 0.6],\n",
              "        [5.1, 3.8, 1.9, 0.4],\n",
              "        [4.8, 3. , 1.4, 0.3],\n",
              "        [5.1, 3.8, 1.6, 0.2],\n",
              "        [4.6, 3.2, 1.4, 0.2],\n",
              "        [5.3, 3.7, 1.5, 0.2],\n",
              "        [5. , 3.3, 1.4, 0.2],\n",
              "        [7. , 3.2, 4.7, 1.4],\n",
              "        [6.4, 3.2, 4.5, 1.5],\n",
              "        [6.9, 3.1, 4.9, 1.5],\n",
              "        [5.5, 2.3, 4. , 1.3],\n",
              "        [6.5, 2.8, 4.6, 1.5],\n",
              "        [5.7, 2.8, 4.5, 1.3],\n",
              "        [6.3, 3.3, 4.7, 1.6],\n",
              "        [4.9, 2.4, 3.3, 1. ],\n",
              "        [6.6, 2.9, 4.6, 1.3],\n",
              "        [5.2, 2.7, 3.9, 1.4],\n",
              "        [5. , 2. , 3.5, 1. ],\n",
              "        [5.9, 3. , 4.2, 1.5],\n",
              "        [6. , 2.2, 4. , 1. ],\n",
              "        [6.1, 2.9, 4.7, 1.4],\n",
              "        [5.6, 2.9, 3.6, 1.3],\n",
              "        [6.7, 3.1, 4.4, 1.4],\n",
              "        [5.6, 3. , 4.5, 1.5],\n",
              "        [5.8, 2.7, 4.1, 1. ],\n",
              "        [6.2, 2.2, 4.5, 1.5],\n",
              "        [5.6, 2.5, 3.9, 1.1],\n",
              "        [5.9, 3.2, 4.8, 1.8],\n",
              "        [6.1, 2.8, 4. , 1.3],\n",
              "        [6.3, 2.5, 4.9, 1.5],\n",
              "        [6.1, 2.8, 4.7, 1.2],\n",
              "        [6.4, 2.9, 4.3, 1.3],\n",
              "        [6.6, 3. , 4.4, 1.4],\n",
              "        [6.8, 2.8, 4.8, 1.4],\n",
              "        [6.7, 3. , 5. , 1.7],\n",
              "        [6. , 2.9, 4.5, 1.5],\n",
              "        [5.7, 2.6, 3.5, 1. ],\n",
              "        [5.5, 2.4, 3.8, 1.1],\n",
              "        [5.5, 2.4, 3.7, 1. ],\n",
              "        [5.8, 2.7, 3.9, 1.2],\n",
              "        [6. , 2.7, 5.1, 1.6],\n",
              "        [5.4, 3. , 4.5, 1.5],\n",
              "        [6. , 3.4, 4.5, 1.6],\n",
              "        [6.7, 3.1, 4.7, 1.5],\n",
              "        [6.3, 2.3, 4.4, 1.3],\n",
              "        [5.6, 3. , 4.1, 1.3],\n",
              "        [5.5, 2.5, 4. , 1.3],\n",
              "        [5.5, 2.6, 4.4, 1.2],\n",
              "        [6.1, 3. , 4.6, 1.4],\n",
              "        [5.8, 2.6, 4. , 1.2],\n",
              "        [5. , 2.3, 3.3, 1. ],\n",
              "        [5.6, 2.7, 4.2, 1.3],\n",
              "        [5.7, 3. , 4.2, 1.2],\n",
              "        [5.7, 2.9, 4.2, 1.3],\n",
              "        [6.2, 2.9, 4.3, 1.3],\n",
              "        [5.1, 2.5, 3. , 1.1],\n",
              "        [5.7, 2.8, 4.1, 1.3],\n",
              "        [6.3, 3.3, 6. , 2.5],\n",
              "        [5.8, 2.7, 5.1, 1.9],\n",
              "        [7.1, 3. , 5.9, 2.1],\n",
              "        [6.3, 2.9, 5.6, 1.8],\n",
              "        [6.5, 3. , 5.8, 2.2],\n",
              "        [7.6, 3. , 6.6, 2.1],\n",
              "        [4.9, 2.5, 4.5, 1.7],\n",
              "        [7.3, 2.9, 6.3, 1.8],\n",
              "        [6.7, 2.5, 5.8, 1.8],\n",
              "        [7.2, 3.6, 6.1, 2.5],\n",
              "        [6.5, 3.2, 5.1, 2. ],\n",
              "        [6.4, 2.7, 5.3, 1.9],\n",
              "        [6.8, 3. , 5.5, 2.1],\n",
              "        [5.7, 2.5, 5. , 2. ],\n",
              "        [5.8, 2.8, 5.1, 2.4],\n",
              "        [6.4, 3.2, 5.3, 2.3],\n",
              "        [6.5, 3. , 5.5, 1.8],\n",
              "        [7.7, 3.8, 6.7, 2.2],\n",
              "        [7.7, 2.6, 6.9, 2.3],\n",
              "        [6. , 2.2, 5. , 1.5],\n",
              "        [6.9, 3.2, 5.7, 2.3],\n",
              "        [5.6, 2.8, 4.9, 2. ],\n",
              "        [7.7, 2.8, 6.7, 2. ],\n",
              "        [6.3, 2.7, 4.9, 1.8],\n",
              "        [6.7, 3.3, 5.7, 2.1],\n",
              "        [7.2, 3.2, 6. , 1.8],\n",
              "        [6.2, 2.8, 4.8, 1.8],\n",
              "        [6.1, 3. , 4.9, 1.8],\n",
              "        [6.4, 2.8, 5.6, 2.1],\n",
              "        [7.2, 3. , 5.8, 1.6],\n",
              "        [7.4, 2.8, 6.1, 1.9],\n",
              "        [7.9, 3.8, 6.4, 2. ],\n",
              "        [6.4, 2.8, 5.6, 2.2],\n",
              "        [6.3, 2.8, 5.1, 1.5],\n",
              "        [6.1, 2.6, 5.6, 1.4],\n",
              "        [7.7, 3. , 6.1, 2.3],\n",
              "        [6.3, 3.4, 5.6, 2.4],\n",
              "        [6.4, 3.1, 5.5, 1.8],\n",
              "        [6. , 3. , 4.8, 1.8],\n",
              "        [6.9, 3.1, 5.4, 2.1],\n",
              "        [6.7, 3.1, 5.6, 2.4],\n",
              "        [6.9, 3.1, 5.1, 2.3],\n",
              "        [5.8, 2.7, 5.1, 1.9],\n",
              "        [6.8, 3.2, 5.9, 2.3],\n",
              "        [6.7, 3.3, 5.7, 2.5],\n",
              "        [6.7, 3. , 5.2, 2.3],\n",
              "        [6.3, 2.5, 5. , 1.9],\n",
              "        [6.5, 3. , 5.2, 2. ],\n",
              "        [6.2, 3.4, 5.4, 2.3],\n",
              "        [5.9, 3. , 5.1, 1.8]]),\n",
              " 'feature_names': ['sepal length (cm)',\n",
              "  'sepal width (cm)',\n",
              "  'petal length (cm)',\n",
              "  'petal width (cm)'],\n",
              " 'filename': '/usr/local/lib/python3.7/dist-packages/sklearn/datasets/data/iris.csv',\n",
              " 'target': array([0, 0, 0, 0, 0, 0, 0, 0, 0, 0, 0, 0, 0, 0, 0, 0, 0, 0, 0, 0, 0, 0,\n",
              "        0, 0, 0, 0, 0, 0, 0, 0, 0, 0, 0, 0, 0, 0, 0, 0, 0, 0, 0, 0, 0, 0,\n",
              "        0, 0, 0, 0, 0, 0, 1, 1, 1, 1, 1, 1, 1, 1, 1, 1, 1, 1, 1, 1, 1, 1,\n",
              "        1, 1, 1, 1, 1, 1, 1, 1, 1, 1, 1, 1, 1, 1, 1, 1, 1, 1, 1, 1, 1, 1,\n",
              "        1, 1, 1, 1, 1, 1, 1, 1, 1, 1, 1, 1, 2, 2, 2, 2, 2, 2, 2, 2, 2, 2,\n",
              "        2, 2, 2, 2, 2, 2, 2, 2, 2, 2, 2, 2, 2, 2, 2, 2, 2, 2, 2, 2, 2, 2,\n",
              "        2, 2, 2, 2, 2, 2, 2, 2, 2, 2, 2, 2, 2, 2, 2, 2, 2, 2]),\n",
              " 'target_names': array(['setosa', 'versicolor', 'virginica'], dtype='<U10')}"
            ]
          },
          "metadata": {},
          "execution_count": 244
        }
      ]
    },
    {
      "cell_type": "markdown",
      "metadata": {
        "id": "qYV8KuOLpNps"
      },
      "source": [
        "O comando exibe uma descrição verbosa do conjunto de dados Iris, seguido por uma lista de todos os membros de dados. Por favor, consulte a Tabela 12-3 para as principais propriedades e descrições da variável iris."
      ]
    },
    {
      "cell_type": "markdown",
      "metadata": {
        "id": "GzbiDmo1pQEk"
      },
      "source": [
        "![image.png](data:image/png;base64,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)"
      ]
    },
    {
      "cell_type": "markdown",
      "metadata": {
        "id": "W1A-ZExPpUOj"
      },
      "source": [
        "> Você não usa um conjunto de dados de treinamento para uma tarefa de aprendizado não supervisionado porque normalmente não conhece os resultados. Por isso o conjunto de dados não é rotulado e o algoritmo de agrupamento não aceita um valor-alvo em sua criação."
      ]
    },
    {
      "cell_type": "markdown",
      "metadata": {
        "id": "HJUIA4pKpbwy"
      },
      "source": [
        "## **Utilizando Algoritmos de Agrupamento para Fazer Predições**\n",
        "\n",
        "Em geral, o uso de algoritmos de agrupamento para criar um modelo de aprendizado não supervisionado envolve as seguintes etapas genéricas:\n",
        "\n",
        "1. **Preparar e carregar os dados.**\n",
        "2. **Adaptar o modelo**\n",
        "3. **Visualizar os clusters.**\n",
        "4. **Ajustar os parâmetros.**\n",
        "5. **Repetir as etapas de 2 a 4 até obter a saída de cluster que você acha que produz os melhores resultados.**\n",
        "6. **Avaliar o modelo.**\n"
      ]
    },
    {
      "cell_type": "markdown",
      "metadata": {
        "id": "ZdjC8qVVp31i"
      },
      "source": [
        "### **Comparando modelos de agrupamento**\n",
        "\n",
        "O aprendizado não supervisionado tem muitos desafios — incluindo não saber o que esperar quando se executa um algoritmo. Cada algoritmo produzirá resultados diferentes, e até que você experimente uma variedade de soluções, não saberá qual solução funcionará. Mas quando a encontrar, não terá dúvidas. Ela fornecerá valor ou não. E como isso é analisado através das lentes do problema de negócios, no final do processo você saberá.\n",
        "\n",
        "No caso do conjunto de dados Iris, você sabe quais devem ser os resultados e, sendo assim, pode ajustar os algoritmos para produzi-los. Em conjuntos de dados do mundo real, você não terá esse luxo. Terá que contar com algum conhecimento prévio dos dados (ou da intuição do especialista do domínio) para decidir quais parâmetros de inicialização e algoritmos usar ao criar seu modelo.\n",
        "\n",
        "Estamos começando com o famoso conjunto de dados Iris porque ele torna os padrões especialmente fáceis de ver, mas você enfrentará mais desafios em situações do mundo real; as saídas são desconhecidas, e o resultado desejado é difícil de encontrar. Por exemplo, em K-means, escolher o número correto de clusters é o principal problema. Se você encontrar o número certo de clusters, seus dados produzirão insights com os quais poderá fazer predições altamente precisas. Por outro lado, escolher o número errado de clusters pode produzir resultados abaixo do esperado.\n",
        "\n",
        "O algoritmo K-means é uma boa escolha para conjuntos de dados que têm um pequeno número de clusters com tamanhos proporcionais e dados linearmente separáveis — e você pode escalá-lo para usar o algoritmo em conjuntos de dados muito grandes.\n",
        "\n",
        "Imagine dados linearmente separáveis como um monte de pontos em um gráfico dividido por uma linha reta. Se os dados não forem linearmente separáveis, então versões mais avançadas de K-means terão que ser empregadas — o que se tornará mais caro computacionalmente e pode não ser adequado para conjuntos de dados muito grandes. Em sua implementação padrão, a complexidade para calcular os centroides e as distâncias do agrupamento é baixa.\n",
        "\n",
        "O K-means é amplamente empregado para resolver problemas de big data porque é simples de usar, efetivo e altamente escalável. Não é de se admirar que a maioria dos fornecedores comerciais use o algoritmo K-means como um componente-chave de seus pacotes de análise preditiva.\n",
        "\n",
        "O DBSCAN (Density-Based Spatial Clustering of Applications with Noise ou Agrupamento Espacial Baseado em Densidade de Aplicações com Ruído) e implementações mean shift em scikit-learn não requerem parâmetro de inicialização definido pelo usuário para criar uma instância. Você pode substituir os parâmetros padrão durante a inicialização, se desejar. Infelizmente, se estiver usando os parâmetros padrão, os algoritmos não conseguem fornecer uma correspondência próxima ao resultado desejado.\n",
        "\n",
        "Dito isso, nem o DBSCAN nem o mean shift funcionam bem com o conjunto de dados Iris. Mesmo após ajustes exaustivos dos parâmetros de inicialização, ainda é muito difícil obter um resultado que imite os resultados conhecidos para o Iris. O DBSCAN é mais adequado para conjuntos de dados que têm tamanhos de agrupamento desproporcionais e cujos dados podem ser separados de maneira não linear. Embora o deslocamento médio possa lidar muito bem com formas e tamanhos arbitrários, sua implementação padrão não é muito escalável, pois é um algoritmo O(n2), e pode não funcionar bem em dados de alta dimensão. Assim como o K-means, o DBSCAN é escalável, mas usá-lo em conjuntos de dados muito grandes requer mais memória e poder computacional. Você verá em detalhes o DBSCAN e o mean shift em ação mais adiante neste capítulo."
      ]
    },
    {
      "cell_type": "markdown",
      "metadata": {
        "id": "CuO7q6mqqCqD"
      },
      "source": [
        "### **Criando um modelo de aprendizado não supervisionado com K-means**\n",
        "\n",
        "O algoritmo K-means normalmente requer um parâmetro de inicialização do usuário para criar uma instância. Ele precisa saber quantos agrupamentos K usar para executar seu trabalho. A implementação de K-means no Python usará o padrão de K= 8, se o usuário não fornecer um parâmetro.\n",
        "\n",
        "Como usa o conjunto de dados Iris, você já sabe que ele contém três agrupamentos. Conforme descrito no Capítulo 12, o conjunto de dados Iris tem três classes da flor Iris (Setosa, Versicolor e Virginica). Em geral, quando você está criando uma tarefa de aprendizado não supervisionado com um algoritmo de agrupamento, não sabe quantos agrupamentos especificar. Alguns algoritmos tentam determinar o melhor número de agrupamentos, iterando por meio de uma série de agrupamentos e, em seguida, selecionando o número de agrupamentos que melhor se ajusta a seus critérios matemáticos.\n",
        "\n",
        "A melhor maneira de obter resultados imediatos é fornecer uma estimativa sobre o número de agrupamentos a serem usados — baseada nos atributos presentes nos dados (se há um ou vários atributos) ou em algum outro conhecimento dos dados fornecido pelo especialista no domínio de negócios.\n",
        "\n",
        "Essa retomada da adivinhação (ainda que baseada em fatos ou informações) é uma limitação importante do algoritmo de agrupamento K-means. Mais adiante exploraremos alguns outros algoritmos de agrupamento, DBSCAN e mean shift, que não precisam do número de agrupamentos para fazer seu trabalho."
      ]
    },
    {
      "cell_type": "markdown",
      "metadata": {
        "id": "IM3vtvV4qM3K"
      },
      "source": [
        "**Executando o conjunto de dados completo**\n",
        "\n",
        "Para criar uma instância do algoritmo de agrupamento K-means e analisar seus dados nela, digite o seguinte código no interpretador.\n",
        "\n"
      ]
    },
    {
      "cell_type": "code",
      "metadata": {
        "id": "ttab2FNOomX_"
      },
      "source": [
        "# importando o algoritmo de agrupamento\n",
        "from sklearn.cluster import KMeans\n",
        "\n",
        "# instanciando o modelo\n",
        "kmeans = KMeans(n_clusters=3, random_state=111)"
      ],
      "execution_count": 245,
      "outputs": []
    },
    {
      "cell_type": "code",
      "metadata": {
        "colab": {
          "base_uri": "https://localhost:8080/"
        },
        "id": "4I1j7yf8omVx",
        "outputId": "36aa2c83-6be8-486d-aa35-97e1e23e74a4"
      },
      "source": [
        "# treinado o modelo com o conjunto de dados\n",
        "kmeans.fit(iris.data)"
      ],
      "execution_count": 246,
      "outputs": [
        {
          "output_type": "execute_result",
          "data": {
            "text/plain": [
              "KMeans(algorithm='auto', copy_x=True, init='k-means++', max_iter=300,\n",
              "       n_clusters=3, n_init=10, n_jobs=None, precompute_distances='auto',\n",
              "       random_state=111, tol=0.0001, verbose=0)"
            ]
          },
          "metadata": {},
          "execution_count": 246
        }
      ]
    },
    {
      "cell_type": "markdown",
      "metadata": {
        "id": "vZniRXDkq1P1"
      },
      "source": [
        "A primeira linha de código importa a biblioteca KMeans para a sessão. A segunda linha cria o modelo e o armazena em uma variável denominada kmeans. O modelo é criado com o número de agrupamentos definidos como 3. A terceira linha ajusta o modelo para os dados da iris. A montagem do modelo é a parte central do algoritmo, onde ele produzirá os três agrupamentos com o conjunto de dados fornecido e construirá uma função matemática que descreve a linha ou curva que melhor se ajusta aos dados. Para ver os agrupamentos que o algoritmo produz, digite o seguinte código."
      ]
    },
    {
      "cell_type": "code",
      "metadata": {
        "colab": {
          "base_uri": "https://localhost:8080/"
        },
        "id": "m1FZ-3aUomTN",
        "outputId": "d3daa453-a7c4-40fb-eec7-7c373eed337d"
      },
      "source": [
        "# visualizando os rótulos\n",
        "kmeans.labels_"
      ],
      "execution_count": 247,
      "outputs": [
        {
          "output_type": "execute_result",
          "data": {
            "text/plain": [
              "array([1, 1, 1, 1, 1, 1, 1, 1, 1, 1, 1, 1, 1, 1, 1, 1, 1, 1, 1, 1, 1, 1,\n",
              "       1, 1, 1, 1, 1, 1, 1, 1, 1, 1, 1, 1, 1, 1, 1, 1, 1, 1, 1, 1, 1, 1,\n",
              "       1, 1, 1, 1, 1, 1, 0, 0, 2, 0, 0, 0, 0, 0, 0, 0, 0, 0, 0, 0, 0, 0,\n",
              "       0, 0, 0, 0, 0, 0, 0, 0, 0, 0, 0, 2, 0, 0, 0, 0, 0, 0, 0, 0, 0, 0,\n",
              "       0, 0, 0, 0, 0, 0, 0, 0, 0, 0, 0, 0, 2, 0, 2, 2, 2, 2, 0, 2, 2, 2,\n",
              "       2, 2, 2, 0, 0, 2, 2, 2, 2, 0, 2, 0, 2, 0, 2, 2, 0, 0, 2, 2, 2, 2,\n",
              "       2, 0, 2, 2, 2, 2, 0, 2, 2, 2, 0, 2, 2, 2, 0, 2, 2, 0], dtype=int32)"
            ]
          },
          "metadata": {},
          "execution_count": 247
        }
      ]
    },
    {
      "cell_type": "markdown",
      "metadata": {
        "id": "66PGyWh6r-Nm"
      },
      "source": [
        "É assim que o algoritmo K-means rotula os dados como pertencentes a agrupamentos, quando não há entrada do usuário para os valores-alvo. Aqui a única coisa que a K-means sabia era o que fornecemos: o número de agrupamentos. Esse resultado mostra como o algoritmo visualizou os dados e o que aprendeu sobre os relacionamentos dos itens de dados entre si — daí o termo aprendizado não supervisionado.\n",
        "\n",
        "É possível perceber imediatamente que alguns dos pontos de dados foram rotulados incorretamente. Você sabe, do conjunto de dados Iris, quais devem ser os valores de destino:\n",
        "\n",
        "- As primeiras 50 observações devem ser rotuladas da mesma forma (como 1s neste caso).\n",
        "    - Esse intervalo é conhecido como classe Setosa.\n",
        "\n",
        "- As observações 51 a 100 devem ser rotuladas da mesma forma (como 0s neste caso).\n",
        "    - Esse intervalo é conhecido como classe Versicolor.\n",
        "\n",
        "- As observações 101 a 150 devem ser rotuladas da mesma forma (como 2s neste caso).\n",
        "    - Esse intervalo é conhecido como classe Virginica.\n",
        "\n",
        "Não importa se K-means rotulou cada conjunto de 50 como 0, 1 ou 2. Desde que cada conjunto de 50 tenha o mesmo rótulo, a previsão do resultado foi precisa. Cabe a você dar um nome e encontrar significado em cada agrupamento. Se você executar o algoritmo K-means novamente, ele poderá produzir um número inteiramente diferente para cada conjunto de 50 — mas o significado seria o mesmo para cada conjunto (classe)."
      ]
    },
    {
      "cell_type": "markdown",
      "metadata": {
        "id": "Jp_p6ZftsXVj"
      },
      "source": [
        "![image.png](data:image/png;base64,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)"
      ]
    },
    {
      "cell_type": "markdown",
      "metadata": {
        "id": "hs-m8Ekysd8K"
      },
      "source": [
        "> Você pode criar um modelo K-means que gere a mesma saída todas as vezes fornecendo o parâmetro random_state com um valor semente fixo para a função que cria o modelo. O algoritmo depende da aleatoriedade para inicializar os centroides do agrupamento. Fornecer um valor semente fixo elimina a aleatoriedade. Isso, na essência, diz ao K-means para selecionar os mesmos pontos de dados iniciais para inicializar os centroides do agrupamento toda vez que você executar o algoritmo. É possível obter um resultado diferente removendo o parâmetro random_state da função."
      ]
    },
    {
      "cell_type": "markdown",
      "metadata": {
        "id": "iUGReLTZsiVB"
      },
      "source": [
        "### **Visualizando os agrupamentos**"
      ]
    },
    {
      "cell_type": "markdown",
      "metadata": {
        "id": "vlccrY3psnC0"
      },
      "source": [
        "![image.png](data:image/png;base64,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)"
      ]
    },
    {
      "cell_type": "markdown",
      "metadata": {
        "id": "NrjDj3qEsp-1"
      },
      "source": [
        "> Como mencionado no Capítulo 12, não é fácil representar o conjunto de dados Iris em sua forma original. Portanto, você precisa reduzir o número de dimensões aplicando um algoritmo de redução de dimensionalidade que opera em todos os quatro campos e gera dois novos números (que representam os quatro campos originais) que podem ser usados para fazer o gráfico.\n",
        "\n",
        "Observe que a forma atual do conjunto de dados Iris tem 150 linhas, com 4 campos em cada. Você visualiza a forma inserindo esta linha de código:"
      ]
    },
    {
      "cell_type": "code",
      "metadata": {
        "colab": {
          "base_uri": "https://localhost:8080/"
        },
        "id": "wkrmYqV4omLx",
        "outputId": "2bf24838-9f81-48b1-fdde-79ee32d1a6a9"
      },
      "source": [
        "# visualizando a dimensão do conjunto de dados\n",
        "iris['data'].shape  # linhas e colunas"
      ],
      "execution_count": 248,
      "outputs": [
        {
          "output_type": "execute_result",
          "data": {
            "text/plain": [
              "(150, 4)"
            ]
          },
          "metadata": {},
          "execution_count": 248
        }
      ]
    },
    {
      "cell_type": "markdown",
      "metadata": {
        "id": "g2kFKJ5ctJH3"
      },
      "source": [
        "O código a seguir fará a redução da dimensão:"
      ]
    },
    {
      "cell_type": "code",
      "metadata": {
        "id": "3kjmQDIjomGZ"
      },
      "source": [
        "# importando a biblioteca para redução da dimensionalidade\n",
        "from sklearn.decomposition import PCA \n",
        "\n",
        "# instanciando o modelo\n",
        "pca = PCA(n_components=2).fit(iris.data)\n",
        "\n",
        "# aplicando o modelo e realizando a redução da dimensionalidade\n",
        "pca_2d = pca.transform(iris['data'])\n",
        "# pca_2d = pca.transform(iris.data)"
      ],
      "execution_count": 249,
      "outputs": []
    },
    {
      "cell_type": "markdown",
      "metadata": {
        "id": "fX4x1j5Lttjs"
      },
      "source": [
        "Depois de executar o código de redução de dimensionalidade, os dados de iris transformados serão armazenados em um novo nome de variável, pca_2d. Você pode verificar se a forma foi transformada em duas dimensões:"
      ]
    },
    {
      "cell_type": "code",
      "metadata": {
        "colab": {
          "base_uri": "https://localhost:8080/"
        },
        "id": "iujQGCqzol-h",
        "outputId": "68fabaff-fd31-4d7a-f51a-bedde8cd052a"
      },
      "source": [
        "# visualizando a dimensão \n",
        "pca_2d.shape"
      ],
      "execution_count": 250,
      "outputs": [
        {
          "output_type": "execute_result",
          "data": {
            "text/plain": [
              "(150, 2)"
            ]
          },
          "metadata": {},
          "execution_count": 250
        }
      ]
    },
    {
      "cell_type": "markdown",
      "metadata": {
        "id": "9IoB1VASt2zA"
      },
      "source": [
        "Também é possível digitar a variável pca_2d no interpretador, e ele produzirá os vetores [arrays] (pense em um array como um contêiner que armazena itens em uma lista) com dois campos, em vez de quatro. Agora que tem o conjunto de atributos reduzido, é possível plotar os resultados com o seguinte código:"
      ]
    },
    {
      "cell_type": "code",
      "metadata": {
        "colab": {
          "base_uri": "https://localhost:8080/",
          "height": 570
        },
        "id": "yDsoSdJ7ol73",
        "outputId": "f8bf0f63-905a-4a39-ceb4-43d167043d00"
      },
      "source": [
        "# plotando gráfico\n",
        "\n",
        "# importando a biblioteca\n",
        "import pylab as pl\n",
        "\n",
        "pl.figure(figsize=(12, 9))\n",
        "\n",
        "for i in range(0, pca_2d.shape[0]):\n",
        "\n",
        "    if iris['target'][i] == 0:\n",
        "        c1 = pl.scatter(pca_2d[i, 0], pca_2d[i, 1], \n",
        "                        c='r', marker='+')\n",
        "        \n",
        "    elif iris['target'][i] == 1:\n",
        "        c2 = pl.scatter(pca_2d[i, 0], pca_2d[i, 1], \n",
        "                        c='g', marker='o')\n",
        "        \n",
        "    elif iris['target'][i] == 2:\n",
        "        c3 = pl.scatter(pca_2d[i, 0], pca_2d[i, 1], \n",
        "                        c='b', marker='*')\n",
        "\n",
        "pl.legend([c1,c2,c3], ['Setosa', 'Versicolor', 'Virginica'])\n",
        "pl.title('Conjunto de Dados Iris com 3 agrupamentos e resultados conhecidos\\n', \n",
        "         {'fontsize': 14,'fontweight': 'bold'})\n",
        "pl.show();"
      ],
      "execution_count": 252,
      "outputs": [
        {
          "output_type": "display_data",
          "data": {
            "image/png": "[encoded data removed]",
            "text/plain": [
              "<Figure size 864x648 with 1 Axes>"
            ]
          },
          "metadata": {
            "needs_background": "light"
          }
        }
      ]
    },
    {
      "cell_type": "markdown",
      "metadata": {
        "id": "mCVqbNeAxNK_"
      },
      "source": [
        "A saída desse código é um gráfico que deve ser semelhante ao da Figura 13-1. Esse é um gráfico representando como os resultados conhecidos do conjunto de dados Iris devem se parecer. É o que você gostaria que o agrupamento K-means obtivesse. A figura mostra um gráfico de dispersão, que é um gráfico de pontos representando uma observação em um gráfico, de todas as 150 observações. Conforme indicado nas plotagens e legendas do gráfico:\n",
        "\n",
        "- Existem 50 sinais de mais que representam a classe Setosa.\n",
        "- Existem 50 círculos que representam a classe Versicolor.\n",
        "- Existem 50 estrelas que representam a classe Virginica."
      ]
    },
    {
      "cell_type": "markdown",
      "metadata": {
        "id": "eN8MKBT4xYQB"
      },
      "source": [
        "A Figura mostra uma representação visual dos dados que estamos pedindo que o K-means agrupe: um gráfico de dispersão com 150 pontos de dados que não foram rotulados (portanto, todos os pontos de dados são da mesma cor e forma). O algoritmo K-means não conhece nenhum resultado desejado. Os dados reais que vamos rodar no algoritmo ainda não tiveram sua dimensionalidade reduzida.\n",
        "\n",
        "As seguintes linhas de código criam esse gráfico de dispersão usando os valores X e Y de pca_2d e colorindo todos os pontos de dados de preto (c='black' define a cor para preto)."
      ]
    },
    {
      "cell_type": "code",
      "metadata": {
        "colab": {
          "base_uri": "https://localhost:8080/",
          "height": 571
        },
        "id": "zDg-RUZWol5F",
        "outputId": "7e9b3508-6cdc-4c1d-a857-14e3a513f498"
      },
      "source": [
        "# plotando o gráfico com dados sem rótulos\n",
        "pl.figure(figsize=(12, 9))\n",
        "pl.scatter(pca_2d[:, 0], pca_2d[:, 1], c='black')\n",
        "pl.title('Conjunto de dados Iris sem rótulos como visualizado por K-means\\n', \n",
        "         {'fontsize': 14,'fontweight': 'bold'})\n",
        "pl.show();"
      ],
      "execution_count": 254,
      "outputs": [
        {
          "output_type": "display_data",
          "data": {
            "image/png": "[encoded data removed]",
            "text/plain": [
              "<Figure size 864x648 with 1 Axes>"
            ]
          },
          "metadata": {
            "needs_background": "light"
          }
        }
      ]
    },
    {
      "cell_type": "markdown",
      "metadata": {
        "id": "BHnMa3tVyjzI"
      },
      "source": [
        "![image.png](data:image/png;base64,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)"
      ]
    },
    {
      "cell_type": "markdown",
      "metadata": {
        "id": "h0F-g6Cuyng9"
      },
      "source": [
        "> Se você tentar ajustar os dados bidimensionais que foram reduzidos pelo PCA, o algoritmo K-means não conseguirá agrupar corretamente as classes Virginica e Versicolor. Usar o PCA para pré-processar os dados destruirá muitas informações de que o K-means precisa."
      ]
    },
    {
      "cell_type": "markdown",
      "metadata": {
        "id": "OSU7DSHUytLy"
      },
      "source": [
        "Depois que o K-means ajustou os dados da Iris, você pode fazer um gráfico de dispersão dos agrupamentos que o algoritmo produziu; basta executar o seguinte código:"
      ]
    },
    {
      "cell_type": "code",
      "metadata": {
        "colab": {
          "base_uri": "https://localhost:8080/",
          "height": 570
        },
        "id": "bMMZgDW9ol2U",
        "outputId": "1cff2277-163b-4ec5-c667-5a2b9723f4af"
      },
      "source": [
        "# plotando o gráfico\n",
        "\n",
        "import pylab as pl\n",
        "\n",
        "pl.figure(figsize=(12, 9))\n",
        "\n",
        "for i in range(0, pca_2d.shape[0]):\n",
        "\n",
        "    if kmeans.labels_[i] == 0:\n",
        "        c1 = pl.scatter(pca_2d[i, 0], pca_2d[i, 1], \n",
        "                        c='r', marker='+')\n",
        "        \n",
        "    elif kmeans.labels_[i] == 1:\n",
        "        c2 = pl.scatter(pca_2d[i, 0], pca_2d[i, 1], \n",
        "                        c='g', marker='o')\n",
        "        \n",
        "    elif kmeans.labels_[i] == 2:\n",
        "        c3 = pl.scatter(pca_2d[i, 0], pca_2d[i, 1], \n",
        "                        c='b', marker='*')\n",
        "        \n",
        "pl.legend([c1,c2,c3], ['Agrupamento 0', \n",
        "                       'Agrupamento 1', \n",
        "                       'Agrupamento 2'])\n",
        "pl.title('K-means agrupa o conjunto de dados Iris em 3 agrupamentos\\n', \n",
        "         {'fontsize': 14,'fontweight': 'bold'})\n",
        "pl.show();"
      ],
      "execution_count": 256,
      "outputs": [
        {
          "output_type": "display_data",
          "data": {
            "image/png": "[encoded data removed]",
            "text/plain": [
              "<Figure size 864x648 with 1 Axes>"
            ]
          },
          "metadata": {
            "needs_background": "light"
          }
        }
      ]
    },
    {
      "cell_type": "markdown",
      "metadata": {
        "id": "rjGZCImw1rBm"
      },
      "source": [
        "Lembre-se de que o K-means rotulou as primeiras 50 observações como 1, as 50 seguintes como 0, e as últimas 50 como 2. No código anterior, as linhas com as declarações if, elif e legend refletem esses rótulos. Essa alteração foi feita para facilitar a comparação com os resultados reais."
      ]
    },
    {
      "cell_type": "markdown",
      "metadata": {
        "id": "3X3WJLHY2UEo"
      },
      "source": [
        "Compare a saída de agrupamento de K-means (mostrada na Figura 13-3) com o gráfico de dispersão original (veja a Figura 13-1) — que fornece rótulos porque os resultados são conhecidos. Você pode ver que as duas plotagens são parecidas. O algoritmo K-means fez um bom trabalho com o agrupamento. Embora as predições não sejam perfeitas, elas chegam perto. Essa é uma vitória para o algoritmo.\n",
        "\n",
        "No aprendizado não supervisionado, você raramente obtém uma saída 100% precisa, porque os dados do mundo real dificilmente são tão simples. Você não saberá com certeza quantos agrupamentos deve escolher (ou outros parâmetros de inicialização para outros algoritmos de agrupamento). Você terá que lidar com atípicos (pontos de dados inconsistentes com os outros) e conjuntos de dados complexos que são densos, altamente dimensionais e não linearmente separáveis."
      ]
    },
    {
      "cell_type": "markdown",
      "metadata": {
        "id": "8wVzW3Vp2ZYb"
      },
      "source": [
        "![image.png](data:image/png;base64,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)"
      ]
    },
    {
      "cell_type": "markdown",
      "metadata": {
        "id": "g6f44hKc2dEo"
      },
      "source": [
        "> Você só pode chegar a este ponto se souber quantos agrupamentos o conjunto de dados tem. Não é necessário se preocupar com quais atributos usar ou em reduzir a dimensionalidade de um conjunto de dados que tenha tão poucos atributos (neste caso, quatro) para ajustar o modelo. Apenas reduzimos as dimensões para visualizar os dados em um gráfico. Não ajustamos o modelo com um conjunto de dados com dimensionalidade reduzida.\n",
        "\n",
        "Aqui está a listagem completa do código que cria os gráficos de dispersão e os códigos de cores dos pontos de dados:"
      ]
    },
    {
      "cell_type": "code",
      "metadata": {
        "id": "tB6FNrh9olzg"
      },
      "source": [
        "# importando as bibliotecas e as funções\n",
        "from sklearn.decomposition import PCA\n",
        "from sklearn.cluster import KMeans\n",
        "from sklearn.datasets import load_iris\n",
        "import pylab as pl"
      ],
      "execution_count": 257,
      "outputs": []
    },
    {
      "cell_type": "code",
      "metadata": {
        "colab": {
          "base_uri": "https://localhost:8080/"
        },
        "id": "XhgTXNlTolwr",
        "outputId": "2a72c403-7888-4991-8f54-e632e9cfdc95"
      },
      "source": [
        "# instanciando o conjunto de dados na variável \"iris\"\n",
        "iris = load_iris()\n",
        "\n",
        "# instanciando o modelo de redução da dimensionalidade\n",
        "pca = PCA(n_components=2).fit(iris['data'])\n",
        "\n",
        "# aplicando o modelo e realizando a redução da dimensionalidade\n",
        "pca_2d = pca.transform(iris['data'])\n",
        "pca_2d[:5]  # visualizando os 5 primeiros dados da variável"
      ],
      "execution_count": 269,
      "outputs": [
        {
          "output_type": "execute_result",
          "data": {
            "text/plain": [
              "array([[-2.68412563,  0.31939725],\n",
              "       [-2.71414169, -0.17700123],\n",
              "       [-2.88899057, -0.14494943],\n",
              "       [-2.74534286, -0.31829898],\n",
              "       [-2.72871654,  0.32675451]])"
            ]
          },
          "metadata": {},
          "execution_count": 269
        }
      ]
    },
    {
      "cell_type": "code",
      "metadata": {
        "colab": {
          "base_uri": "https://localhost:8080/"
        },
        "id": "-FKOQmMIolql",
        "outputId": "7278ba9e-8f3a-4936-b268-e23b42459784"
      },
      "source": [
        "# podemos otimizar aplicação da redução da dimensionalidade - treinando e transformando os dados\n",
        "pca_2d2 = PCA(n_components=2).fit_transform(iris['data'])\n",
        "\n",
        "# perceba que os resultados é idêntico ao código da célula anterior\n",
        "pca_2d2[:5] # visualizando os 5 primeiros dados"
      ],
      "execution_count": 270,
      "outputs": [
        {
          "output_type": "execute_result",
          "data": {
            "text/plain": [
              "array([[-2.68412563,  0.31939725],\n",
              "       [-2.71414169, -0.17700123],\n",
              "       [-2.88899057, -0.14494943],\n",
              "       [-2.74534286, -0.31829898],\n",
              "       [-2.72871654,  0.32675451]])"
            ]
          },
          "metadata": {},
          "execution_count": 270
        }
      ]
    },
    {
      "cell_type": "code",
      "metadata": {
        "colab": {
          "base_uri": "https://localhost:8080/",
          "height": 521
        },
        "id": "6cQv9p_Aoln7",
        "outputId": "f118c25f-5b77-4b7b-8baa-e31363e4d022"
      },
      "source": [
        "# plotando gráficos\n",
        "\n",
        "pl.figure('Plotagem de Referência')\n",
        "pl.scatter(pca_2d[:, 0], pca_2d[:, 1], c=iris['target'])\n",
        "\n",
        "kmeans = KMeans(n_clusters=3, random_state=111)\n",
        "kmeans.fit(iris['data'])\n",
        "\n",
        "pl.figure('K-means com 3 agrupamentos')\n",
        "pl.scatter(pca_2d[:, 0], pca_2d[:, 1], c=kmeans.labels_)\n",
        "\n",
        "pl.show();"
      ],
      "execution_count": 284,
      "outputs": [
        {
          "output_type": "display_data",
          "data": {
            "image/png": "[encoded data removed]",
            "text/plain": [
              "<Figure size 432x288 with 1 Axes>"
            ]
          },
          "metadata": {
            "needs_background": "light"
          }
        },
        {
          "output_type": "display_data",
          "data": {
            "image/png": "[encoded data removed]",
            "text/plain": [
              "<Figure size 432x288 with 1 Axes>"
            ]
          },
          "metadata": {
            "needs_background": "light"
          }
        }
      ]
    },
    {
      "cell_type": "code",
      "metadata": {
        "colab": {
          "base_uri": "https://localhost:8080/",
          "height": 521
        },
        "id": "Eqj1Nk0xollN",
        "outputId": "89a9fc5f-3a93-4643-8536-7dc7122bf612"
      },
      "source": [
        "# plotando gráficos\n",
        "\n",
        "pl.figure('Plotagem de Referência')\n",
        "pl.scatter(pca_2d2[:, 0], pca_2d2[:, 1], c=iris['target'])\n",
        "\n",
        "kmeans = KMeans(n_clusters=3, random_state=111)\n",
        "kmeans.fit(iris['data'])\n",
        "\n",
        "pl.figure('K-means com 3 agrupamentos')\n",
        "pl.scatter(pca_2d2[:, 0], pca_2d2[:, 1], c=kmeans.labels_)\n",
        "\n",
        "pl.show();"
      ],
      "execution_count": 285,
      "outputs": [
        {
          "output_type": "display_data",
          "data": {
            "image/png": "[encoded data removed]",
            "text/plain": [
              "<Figure size 432x288 with 1 Axes>"
            ]
          },
          "metadata": {
            "needs_background": "light"
          }
        },
        {
          "output_type": "display_data",
          "data": {
            "image/png": "[encoded data removed]",
            "text/plain": [
              "<Figure size 432x288 with 1 Axes>"
            ]
          },
          "metadata": {
            "needs_background": "light"
          }
        }
      ]
    },
    {
      "cell_type": "markdown",
      "metadata": {
        "id": "d8BF5K-9_HWQ"
      },
      "source": [
        "### **Repetindo as execuções com um valor K diferente**\n",
        "\n",
        "Um resultado comum para agrupar o conjunto de dados Iris é uma solução de dois agrupamentos: um contendo a classe Setosa, e o outro, as classes Versicolor e Virginica.\n",
        "\n",
        "Se você não tinha conhecimento prévio de quantos agrupamentos o conjunto de dados Iris tem, pode ter escolhido usar dois agrupamentos com o algoritmo K-means. Com dois agrupamentos, o K-means agrupa corretamente a classe Setosa e combina as classes Virginica e Versicolor em um único agrupamento.\n",
        "\n",
        "O código a seguir usa K-means para criar dois agrupamentos e depois exibe um gráfico de dispersão dos resultados. A Figura 13-4 mostra a saída da solução k-means de dois agrupamentos."
      ]
    },
    {
      "cell_type": "code",
      "metadata": {
        "colab": {
          "base_uri": "https://localhost:8080/",
          "height": 570
        },
        "id": "9_E0syTJolhX",
        "outputId": "149cc324-bb9d-46b8-f4d2-876e202f5564"
      },
      "source": [
        "# plotando gráfico com dois clusters\n",
        "\n",
        "kmeans2 = KMeans(n_clusters=2, random_state=111)\n",
        "kmeans2.fit(iris['data'])\n",
        "\n",
        "plt.figure(figsize=(12, 9))\n",
        "\n",
        "for i in range(0, pca_2d.shape[0]):\n",
        "    if kmeans2.labels_[i] == 0:\n",
        "        c1 = pl.scatter(pca_2d[i, 0], pca_2d[i, 1], \n",
        "                        c='r', marker='+')\n",
        "        \n",
        "    elif kmeans2.labels_[i] == 1:\n",
        "        c2 = pl.scatter(pca_2d[i, 0], pca_2d[i, 1], \n",
        "                        c='g', marker='o')\n",
        "        \n",
        "pl.legend([c1, c2], ['Cluster 1', 'Cluster 2'])\n",
        "pl.title('K-means agrupa o conjunto de dados Iris em 2 grupos\\n', \n",
        "         {'fontsize': 14,'fontweight': 'bold'})\n",
        "pl.show();"
      ],
      "execution_count": 287,
      "outputs": [
        {
          "output_type": "display_data",
          "data": {
            "image/png": "[encoded data removed]",
            "text/plain": [
              "<Figure size 864x648 with 1 Axes>"
            ]
          },
          "metadata": {
            "needs_background": "light"
          }
        }
      ]
    },
    {
      "cell_type": "markdown",
      "metadata": {
        "id": "f5alKxWIBbBS"
      },
      "source": [
        "À primeira vista, os resultados parecem ser lógicos — e um potencial candidato para a criação de seu modelo. Na verdade, se você usasse esses resultados para criar seu modelo preditivo, sua taxa de sucesso estaria em torno de 67% — nada mal para um modelo muito básico que uso aprendizado não supervisionado e um palpite errado para o número de agrupamentos. A precisão em torno de 67% é esperada porque o algoritmo é muito preciso no agrupamento da classe Setosa linearmente separável (33,3% dos dados). Agrupar os dados restantes em uma única classe automaticamente daria uma precisão adicional de 33,3%, pois só há duas possibilidades de escolha.\n",
        "\n",
        "Uma solução de quatro grupamentos pode produzir um resultado com um grande agrupamento à esquerda (Setosa) e outro à direita, que é separado em três agrupamentos (como mostrado na Figura 13-5). No entanto, quando você começa a aumentar o valor de K (o número de agrupamentos), seus resultados se tornam menos significativos."
      ]
    },
    {
      "cell_type": "markdown",
      "metadata": {
        "id": "-wKkfUFVCTbQ"
      },
      "source": [
        "O código a seguir cria um modelo de quatro agrupamentos com K-means:"
      ]
    },
    {
      "cell_type": "code",
      "metadata": {
        "colab": {
          "base_uri": "https://localhost:8080/",
          "height": 570
        },
        "id": "84erX1Kjolep",
        "outputId": "4a019407-82bd-4265-9478-eb9c7cce77e5"
      },
      "source": [
        "# plotando gráfico com 4 clusters\n",
        "\n",
        "kmeans4 = KMeans(n_clusters=4, random_state=111)\n",
        "kmeans4.fit(iris['data'])\n",
        "\n",
        "plt.figure(figsize=(12, 9))\n",
        "\n",
        "for i in range(0, pca_2d.shape[0]):\n",
        "    if kmeans4.labels_[i] == 0:\n",
        "        c1 = pl.scatter(pca_2d[i, 0], pca_2d[i, 1], \n",
        "                        c='r', marker='+')\n",
        "        \n",
        "    elif kmeans4.labels_[i] == 1:\n",
        "        c2 = pl.scatter(pca_2d[i, 0], pca_2d[i, 1], \n",
        "                        c='g', marker='o')\n",
        "        \n",
        "    elif kmeans4.labels_[i] == 2:\n",
        "        c3 = pl.scatter(pca_2d[i, 0], pca_2d[i, 1], \n",
        "                        c='b', marker='*')\n",
        "        \n",
        "    elif kmeans4.labels_[i] == 3:\n",
        "        c4 = pl.scatter(pca_2d[i, 0], pca_2d[i, 1], \n",
        "                        c='c', marker='^')\n",
        "        \n",
        "pl.legend([c1, c2], ['Cluster 1', 'Cluster 2', \n",
        "                     'Cluster 3', 'Cluster 4'])\n",
        "pl.title('K-means agrupa o conjunto de dados Iris em 4 grupos\\n', \n",
        "         {'fontsize': 14,'fontweight': 'bold'})\n",
        "pl.show();"
      ],
      "execution_count": 289,
      "outputs": [
        {
          "output_type": "display_data",
          "data": {
            "image/png": "[encoded data removed]",
            "text/plain": [
              "<Figure size 864x648 with 1 Axes>"
            ]
          },
          "metadata": {
            "needs_background": "light"
          }
        }
      ]
    },
    {
      "cell_type": "markdown",
      "metadata": {
        "id": "DwTHdA_XDiLp"
      },
      "source": [
        "### **Avaliando o modelo**\n",
        "\n",
        "Depois de escolher o número e configurar o algoritmo para preencher os agrupamentos, você tem um modelo preditivo. O exemplo a seguir usa o modelo de três agrupamentos construído anteriormente neste capítulo. Você pode fazer predições com base em novos dados de entrada chamando a função predict da instância K-means e fornecendo um vetor de observações. Ficaria assim:"
      ]
    },
    {
      "cell_type": "code",
      "metadata": {
        "colab": {
          "base_uri": "https://localhost:8080/"
        },
        "id": "epMfB8Qaolb2",
        "outputId": "685c8a82-d98f-4832-9f16-f5e51e5c5f22"
      },
      "source": [
        "# chamando a função \".predict()\" com uma única observação\n",
        "kmeans.predict([[5.1, 3.5, 1.4, 0.2]])"
      ],
      "execution_count": 290,
      "outputs": [
        {
          "output_type": "execute_result",
          "data": {
            "text/plain": [
              "array([1], dtype=int32)"
            ]
          },
          "metadata": {},
          "execution_count": 290
        }
      ]
    },
    {
      "cell_type": "markdown",
      "metadata": {
        "id": "kt9u19q6EA3b"
      },
      "source": [
        "Quando a função predict localiza o centroide do agrupamento do qual a observação está mais próxima, ela exibe o índice do vetor do centroide desse agrupamento. Os vetores Python são indexados em 0 (isto é, o primeiro item inicia em 0). As observações mais próximas a um centroide serão agrupadas nesse agrupamento. Neste exemplo, o algoritmo K-means prediz que a observação pertence ao Agrupamento 1 (Setosa, neste caso) — uma predição fácil, porque a classe Setosa é linearmente separável e distante das outras duas classes. Além disso, selecionamos apenas a primeira observação do conjunto de dados para tornar a predição verificável e fácil de explicar. Você pode ver que os atributos da observação que estamos tentando prever estão muito próximos dos atributos do segundo centroide de agrupamento (kmeans.cluster_centers_[1]).\n",
        "\n",
        "A nova observação que estamos tentando prever [5.1, 3.5, 1.4, 0.2] está mais próxima do segundo centroide do agrupamento [5.006, 3.418, 1.464, 0.244].\n",
        "\n",
        "Para ver todos os centroides de agrupamento, digite o seguinte código:"
      ]
    },
    {
      "cell_type": "code",
      "metadata": {
        "colab": {
          "base_uri": "https://localhost:8080/"
        },
        "id": "7_TagTsiolYe",
        "outputId": "df85ba98-dfbb-47e2-b22e-767ee1ff681c"
      },
      "source": [
        "# visualizando os centros dos clusters\n",
        "kmeans.cluster_centers_"
      ],
      "execution_count": 291,
      "outputs": [
        {
          "output_type": "execute_result",
          "data": {
            "text/plain": [
              "array([[5.9016129 , 2.7483871 , 4.39354839, 1.43387097],\n",
              "       [5.006     , 3.428     , 1.462     , 0.246     ],\n",
              "       [6.85      , 3.07368421, 5.74210526, 2.07105263]])"
            ]
          },
          "metadata": {},
          "execution_count": 291
        }
      ]
    },
    {
      "cell_type": "markdown",
      "metadata": {
        "id": "agzLrq-FEOr1"
      },
      "source": [
        "Você também pode usar a função predict para avaliar um conjunto de observações, como mostrado aqui:"
      ]
    },
    {
      "cell_type": "code",
      "metadata": {
        "colab": {
          "base_uri": "https://localhost:8080/"
        },
        "id": "tHwVzDFxEGkg",
        "outputId": "0f9bb777-9127-4646-d846-9faa9ad584d4"
      },
      "source": [
        "# chamando a função \".predict()\" com um conjunto de pontos de dados\n",
        "kmeans.predict([[5.1, 3.5, 1.4, 0.2], \n",
        "                [5.9, 3.0, 5.1, 1.8]])"
      ],
      "execution_count": 292,
      "outputs": [
        {
          "output_type": "execute_result",
          "data": {
            "text/plain": [
              "array([1, 0], dtype=int32)"
            ]
          },
          "metadata": {},
          "execution_count": 292
        }
      ]
    },
    {
      "cell_type": "markdown",
      "metadata": {
        "id": "Mgr6ns0JE0Gg"
      },
      "source": [
        "O resultado é um vetor com uma lista de predições. A primeira observação é prevista como sendo o Agrupamento 1, e a segunda, o Agrupamento 0.\n",
        "\n",
        "Para ver os rótulos dos agrupamentos produzidos pelo K-means, digite:"
      ]
    },
    {
      "cell_type": "code",
      "metadata": {
        "colab": {
          "base_uri": "https://localhost:8080/"
        },
        "id": "AYQaJLrEEGhx",
        "outputId": "34ab3d75-976b-4d89-822a-e4e5da8e7dde"
      },
      "source": [
        "# visualizando os rótulos criados pelo modelo\n",
        "kmeans.labels_"
      ],
      "execution_count": 293,
      "outputs": [
        {
          "output_type": "execute_result",
          "data": {
            "text/plain": [
              "array([1, 1, 1, 1, 1, 1, 1, 1, 1, 1, 1, 1, 1, 1, 1, 1, 1, 1, 1, 1, 1, 1,\n",
              "       1, 1, 1, 1, 1, 1, 1, 1, 1, 1, 1, 1, 1, 1, 1, 1, 1, 1, 1, 1, 1, 1,\n",
              "       1, 1, 1, 1, 1, 1, 0, 0, 2, 0, 0, 0, 0, 0, 0, 0, 0, 0, 0, 0, 0, 0,\n",
              "       0, 0, 0, 0, 0, 0, 0, 0, 0, 0, 0, 2, 0, 0, 0, 0, 0, 0, 0, 0, 0, 0,\n",
              "       0, 0, 0, 0, 0, 0, 0, 0, 0, 0, 0, 0, 2, 0, 2, 2, 2, 2, 0, 2, 2, 2,\n",
              "       2, 2, 2, 0, 0, 2, 2, 2, 2, 0, 2, 0, 2, 0, 2, 2, 0, 0, 2, 2, 2, 2,\n",
              "       2, 0, 2, 2, 2, 2, 0, 2, 2, 2, 0, 2, 2, 2, 0, 2, 2, 0], dtype=int32)"
            ]
          },
          "metadata": {},
          "execution_count": 293
        }
      ]
    },
    {
      "cell_type": "markdown",
      "metadata": {
        "id": "9vmCEk-RFCDx"
      },
      "source": [
        "Embora você saiba que a solução com três agrupamentos está correta, não se surpreenda se, intuitivamente, a solução com dois agrupamentos parecer melhor e a com quatro também parecer bastante razoável. Se você aumentar o número de agrupamentos além de três, a taxa de sucesso de suas predições começará a diminuir. Com um pouco de sorte (e alguns palpites bem fundamentados), você escolherá o melhor número de agrupamentos. Pense nesse processo como uma mistura de arte e ciência. Até mesmo o algoritmo usa aleatoriedade em sua seleção dos pontos de dados iniciais de cada agrupamento. Então, mesmo se estiver adivinhando, você está em boa companhia.\n",
        "\n",
        "Para esse conjunto de dados fictício, avaliamos como o K-means se saiu ao agrupar as 150 observações, porque sabemos os resultados. Ao ver os rótulos criados por K-means entendemos como os agrupamentos foram formados. Sabemos que as primeiras 50 observações devem estar no mesmo agrupamento (Agrupamento 1), as 50 seguintes, em outro (Agrupamento 0), bem como as últimas 5 (Agrupamento 2). Aqui estão os resultados reais:\n",
        "\n",
        "K-means agrupou os primeiros 50 juntos.\n",
        "Para o segundo grupo de 50, um par de 2 foi misturado; para esse grupo, o erro foi de 2/50 ou 4%.\n",
        "Para o terceiro grupo de 50, houve uma mistura de 0 e 2. Os 0s pertenciam ao segundo agrupamento. Portanto, 14 de 50 (28%) foram agrupados incorretamente nesse grupo.\n",
        "O erro total é de 16/150, ou 10,67%.\n",
        "Avaliar o desempenho de um algoritmo requer um rótulo que represente o valor esperado e o previsto para comparar. Lembre-se de que quando você aplica um algoritmo de agrupamento a um modelo de aprendizado não supervisionado, você não sabe quais são os valores esperados — e não oferece os rótulos ao algoritmo de agrupamento. O algoritmo agrupa os pontos de dados com base em quais são mais semelhantes entre si, encontrando o centroide do agrupamento mais próximo para cada observação. Para o conjunto de dados Iris, o K-means não conhece as classes Setosa, Versicolor ou Virginica; ele só sabe que deve agrupar os dados em três agrupamentos e nomeá-los aleatoriamente de 0 a 2.\n",
        "\n",
        "O propósito do aprendizado não supervisionado com agrupamento é a exploração de dados; encontrar relações significativas nos dados, de preferência onde não seria possível ver de outra forma. O modelo formou grupos distintos e interpretáveis de agrupamentos para um projeto de segmentação de mercado? Cabe a você decidir se essas relações são uma boa base para um insight acionável."
      ]
    },
    {
      "cell_type": "markdown",
      "metadata": {
        "id": "uE81hKNfFITA"
      },
      "source": [
        "## **Criando um modelo de aprendizado não supervisionado com DBSCAN**\n",
        "\n",
        "Como mencionado, o DBSCAN é um algoritmo de agrupamento popular usado como alternativa ao K-means. Ele não requer a inserção do número de agrupamentos para que possa ser executado. Mas, em troca, você precisa ajustar dois outros parâmetros. A implementação scikit-learn fornece um padrão para os dois parâmetros, eps e min_samples, mas normalmente você precisa ajustá-los. O parâmetro eps é a distância máxima entre dois pontos de dados a serem considerados na mesma vizinhança. O parâmetro min_samples é a quantidade mínima de pontos de dados em uma vizinhança para que seja considerado um agrupamento.\n",
        "\n",
        "Uma vantagem do DBSCAN sobre o K-means é que o DBSCAN não está restrito a um número definido de agrupamentos durante a inicialização. O algoritmo determinará um número de agrupamentos com base na densidade de uma região. Tenha em mente, no entanto, que o algoritmo depende dos parâmetros eps e min_samples para descobrir qual deve ser a densidade de cada agrupamento. O raciocínio é o de que esses dois parâmetros são muito mais fáceis de escolher para alguns problemas de agrupamento."
      ]
    },
    {
      "cell_type": "markdown",
      "metadata": {
        "id": "nIuvmi2xFPsu"
      },
      "source": [
        "![image.png](data:image/png;base64,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)"
      ]
    },
    {
      "cell_type": "markdown",
      "metadata": {
        "id": "wMz4s6KwFUPl"
      },
      "source": [
        "> Na prática, você deve testar com vários algoritmos de agrupamento.\n",
        "\n",
        "Como o algoritmo DBSCAN tem um conceito de ruído embutido, é comumente usado para detectar valores atípicos nos dados — atividade fraudulenta em cartões de crédito, comércio eletrônico ou solicitações de pagamento de seguro."
      ]
    },
    {
      "cell_type": "markdown",
      "metadata": {
        "id": "_7z84xCrFYpu"
      },
      "source": [
        "### **Executando o conjunto de dados completo**\n",
        "\n",
        "Você precisará carregar o conjunto de dados Iris na sua sessão do Python. Se está acompanhando desde a seção anterior e ele já estiver carregado, pule as etapas 1 e 2. Aqui está o procedimento:\n",
        "\n",
        "1. **Abra uma nova sessão do shell interativo do Python.**\n",
        " - Use uma nova sessão do Python para que a memória seja liberada e você tenha uma estrutura limpa para trabalhar.\n",
        "\n",
        "2. **Cole o seguinte código no prompt e observe a saída:**\n"
      ]
    },
    {
      "cell_type": "code",
      "metadata": {
        "id": "rdhxYByuEGe4"
      },
      "source": [
        "# importando o conjunto de dados\n",
        "from sklearn.datasets import load_iris\n",
        "\n",
        "# instanciando o conjunto de dados\n",
        "iris = load_iris()"
      ],
      "execution_count": 294,
      "outputs": []
    },
    {
      "cell_type": "markdown",
      "metadata": {
        "id": "iZdsVqe4F0c2"
      },
      "source": [
        "Após executar essas instruções, não haverá nenhuma mensagem do interpretador. A variável iris deve conter todos os dados do arquivo iris.csv.\n",
        "\n",
        "3. **Crie uma instância do DBSCAN. Digite o seguinte código no interpretador:**"
      ]
    },
    {
      "cell_type": "code",
      "metadata": {
        "id": "96AGAMGUEGbh"
      },
      "source": [
        "# importando o modelo\n",
        "from sklearn.cluster import DBSCAN\n",
        "\n",
        "# instanciando o modelo\n",
        "dbscan = DBSCAN()"
      ],
      "execution_count": 295,
      "outputs": []
    },
    {
      "cell_type": "markdown",
      "metadata": {
        "id": "nI_LOF4OGMN9"
      },
      "source": [
        "A primeira linha de código importa a biblioteca DBSCAN na sessão. A segunda cria uma instância de DBSCAN com valores padrão para eps e min_samples.\n",
        "\n",
        "4. **Verifique quais parâmetros foram usados digitando o seguinte código:**"
      ]
    },
    {
      "cell_type": "code",
      "metadata": {
        "colab": {
          "base_uri": "https://localhost:8080/"
        },
        "id": "QB9EyCKjEGYj",
        "outputId": "099a03ec-ef1d-42c1-c180-aa152bb08166"
      },
      "source": [
        "# visualizando os parâmetros do modelo\n",
        "dbscan"
      ],
      "execution_count": 296,
      "outputs": [
        {
          "output_type": "execute_result",
          "data": {
            "text/plain": [
              "DBSCAN(algorithm='auto', eps=0.5, leaf_size=30, metric='euclidean',\n",
              "       metric_params=None, min_samples=5, n_jobs=None, p=None)"
            ]
          },
          "metadata": {},
          "execution_count": 296
        }
      ]
    },
    {
      "cell_type": "markdown",
      "metadata": {
        "id": "Me67CWIGGd4F"
      },
      "source": [
        "5. **Ajuste os dados Iris no algoritmo de agrupamento DBSCAN digitando:**"
      ]
    },
    {
      "cell_type": "code",
      "metadata": {
        "colab": {
          "base_uri": "https://localhost:8080/"
        },
        "id": "sSI8MVouEGVM",
        "outputId": "0cb1ee94-6b80-4644-a89b-c91666ad8791"
      },
      "source": [
        "# treinando o modelo\n",
        "dbscan.fit(iris['data'])"
      ],
      "execution_count": 297,
      "outputs": [
        {
          "output_type": "execute_result",
          "data": {
            "text/plain": [
              "DBSCAN(algorithm='auto', eps=0.5, leaf_size=30, metric='euclidean',\n",
              "       metric_params=None, min_samples=5, n_jobs=None, p=None)"
            ]
          },
          "metadata": {},
          "execution_count": 297
        }
      ]
    },
    {
      "cell_type": "markdown",
      "metadata": {
        "id": "4vF7MncAGtbF"
      },
      "source": [
        "6. **Para verificar o resultado, digite o seguinte código no interpretador:**"
      ]
    },
    {
      "cell_type": "code",
      "metadata": {
        "colab": {
          "base_uri": "https://localhost:8080/"
        },
        "id": "_7ODg2ClEGSg",
        "outputId": "82e976aa-943f-4332-82ee-f2cba0209820"
      },
      "source": [
        "# visualizando os rótulos criados\n",
        "dbscan.labels_"
      ],
      "execution_count": 298,
      "outputs": [
        {
          "output_type": "execute_result",
          "data": {
            "text/plain": [
              "array([ 0,  0,  0,  0,  0,  0,  0,  0,  0,  0,  0,  0,  0,  0,  0,  0,  0,\n",
              "        0,  0,  0,  0,  0,  0,  0,  0,  0,  0,  0,  0,  0,  0,  0,  0,  0,\n",
              "        0,  0,  0,  0,  0,  0,  0, -1,  0,  0,  0,  0,  0,  0,  0,  0,  1,\n",
              "        1,  1,  1,  1,  1,  1, -1,  1,  1, -1,  1,  1,  1,  1,  1,  1,  1,\n",
              "       -1,  1,  1,  1,  1,  1,  1,  1,  1,  1,  1,  1,  1,  1,  1,  1,  1,\n",
              "        1,  1, -1,  1,  1,  1,  1,  1, -1,  1,  1,  1,  1, -1,  1,  1,  1,\n",
              "        1,  1,  1, -1, -1,  1, -1, -1,  1,  1,  1,  1,  1,  1,  1, -1, -1,\n",
              "        1,  1,  1, -1,  1,  1,  1,  1,  1,  1,  1,  1, -1,  1,  1, -1, -1,\n",
              "        1,  1,  1,  1,  1,  1,  1,  1,  1,  1,  1,  1,  1,  1])"
            ]
          },
          "metadata": {},
          "execution_count": 298
        }
      ]
    },
    {
      "cell_type": "markdown",
      "metadata": {
        "id": "BOK0aGVHG5jl"
      },
      "source": [
        "Se você analisar bem, verá que o DBSCAN produziu três grupos (–1, 0 e 1)."
      ]
    },
    {
      "cell_type": "markdown",
      "metadata": {
        "id": "nrkn9OkWG9Du"
      },
      "source": [
        "### **Visualizando os agrupamentos**\n",
        "\n",
        "Vamos visualizar um gráfico de dispersão da saída do DBSCAN. Digite o seguinte código:"
      ]
    },
    {
      "cell_type": "code",
      "metadata": {
        "id": "R2eCL-1CEGO1"
      },
      "source": [
        "# importando as bibliotecas\n",
        "import pylab as pl\n",
        "from sklearn.decomposition import PCA"
      ],
      "execution_count": 299,
      "outputs": []
    },
    {
      "cell_type": "code",
      "metadata": {
        "id": "B12eggPBEGMN"
      },
      "source": [
        "# aplicando a redução da dimensionalidade, treinando e transformando os dados\n",
        "# pca = PCA(n_components=2).fit(iris['data'])\n",
        "# pca_2d = pca.transform(iris['data'])\n",
        "\n",
        "pca_2d = PCA(n_components=2).fit_transform(iris.data)"
      ],
      "execution_count": 300,
      "outputs": []
    },
    {
      "cell_type": "code",
      "metadata": {
        "colab": {
          "base_uri": "https://localhost:8080/",
          "height": 446
        },
        "id": "So7Pj9GNEGJt",
        "outputId": "fa838401-5db3-4aaa-b371-8e0a679cf03b"
      },
      "source": [
        "# plotando o gráfico\n",
        "\n",
        "pl.figure(figsize=(12, 7))\n",
        "\n",
        "for i in range(0, pca_2d.shape[0]):\n",
        "\n",
        "    if dbscan.labels_[i] == 0:\n",
        "        c1 = pl.scatter(pca_2d[i, 0], pca_2d[i, 1], \n",
        "                        c='r', marker='+')\n",
        "        \n",
        "    elif dbscan.labels_[i] == 1:\n",
        "        c2 = pl.scatter(pca_2d[i, 0], pca_2d[i, 1], \n",
        "                        c='g', marker='o')\n",
        "        \n",
        "    elif dbscan.labels_[i] == -1:\n",
        "        c3 = pl.scatter(pca_2d[i, 0], pca_2d[i, 1], \n",
        "                        c='b', marker='*')\n",
        "        \n",
        "pl.legend([c1,c2,c3], ['Cluster 1', 'Cluster 2', 'Ruído'])\n",
        "pl.title('DBSCAN encontra 2 grupos e ruído', \n",
        "         {'fontsize': 14,'fontweight': 'bold'})\n",
        "pl.show();"
      ],
      "execution_count": 302,
      "outputs": [
        {
          "output_type": "display_data",
          "data": {
            "image/png": "[encoded data removed]",
            "text/plain": [
              "<Figure size 864x504 with 1 Axes>"
            ]
          },
          "metadata": {
            "needs_background": "light"
          }
        }
      ]
    },
    {
      "cell_type": "markdown",
      "metadata": {
        "id": "lDd3MVIuJ0Qv"
      },
      "source": [
        "Você pode ver que o DBSCAN produziu três grupos. Observe, no entanto, que a figura se assemelha a uma solução de dois agrupamentos: ele mostra apenas 17 instâncias de rótulo –1. Isso porque é uma solução de dois agrupamentos; o terceiro grupo (–1) é ruído (atípicos)."
      ]
    },
    {
      "cell_type": "markdown",
      "metadata": {
        "id": "HTwDr4zWJ32z"
      },
      "source": [
        "![image.png](data:image/png;base64,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)"
      ]
    },
    {
      "cell_type": "markdown",
      "metadata": {
        "id": "xsJTN5xdJ9bQ"
      },
      "source": [
        "> Além de aprimorar campanhas de marketing, a análise preditiva pode servir como uma ferramenta para combater fraudes. Muitos setores sofrem com fraudes — o que é muito caro para se combater em larga escala. O ruído nos resultados do DBSCAN pode indicar que há algo anormal ou suspeito nessas ocorrências. O pensamento é o de que a fraude é incomum e não acontece tanto quanto as transações normais. Assim, um algoritmo de detecção de atípicos procura eventos que estão fora dos padrões regulares para detectar fraudes.\n",
        "\n",
        "Você pode aumentar o parâmetro de distância (eps) da configuração padrão de 0.5 para 0.9, e isso se tornará uma solução de dois agrupamentos sem ruído. O parâmetro distância é a distância máxima que uma observação está do agrupamento mais próximo. Quanto maior o valor do parâmetro distância, menos agrupamentos são encontrados, porque eles acabam se mesclando uns com os outros. Os rótulos –1 estão espalhados pelo Agrupamento 1 e Agrupamento 2 em alguns locais:\n",
        "\n",
        "- Perto das bordas do Agrupamento 2 (classes Versicolor e Virginica).\n",
        "- Perto do centroide do Agrupamento 2 (classes Versicolor e Virginica).\n",
        "\n",
        "    ![image.png](data:image/png;base64,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)\n",
        "\n",
        "    > O gráfico mostra apenas uma representação bidimensional dos dados. A distância também pode ser medida em dimensões mais altas.\n",
        "\n",
        "- Uma instância acima do Agrupamento 1 (a classe Setosa)."
      ]
    },
    {
      "cell_type": "markdown",
      "metadata": {
        "id": "HP-ab2qAKaK-"
      },
      "source": [
        "### **Avaliando o modelo**\n",
        "\n",
        "Nesse exemplo, o DBSCAN não produziu o resultado ideal com os parâmetros padrão do conjunto de dados Iris. Seu desempenho foi bastante consistente com outros algoritmos de agrupamento que acabam com uma solução de dois agrupamentos. O conjunto de dados Iris não tira proveito dos recursos mais poderosos do DBSCAN — detecção de ruído e capacidade de descobrir agrupamentos de formatos arbitrários."
      ]
    },
    {
      "cell_type": "markdown",
      "metadata": {
        "id": "xzUvIn-PKgcF"
      },
      "source": [
        "## **Criando um modelo de aprendizado não supervisionado com mean shift**\n",
        "\n",
        "Outro algoritmo de agrupamento oferecido no scikit-learn é o mean shift. Esse algoritmo, assim como o DBSCAN, não requer que você especifique o número de agrupamentos ou qualquer outro parâmetro ao criar o modelo. O principal parâmetro de ajuste para esse algoritmo se chama bandwidth. Você pode pensar em bandwidth (largura de banda) como o processo de escolher o tamanho de uma janela redonda capaz de abranger os pontos de dados em um agrupamento. Escolher um valor para a largura de banda não é trivial, então vamos com o padrão."
      ]
    },
    {
      "cell_type": "markdown",
      "metadata": {
        "id": "ciLpTqyLKsMZ"
      },
      "source": [
        "### **Executando o conjunto de dados completo**\n",
        "\n",
        "Os passos para criar um modelo com um algoritmo diferente são essencialmente os mesmos todas as vezes. Se você está acompanhando este capítulo ou desde o Capítulo 12, provavelmente já terá quase tudo configurado. As etapas são semelhantes às etapas para criar o modelo com K-means:\n",
        "\n",
        "1. **Abra uma nova sessão do shell interativo do Python.**\n",
        " - Use uma nova sessão do Python para que a memória esteja liberada e você tenha uma estrutura limpa para trabalhar.\n",
        "\n",
        "2. **Cole o seguinte código no prompt e observe a saída:**"
      ]
    },
    {
      "cell_type": "code",
      "metadata": {
        "id": "pN_LOqI_EGHE"
      },
      "source": [
        "# importando o conjunto de dados\n",
        "from sklearn.datasets import load_iris\n",
        "\n",
        "# instanciando o conjunto de dados\n",
        "iris = load_iris()"
      ],
      "execution_count": 303,
      "outputs": []
    },
    {
      "cell_type": "markdown",
      "metadata": {
        "id": "peifSLHqLC57"
      },
      "source": [
        "3. **Crie uma instância de mean shift. Digite o seguinte código no interpretador:**\n"
      ]
    },
    {
      "cell_type": "code",
      "metadata": {
        "id": "l4ax8MUjEGEV"
      },
      "source": [
        "# importando o modelo\n",
        "from sklearn.cluster import MeanShift\n",
        "\n",
        "# instanciando o modelo\n",
        "ms = MeanShift()"
      ],
      "execution_count": 304,
      "outputs": []
    },
    {
      "cell_type": "markdown",
      "metadata": {
        "id": "wKtk0dExLW0k"
      },
      "source": [
        "Mean shift criado com valor padrão para bandwidth.\n",
        "\n",
        "4. **Verifique quais parâmetros foram usados digitando o seguinte código no interpretador:**"
      ]
    },
    {
      "cell_type": "code",
      "metadata": {
        "colab": {
          "base_uri": "https://localhost:8080/"
        },
        "id": "UV900u3oEGB4",
        "outputId": "98b7625e-d7bd-440a-d540-e144da6b3e4b"
      },
      "source": [
        "# visualizando os parâmtros do modelo\n",
        "ms"
      ],
      "execution_count": 305,
      "outputs": [
        {
          "output_type": "execute_result",
          "data": {
            "text/plain": [
              "MeanShift(bandwidth=None, bin_seeding=False, cluster_all=True, max_iter=300,\n",
              "          min_bin_freq=1, n_jobs=None, seeds=None)"
            ]
          },
          "metadata": {},
          "execution_count": 305
        }
      ]
    },
    {
      "cell_type": "markdown",
      "metadata": {
        "id": "9bKT4YOzLjWq"
      },
      "source": [
        "5. **Ajustar os dados Iris no algoritmo de agrupamento mean shift digitando o seguinte código no interpretador:**"
      ]
    },
    {
      "cell_type": "code",
      "metadata": {
        "colab": {
          "base_uri": "https://localhost:8080/"
        },
        "id": "y0FAXkWcEF_L",
        "outputId": "b20e09ae-1679-4dc3-e4f0-8ae2962a1f80"
      },
      "source": [
        "# treinando o modelo\n",
        "ms.fit(iris['data'])"
      ],
      "execution_count": 306,
      "outputs": [
        {
          "output_type": "execute_result",
          "data": {
            "text/plain": [
              "MeanShift(bandwidth=None, bin_seeding=False, cluster_all=True, max_iter=300,\n",
              "          min_bin_freq=1, n_jobs=None, seeds=None)"
            ]
          },
          "metadata": {},
          "execution_count": 306
        }
      ]
    },
    {
      "cell_type": "markdown",
      "metadata": {
        "id": "74dsvy8BLvhN"
      },
      "source": [
        "6. **Para verificar o resultado, digite o seguinte código no interpretador:**"
      ]
    },
    {
      "cell_type": "code",
      "metadata": {
        "colab": {
          "base_uri": "https://localhost:8080/"
        },
        "id": "XUaOLP1ZLtGT",
        "outputId": "7a7b7121-26f0-46a7-ae42-a39763f1acb1"
      },
      "source": [
        "# visualizando os rótulos criados pelo modelo\n",
        "ms.labels_"
      ],
      "execution_count": 307,
      "outputs": [
        {
          "output_type": "execute_result",
          "data": {
            "text/plain": [
              "array([1, 1, 1, 1, 1, 1, 1, 1, 1, 1, 1, 1, 1, 1, 1, 1, 1, 1, 1, 1, 1, 1,\n",
              "       1, 1, 1, 1, 1, 1, 1, 1, 1, 1, 1, 1, 1, 1, 1, 1, 1, 1, 1, 1, 1, 1,\n",
              "       1, 1, 1, 1, 1, 1, 0, 0, 0, 0, 0, 0, 0, 0, 0, 0, 0, 0, 0, 0, 0, 0,\n",
              "       0, 0, 0, 0, 0, 0, 0, 0, 0, 0, 0, 0, 0, 0, 0, 0, 0, 0, 0, 0, 0, 0,\n",
              "       0, 0, 0, 0, 0, 0, 0, 0, 0, 0, 1, 0, 0, 0, 0, 0, 0, 0, 0, 0, 0, 0,\n",
              "       0, 0, 0, 0, 0, 0, 0, 0, 0, 0, 0, 0, 0, 0, 0, 0, 0, 0, 0, 0, 0, 0,\n",
              "       0, 0, 0, 0, 0, 0, 0, 0, 0, 0, 0, 0, 0, 0, 0, 0, 0, 0])"
            ]
          },
          "metadata": {},
          "execution_count": 307
        }
      ]
    },
    {
      "cell_type": "markdown",
      "metadata": {
        "id": "UUDLFRBkL4gM"
      },
      "source": [
        "O mean shift produziu dois agrupamentos (0 e 1)."
      ]
    },
    {
      "cell_type": "markdown",
      "metadata": {
        "id": "pidkC5OSL8mj"
      },
      "source": [
        "### **Visualizando os agrupamentos**\n",
        "\n",
        "Um gráfico de dispersão é uma boa maneira de visualizar a relação entre um grande número de pontos de dados. É útil para identificar visualmente agrupamentos de dados e encontrar pontos de dados distantes dos agrupamentos formados.\n",
        "\n",
        "Vamos produzir um gráfico de dispersão da saída do DBSCAN. Digite o seguinte código:"
      ]
    },
    {
      "cell_type": "code",
      "metadata": {
        "id": "hW60v-xILtBA"
      },
      "source": [
        "# importando as bibliotecas\n",
        "import pylab as pl\n",
        "from sklearn.decomposition import PCA"
      ],
      "execution_count": 308,
      "outputs": []
    },
    {
      "cell_type": "code",
      "metadata": {
        "id": "I3Wm1hVDLs8r"
      },
      "source": [
        "# instanciando o modelo, setando número de componentes e treinando com os dados\n",
        "pca = PCA(n_components=2).fit(iris.data)\n",
        "\n",
        "# aplicando a redução da dimensionalidade com o modelo\n",
        "pca_2d = pca.transform(iris.data)"
      ],
      "execution_count": 309,
      "outputs": []
    },
    {
      "cell_type": "code",
      "metadata": {
        "colab": {
          "base_uri": "https://localhost:8080/",
          "height": 462
        },
        "id": "CLgb8PQhLs4H",
        "outputId": "d6e44dd2-d7c6-43fd-b13c-3e92177efdbe"
      },
      "source": [
        "# plotando o gráfico\n",
        "\n",
        "pl.figure(figsize=(12, 7))\n",
        "\n",
        "for i in range(0, pca_2d.shape[0]):\n",
        "\n",
        "    if ms.labels_[i] == 0:\n",
        "        c1 = pl.scatter(pca_2d[i, 0], pca_2d[i, 1], \n",
        "                        c='r', marker='+')\n",
        "        \n",
        "    elif ms.labels_[i] == 1:\n",
        "        c1 = pl.scatter(pca_2d[i, 0], pca_2d[i, 1], \n",
        "                        c='g', marker='o')\n",
        "        \n",
        "pl.legend([c1, c2], ['Cluster 1', 'Cluster 2'])\n",
        "pl.title('Mean shift encontra 2 grupos\\n', \n",
        "         {'fontsize': 14,'fontweight': 'bold'})\n",
        "pl.show();"
      ],
      "execution_count": 311,
      "outputs": [
        {
          "output_type": "display_data",
          "data": {
            "image/png": "[encoded data removed]",
            "text/plain": [
              "<Figure size 864x504 with 1 Axes>"
            ]
          },
          "metadata": {
            "needs_background": "light"
          }
        }
      ]
    },
    {
      "cell_type": "markdown",
      "metadata": {
        "id": "REAysw1GOb5o"
      },
      "source": [
        "A Figura mostra que o mean shift encontrou dois agrupamentos. Você pode tentar ajustar o modelo com o parâmetro bandwidth para ver se é possível obter uma solução de três agrupamentos. O mean shift é muito sensível ao parâmetro bandwidth:\n",
        "\n",
        "- Se o valor escolhido for muito grande, os agrupamentos tenderão a se combinar, e a saída final será um número menor de agrupamentos do que o desejado.\n",
        "- Se o valor escolhido for muito pequeno, o algoritmo pode produzir muitos agrupamentos e levará mais tempo para ser executado."
      ]
    },
    {
      "cell_type": "markdown",
      "metadata": {
        "id": "LSPrk9QQOtUp"
      },
      "source": [
        "### **Avaliando o modelo**\n",
        "\n",
        "O mean shift não produziu os resultados ideais com os parâmetros padrão para o conjunto de dados Iris, mas uma solução de dois agrupamentos está alinhada com outros algoritmos de agrupamento. Cada projeto tem que ser examinado individualmente para que se veja qual número de agrupamentos melhor se encaixa no problema de negócios. O benefício óbvio de usar o mean shift é que você não precisa predeterminar o número de agrupamentos. Na verdade, você pode usar o mean shift como uma ferramenta para encontrar o número de agrupamentos para criar um modelo K-means. O mean shift é frequentemente usado para aplicações de visão computacional porque é bom em dimensões mais baixas e acomoda agrupamentos de qualquer formato e tamanho."
      ]
    },
    {
      "cell_type": "code",
      "metadata": {
        "id": "ExXtCh-YLszS"
      },
      "source": [
        ""
      ],
      "execution_count": null,
      "outputs": []
    },
    {
      "cell_type": "code",
      "metadata": {
        "id": "-0Pf06nkLstm"
      },
      "source": [
        ""
      ],
      "execution_count": null,
      "outputs": []
    },
    {
      "cell_type": "code",
      "metadata": {
        "id": "3UIaYQ0jEF8a"
      },
      "source": [
        ""
      ],
      "execution_count": null,
      "outputs": []
    }
  ]
}